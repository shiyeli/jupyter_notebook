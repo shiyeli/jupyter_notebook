{
 "cells": [
  {
   "cell_type": "code",
   "execution_count": 3,
   "metadata": {},
   "outputs": [],
   "source": [
    "import pandas as pd\n",
    "\n",
    "import datetime\n",
    "from collections import Counter\n",
    "import math\n",
    "path='/Users/yexianyong/Downloads/福年-11月原始打卡数据.xlsx'\n",
    "# data=pd.read_excel(path)\n",
    "# data = data[(data['姓名'] == \"叶显勇\")]\n",
    "# # print(data)\n",
    "\n",
    "# index = data.index[3]\n",
    "\n",
    "\n",
    "# on_date=datetime.datetime.strptime('2017/11/2 09:33:18','%Y/%m/%d %H:%M:%S')\n",
    "# off_date=datetime.datetime.strptime('2017/11/2 18:53:18','%Y/%m/%d %H:%M:%S')\n",
    "# duration=off_date-on_date\n",
    "# hours=(duration.days*24*60+duration.seconds/60.0)/60.0\n",
    "# if on_date.hour<12 and off_date.hour >13:\n",
    "#     hours=hours-1\n",
    "# print (math.ceil(8-hours))\n",
    "\n",
    "# print(on_date.hour-9,on_date.minute)\n",
    "    \n",
    "    \n",
    "# print(type(off_date))\n",
    "\n",
    "      "
   ]
  },
  {
   "cell_type": "code",
   "execution_count": 6,
   "metadata": {},
   "outputs": [
    {
     "name": "stdout",
     "output_type": "stream",
     "text": [
      "      data1     data2 key1   key2\n",
      "0  0.709084  0.039947    a    one\n",
      "1  0.413252 -1.275710    b    one\n",
      "2 -0.373849 -0.068325    a    two\n",
      "3  0.046786 -0.231844    b  three\n",
      "4 -0.483786  1.191283    a    two\n",
      "5  0.786489 -0.097173    b    two\n",
      "6 -0.182682  0.507327    a    one\n",
      "7 -0.588818  1.892286    a  three\n"
     ]
    }
   ],
   "source": [
    "#help document:https://www.jianshu.com/p/4345878fb316\n",
    "import numpy as np\n",
    "dict_obj = {'key1' : ['a', 'b', 'a', 'b', \n",
    "                      'a', 'b', 'a', 'a'],\n",
    "            'key2' : ['one', 'one', 'two', 'three',\n",
    "                      'two', 'two', 'one', 'three'],\n",
    "            'data1': np.random.randn(8),\n",
    "            'data2': np.random.randn(8)}\n",
    "df_obj=pd.DataFrame(dict_obj)\n",
    "print(df_obj)\n"
   ]
  },
  {
   "cell_type": "code",
   "execution_count": 12,
   "metadata": {},
   "outputs": [
    {
     "name": "stdout",
     "output_type": "stream",
     "text": [
      "         data1     data2\n",
      "key1                    \n",
      "a    -0.184010  0.712504\n",
      "b     0.415509 -0.534909\n",
      "key1\n",
      "a   -0.184010\n",
      "b    0.415509\n",
      "Name: data1, dtype: float64\n",
      "key1\n",
      "a    5\n",
      "b    3\n",
      "dtype: int64 key1\n",
      "a    5\n",
      "b    3\n",
      "Name: data1, dtype: int64\n"
     ]
    }
   ],
   "source": [
    "group1=df_obj.groupby('key1')\n",
    "print(group1.mean())\n",
    "group2=df_obj['data1'].groupby(df_obj['key1'])\n",
    "print (group2.mean())\n",
    "print(group1.size(),group2.size())"
   ]
  },
  {
   "cell_type": "code",
   "execution_count": null,
   "metadata": {},
   "outputs": [],
   "source": []
  }
 ],
 "metadata": {
  "kernelspec": {
   "display_name": "Python 3",
   "language": "python",
   "name": "python3"
  },
  "language_info": {
   "codemirror_mode": {
    "name": "ipython",
    "version": 3
   },
   "file_extension": ".py",
   "mimetype": "text/x-python",
   "name": "python",
   "nbconvert_exporter": "python",
   "pygments_lexer": "ipython3",
   "version": "3.6.1"
  }
 },
 "nbformat": 4,
 "nbformat_minor": 2
}
