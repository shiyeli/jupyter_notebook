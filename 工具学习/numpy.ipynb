{
 "cells": [
  {
   "cell_type": "code",
   "execution_count": 1,
   "metadata": {},
   "outputs": [
    {
     "name": "stdout",
     "output_type": "stream",
     "text": [
      "[[[1 1 1 1]\n",
      "  [1 1 1 1]\n",
      "  [1 1 1 1]]\n",
      "\n",
      " [[1 1 1 1]\n",
      "  [1 1 1 1]\n",
      "  [1 1 1 1]]]\n",
      "[[0. 0. 0. 0.]\n",
      " [0. 0. 0. 0.]\n",
      " [0. 0. 0. 0.]]\n",
      "[[1.39069238e-309 1.39069238e-309 1.39069238e-309]\n",
      " [1.39069238e-309 1.39069238e-309 1.39069238e-309]]\n"
     ]
    }
   ],
   "source": [
    "#https://docs.scipy.org/doc/numpy-dev/user/quickstart.html\n",
    "import numpy as np\n",
    "\n",
    "print(np.ones((2,3,4),dtype=np.int16))\n",
    "print(np.zeros((3,4)))\n",
    "print(np.empty((2,3)))"
   ]
  },
  {
   "cell_type": "code",
   "execution_count": 2,
   "metadata": {},
   "outputs": [
    {
     "name": "stdout",
     "output_type": "stream",
     "text": [
      "[10 15 20 25]\n",
      "[0.  0.3 0.6 0.9 1.2 1.5 1.8]\n",
      "[1.    1.125 1.25  1.375 1.5   1.625 1.75  1.875 2.   ]\n",
      "[ 0.00000000e+00  6.34239197e-02  1.26592454e-01  1.89251244e-01\n",
      "  2.51147987e-01  3.12033446e-01  3.71662456e-01  4.29794912e-01\n",
      "  4.86196736e-01  5.40640817e-01  5.92907929e-01  6.42787610e-01\n",
      "  6.90079011e-01  7.34591709e-01  7.76146464e-01  8.14575952e-01\n",
      "  8.49725430e-01  8.81453363e-01  9.09631995e-01  9.34147860e-01\n",
      "  9.54902241e-01  9.71811568e-01  9.84807753e-01  9.93838464e-01\n",
      "  9.98867339e-01  9.99874128e-01  9.96854776e-01  9.89821442e-01\n",
      "  9.78802446e-01  9.63842159e-01  9.45000819e-01  9.22354294e-01\n",
      "  8.95993774e-01  8.66025404e-01  8.32569855e-01  7.95761841e-01\n",
      "  7.55749574e-01  7.12694171e-01  6.66769001e-01  6.18158986e-01\n",
      "  5.67059864e-01  5.13677392e-01  4.58226522e-01  4.00930535e-01\n",
      "  3.42020143e-01  2.81732557e-01  2.20310533e-01  1.58001396e-01\n",
      "  9.50560433e-02  3.17279335e-02 -3.17279335e-02 -9.50560433e-02\n",
      " -1.58001396e-01 -2.20310533e-01 -2.81732557e-01 -3.42020143e-01\n",
      " -4.00930535e-01 -4.58226522e-01 -5.13677392e-01 -5.67059864e-01\n",
      " -6.18158986e-01 -6.66769001e-01 -7.12694171e-01 -7.55749574e-01\n",
      " -7.95761841e-01 -8.32569855e-01 -8.66025404e-01 -8.95993774e-01\n",
      " -9.22354294e-01 -9.45000819e-01 -9.63842159e-01 -9.78802446e-01\n",
      " -9.89821442e-01 -9.96854776e-01 -9.99874128e-01 -9.98867339e-01\n",
      " -9.93838464e-01 -9.84807753e-01 -9.71811568e-01 -9.54902241e-01\n",
      " -9.34147860e-01 -9.09631995e-01 -8.81453363e-01 -8.49725430e-01\n",
      " -8.14575952e-01 -7.76146464e-01 -7.34591709e-01 -6.90079011e-01\n",
      " -6.42787610e-01 -5.92907929e-01 -5.40640817e-01 -4.86196736e-01\n",
      " -4.29794912e-01 -3.71662456e-01 -3.12033446e-01 -2.51147987e-01\n",
      " -1.89251244e-01 -1.26592454e-01 -6.34239197e-02 -2.44929360e-16]\n"
     ]
    }
   ],
   "source": [
    "print(np.arange(10,30,5))\n",
    "print(np.arange(0,2,0.3))\n",
    "\n",
    "#从1到2之间，等分成9个\n",
    "print(np.linspace(1,2,9))\n",
    "\n",
    "from numpy import pi\n",
    "x=np.linspace(0,2*pi,100)\n",
    "f=np.sin(x)\n",
    "print(f)"
   ]
  },
  {
   "cell_type": "code",
   "execution_count": 3,
   "metadata": {},
   "outputs": [
    {
     "name": "stdout",
     "output_type": "stream",
     "text": [
      "[[[ 0  1  2  3]\n",
      "  [ 4  5  6  7]\n",
      "  [ 8  9 10 11]]\n",
      "\n",
      " [[12 13 14 15]\n",
      "  [16 17 18 19]\n",
      "  [20 21 22 23]]]\n"
     ]
    }
   ],
   "source": [
    "c = np.arange(24).reshape(2,3,4)\n",
    "print(c)\n"
   ]
  },
  {
   "cell_type": "code",
   "execution_count": 4,
   "metadata": {},
   "outputs": [
    {
     "data": {
      "text/plain": [
       "(array([1, 2, 3, 4, 5]), array([1, 2, 3, 4, 5]))"
      ]
     },
     "execution_count": 4,
     "metadata": {},
     "output_type": "execute_result"
    }
   ],
   "source": [
    "a=np.array([1,2,3,4,5])\n",
    "a,a.T"
   ]
  },
  {
   "cell_type": "code",
   "execution_count": 5,
   "metadata": {},
   "outputs": [
    {
     "data": {
      "text/plain": [
       "(array([[ 5. ],\n",
       "        [ 3. ],\n",
       "        [ 8. ],\n",
       "        [ 1.4],\n",
       "        [10.1]]), array([[ 5. ,  3. ,  8. ,  1.4, 10.1]]))"
      ]
     },
     "execution_count": 5,
     "metadata": {},
     "output_type": "execute_result"
    }
   ],
   "source": [
    "years=np.array([[5], [3], [8], [1.4], [10.1]])\n",
    "years,years.T"
   ]
  },
  {
   "cell_type": "code",
   "execution_count": 6,
   "metadata": {},
   "outputs": [
    {
     "data": {
      "text/plain": [
       "array([[[1, 2, 3],\n",
       "        [4, 5, 6]]])"
      ]
     },
     "execution_count": 6,
     "metadata": {},
     "output_type": "execute_result"
    }
   ],
   "source": [
    "#append\n",
    "#将base想象成一张图片\n",
    "base=np.array([[[1, 2, 3],\n",
    "                      [4, 5, 6]]])\n",
    "base"
   ]
  },
  {
   "cell_type": "code",
   "execution_count": 7,
   "metadata": {},
   "outputs": [
    {
     "data": {
      "text/plain": [
       "array([[[1, 2, 3],\n",
       "        [4, 5, 6],\n",
       "        [7, 8, 9]]])"
      ]
     },
     "execution_count": 7,
     "metadata": {},
     "output_type": "execute_result"
    }
   ],
   "source": [
    "#横向添加：增加图片宽度\n",
    "np.append(base,[[[7,8,9]]],axis=1)"
   ]
  },
  {
   "cell_type": "code",
   "execution_count": 8,
   "metadata": {},
   "outputs": [
    {
     "data": {
      "text/plain": [
       "array([[[ 1,  2,  3],\n",
       "        [ 4,  5,  6]],\n",
       "\n",
       "       [[ 7,  8,  9],\n",
       "        [10, 11, 12]]])"
      ]
     },
     "execution_count": 8,
     "metadata": {},
     "output_type": "execute_result"
    }
   ],
   "source": [
    "#纵向添加，增加图片高度\n",
    "np.append(base,[[[7,8,9],[10,11,12]]],axis=0)"
   ]
  },
  {
   "cell_type": "code",
   "execution_count": 9,
   "metadata": {},
   "outputs": [
    {
     "data": {
      "text/plain": [
       "array([[[ 1,  2,  3],\n",
       "        [ 4,  5,  6],\n",
       "        [13, 14, 15]]])"
      ]
     },
     "execution_count": 9,
     "metadata": {},
     "output_type": "execute_result"
    }
   ],
   "source": [
    "#增加图片宽度np.concatenate()——连结\n",
    "np.concatenate((base,[[[13,14,15]]]),axis=1)"
   ]
  },
  {
   "cell_type": "code",
   "execution_count": 10,
   "metadata": {},
   "outputs": [],
   "source": [
    "#增加图片深度np.concatenate()\n",
    "# np.concatenate((base,np.array([[[13,14]]]).T),axis=2)"
   ]
  },
  {
   "cell_type": "code",
   "execution_count": 11,
   "metadata": {},
   "outputs": [
    {
     "data": {
      "text/plain": [
       "(array([[1, 2, 3],\n",
       "        [4, 5, 6]]), array([[ 7,  8,  9],\n",
       "        [10, 11, 12]]), array([[13, 14, 15],\n",
       "        [16, 17, 18]]))"
      ]
     },
     "execution_count": 11,
     "metadata": {},
     "output_type": "execute_result"
    }
   ],
   "source": [
    "#图片通道合成\n",
    "red=np.array([[1,2,3],[4,5,6]])\n",
    "green=np.array([[7,8,9],[10,11,12]])\n",
    "blue=np.array([[13,14,15],[16,17,18]])\n",
    "red,green,blue"
   ]
  },
  {
   "cell_type": "code",
   "execution_count": 12,
   "metadata": {},
   "outputs": [],
   "source": [
    "#接下来呢？\n"
   ]
  },
  {
   "cell_type": "code",
   "execution_count": 13,
   "metadata": {},
   "outputs": [
    {
     "data": {
      "text/plain": [
       "array([[0.4, 1. , 1.6, 0.6],\n",
       "       [1.5, 3.1, 4.3, 1.9],\n",
       "       [3.3, 6.1, 7.3, 3.1],\n",
       "       [1.8, 3.9, 4.5, 2.4]])"
      ]
     },
     "execution_count": 13,
     "metadata": {},
     "output_type": "execute_result"
    }
   ],
   "source": [
    "#2d卷积计算signal.convolve2d()\n",
    "#https://docs.scipy.org/doc/scipy/reference/generated/scipy.signal.convolve2d.html\n",
    "from scipy import signal\n",
    "input_layer=np.array([[1,2,3],[3,4,5],[6,7,8]])\n",
    "weights=np.array([[0.4,0.2],[0.3,0.3]])\n",
    "signal.convolve(input_layer,weights)"
   ]
  },
  {
   "cell_type": "code",
   "execution_count": 14,
   "metadata": {
    "scrolled": false
   },
   "outputs": [
    {
     "data": {
      "text/plain": [
       "array([[[3, 4, 4],\n",
       "        [6, 7, 7],\n",
       "        [7, 9, 9]],\n",
       "\n",
       "       [[3, 4, 4],\n",
       "        [6, 7, 7],\n",
       "        [7, 9, 9]]])"
      ]
     },
     "execution_count": 14,
     "metadata": {},
     "output_type": "execute_result"
    }
   ],
   "source": [
    "#nd卷积计算\n",
    "#https://docs.scipy.org/doc/scipy-0.14.0/reference/generated/scipy.ndimage.filters.convolve.html\n",
    "#scipy.ndimage.filters.convolve(input, weights, output=None, mode='reflect', cval=0.0, origin=0)[source]\n",
    "import scipy\n",
    "\n",
    "input_layer=np.array([[[1,2,3],[3,4,5],[6,7,8]],[[1,2,3],[3,4,5],[6,7,8]]])\n",
    "weights=np.array([[[0.4,0.2],[0.3,0.3]]])\n",
    "scipy.ndimage.filters.convolve(input_layer,weights)\n"
   ]
  },
  {
   "cell_type": "markdown",
   "metadata": {},
   "source": [
    "# np.delete/insert/append"
   ]
  },
  {
   "cell_type": "code",
   "execution_count": 18,
   "metadata": {},
   "outputs": [
    {
     "data": {
      "text/plain": [
       "array([[ 0,  1,  2,  3],\n",
       "       [ 4,  5,  6,  7],\n",
       "       [ 8,  9, 10, 11]])"
      ]
     },
     "execution_count": 18,
     "metadata": {},
     "output_type": "execute_result"
    }
   ],
   "source": [
    "\n",
    "arr=np.array(np.arange(12).reshape([3,4]))\n",
    "arr"
   ]
  },
  {
   "cell_type": "code",
   "execution_count": 19,
   "metadata": {},
   "outputs": [
    {
     "data": {
      "text/plain": [
       "array([[ 8,  9, 10, 11]])"
      ]
     },
     "execution_count": 19,
     "metadata": {},
     "output_type": "execute_result"
    }
   ],
   "source": [
    "np.delete(arr,[0,1],axis=0)"
   ]
  },
  {
   "cell_type": "code",
   "execution_count": 20,
   "metadata": {},
   "outputs": [
    {
     "data": {
      "text/plain": [
       "array([[ 2,  3],\n",
       "       [ 6,  7],\n",
       "       [10, 11]])"
      ]
     },
     "execution_count": 20,
     "metadata": {},
     "output_type": "execute_result"
    }
   ],
   "source": [
    "np.delete(arr,[0,1],axis=1)"
   ]
  },
  {
   "cell_type": "code",
   "execution_count": 21,
   "metadata": {},
   "outputs": [
    {
     "data": {
      "text/plain": [
       "array([[ 0,  1, 11,  2,  3],\n",
       "       [ 4,  5, 12,  6,  7],\n",
       "       [ 8,  9, 13, 10, 11]])"
      ]
     },
     "execution_count": 21,
     "metadata": {},
     "output_type": "execute_result"
    }
   ],
   "source": [
    "#np.insert(目标数组，插入位置，插入值，插入维度)\n",
    "np.insert(arr,2,[11,12,13],axis=1)"
   ]
  },
  {
   "cell_type": "code",
   "execution_count": 23,
   "metadata": {},
   "outputs": [
    {
     "data": {
      "text/plain": [
       "array([[ 0,  1,  2,  3],\n",
       "       [ 4,  5,  6,  7],\n",
       "       [ 8,  9, 10, 11],\n",
       "       [ 1,  2,  3,  4]])"
      ]
     },
     "execution_count": 23,
     "metadata": {},
     "output_type": "execute_result"
    }
   ],
   "source": [
    "#np.append()\n",
    "np.append(arr,[[1,2,3,4]],axis=0)"
   ]
  },
  {
   "cell_type": "code",
   "execution_count": 27,
   "metadata": {},
   "outputs": [
    {
     "data": {
      "text/plain": [
       "array([[ 0,  1,  2,  3,  1],\n",
       "       [ 4,  5,  6,  7,  2],\n",
       "       [ 8,  9, 10, 11,  3]])"
      ]
     },
     "execution_count": 27,
     "metadata": {},
     "output_type": "execute_result"
    }
   ],
   "source": [
    "np.append(arr,[[1],[2],[3]],axis=1)"
   ]
  },
  {
   "cell_type": "markdown",
   "metadata": {},
   "source": [
    "# 按照条件修改部分数据"
   ]
  },
  {
   "cell_type": "code",
   "execution_count": 36,
   "metadata": {},
   "outputs": [
    {
     "data": {
      "text/plain": [
       "array([[ 3, -3,  0,  2, -4],\n",
       "       [ 4, -5, -1, -5,  0],\n",
       "       [ 4,  3,  1, -1,  0],\n",
       "       [ 3, -4,  2,  3, -5],\n",
       "       [ 3, -5,  1, -1, -4]])"
      ]
     },
     "execution_count": 36,
     "metadata": {},
     "output_type": "execute_result"
    }
   ],
   "source": [
    "arr=np.random.randint(-5,5,(5,5))\n",
    "arr"
   ]
  },
  {
   "cell_type": "code",
   "execution_count": 37,
   "metadata": {},
   "outputs": [
    {
     "data": {
      "text/plain": [
       "array([[3, 0, 0, 2, 0],\n",
       "       [4, 0, 0, 0, 0],\n",
       "       [4, 3, 1, 0, 0],\n",
       "       [3, 0, 2, 3, 0],\n",
       "       [3, 0, 1, 0, 0]])"
      ]
     },
     "execution_count": 37,
     "metadata": {},
     "output_type": "execute_result"
    }
   ],
   "source": [
    "#将小于0的数据替换成0\n",
    "np.maximum(arr,0)"
   ]
  },
  {
   "cell_type": "code",
   "execution_count": 38,
   "metadata": {},
   "outputs": [
    {
     "data": {
      "text/plain": [
       "array([[3, 0, 0, 2, 0],\n",
       "       [4, 0, 0, 0, 0],\n",
       "       [4, 3, 1, 0, 0],\n",
       "       [3, 0, 2, 3, 0],\n",
       "       [3, 0, 1, 0, 0]])"
      ]
     },
     "execution_count": 38,
     "metadata": {},
     "output_type": "execute_result"
    }
   ],
   "source": [
    "test=arr.copy()\n",
    "test[test<0]=0\n",
    "test"
   ]
  },
  {
   "cell_type": "code",
   "execution_count": 39,
   "metadata": {
    "scrolled": true
   },
   "outputs": [
    {
     "data": {
      "text/plain": [
       "array([[1, 0, 0, 4, 0],\n",
       "       [1, 0, 0, 0, 0],\n",
       "       [1, 2, 3, 0, 0],\n",
       "       [1, 0, 3, 4, 0],\n",
       "       [1, 0, 3, 0, 0]])"
      ]
     },
     "execution_count": 39,
     "metadata": {},
     "output_type": "execute_result"
    }
   ],
   "source": [
    "np.where(arr>0,a,0)"
   ]
  },
  {
   "cell_type": "markdown",
   "metadata": {},
   "source": [
    "# numpy random\n",
    "https://docs.scipy.org/doc/numpy/reference/routines.random.html"
   ]
  },
  {
   "cell_type": "code",
   "execution_count": 67,
   "metadata": {},
   "outputs": [
    {
     "data": {
      "text/plain": [
       "array([[[0.21279393, 0.65328924, 0.55629843],\n",
       "        [0.24446369, 0.67812534, 0.18769472]]])"
      ]
     },
     "execution_count": 67,
     "metadata": {},
     "output_type": "execute_result"
    }
   ],
   "source": [
    "np.random.rand(1,2,3)"
   ]
  },
  {
   "cell_type": "code",
   "execution_count": 68,
   "metadata": {},
   "outputs": [
    {
     "data": {
      "text/plain": [
       "array([[[-0.15286603,  0.22408311, -0.00435165],\n",
       "        [ 0.48551582,  2.26549273, -1.10350127]]])"
      ]
     },
     "execution_count": 68,
     "metadata": {},
     "output_type": "execute_result"
    }
   ],
   "source": [
    "#正态分布\n",
    "np.random.randn(1,2,3)"
   ]
  },
  {
   "cell_type": "code",
   "execution_count": 71,
   "metadata": {},
   "outputs": [
    {
     "data": {
      "text/plain": [
       "array([[-4,  3, -1, -5, -2],\n",
       "       [ 1,  0,  0, -2,  4],\n",
       "       [-1,  4, -1, -5,  1],\n",
       "       [-3, -1, -4, -5, -1],\n",
       "       [ 1,  0, -5,  4,  3]])"
      ]
     },
     "execution_count": 71,
     "metadata": {},
     "output_type": "execute_result"
    }
   ],
   "source": [
    "np.random.randint(-5,5,(5,5))"
   ]
  },
  {
   "cell_type": "code",
   "execution_count": 72,
   "metadata": {},
   "outputs": [
    {
     "name": "stderr",
     "output_type": "stream",
     "text": [
      "/Library/Frameworks/Python.framework/Versions/3.6/lib/python3.6/site-packages/ipykernel_launcher.py:1: DeprecationWarning: This function is deprecated. Please call randint(-5, 5 + 1) instead\n",
      "  \"\"\"Entry point for launching an IPython kernel.\n"
     ]
    },
    {
     "data": {
      "text/plain": [
       "array([[ 1, -4,  2,  5, -5],\n",
       "       [-2,  0, -4,  2,  0],\n",
       "       [ 1, -1, -4,  3,  0],\n",
       "       [-1,  5,  5, -1, -3],\n",
       "       [-4,  5, -1,  5,  2]])"
      ]
     },
     "execution_count": 72,
     "metadata": {},
     "output_type": "execute_result"
    }
   ],
   "source": [
    "np.random.random_integers(-5,5,(5,5))"
   ]
  },
  {
   "cell_type": "code",
   "execution_count": 76,
   "metadata": {},
   "outputs": [
    {
     "data": {
      "text/plain": [
       "array([[0.98932704, 0.78168639, 0.31611393, 0.10013692, 0.64862941],\n",
       "       [0.3939528 , 0.13239622, 0.14316803, 0.27551434, 0.5016581 ],\n",
       "       [0.03481797, 0.76423939, 0.12803655, 0.31479114, 0.56981643],\n",
       "       [0.1855153 , 0.4139362 , 0.38612723, 0.93342813, 0.09393684],\n",
       "       [0.9220396 , 0.25288619, 0.61508357, 0.85417096, 0.90894797]])"
      ]
     },
     "execution_count": 76,
     "metadata": {},
     "output_type": "execute_result"
    }
   ],
   "source": [
    "np.random.random([5,5])"
   ]
  },
  {
   "cell_type": "code",
   "execution_count": 77,
   "metadata": {},
   "outputs": [
    {
     "data": {
      "text/plain": [
       "array([[1, 1, 2],\n",
       "       [3, 2, 1]])"
      ]
     },
     "execution_count": 77,
     "metadata": {},
     "output_type": "execute_result"
    }
   ],
   "source": [
    "#第一个参数说明\n",
    "#If an ndarray, a random sample is generated from its elements. \n",
    "#If an int, the random sample is generated as if a were np.arange(a)\n",
    "np.random.choice(4,[2,3])"
   ]
  },
  {
   "cell_type": "code",
   "execution_count": 78,
   "metadata": {},
   "outputs": [
    {
     "data": {
      "text/plain": [
       "array([[ 3,  1,  3],\n",
       "       [11,  1,  1]])"
      ]
     },
     "execution_count": 78,
     "metadata": {},
     "output_type": "execute_result"
    }
   ],
   "source": [
    "np.random.choice([12,11,1,3],[2,3])"
   ]
  },
  {
   "cell_type": "code",
   "execution_count": 111,
   "metadata": {},
   "outputs": [
    {
     "data": {
      "text/plain": [
       "array([[4.17022005e-01, 7.20324493e-01, 1.14374817e-04],\n",
       "       [3.02332573e-01, 1.46755891e-01, 9.23385948e-02]])"
      ]
     },
     "execution_count": 111,
     "metadata": {},
     "output_type": "execute_result"
    }
   ],
   "source": [
    "#设置了seed，使得np.random.rand(2,3)运行的结果每次都相同\n",
    "np.random.seed(1)\n",
    "np.random.rand(2,3)"
   ]
  },
  {
   "cell_type": "code",
   "execution_count": 104,
   "metadata": {},
   "outputs": [
    {
     "data": {
      "text/plain": [
       "array([[0.49157316, 0.05336255, 0.57411761],\n",
       "       [0.14672857, 0.58930554, 0.69975836]])"
      ]
     },
     "execution_count": 104,
     "metadata": {},
     "output_type": "execute_result"
    }
   ],
   "source": [
    "np.random.rand(2,3)"
   ]
  },
  {
   "cell_type": "code",
   "execution_count": 86,
   "metadata": {},
   "outputs": [
    {
     "data": {
      "text/plain": [
       "array([[-0.0482517 ,  0.08160927,  1.11079721,  0.98412448, -0.84761977],\n",
       "       [-0.31743957,  1.30986836, -1.17014753,  0.67063867, -0.60648108],\n",
       "       [-0.14873981,  1.65830368, -0.18210251,  0.39490704,  0.98231445],\n",
       "       [-1.07504556, -1.36940513, -0.41246808,  1.56045505, -0.51074614],\n",
       "       [ 0.59849147, -1.09201393, -0.06345718, -0.550458  ,  0.64348035]])"
      ]
     },
     "execution_count": 86,
     "metadata": {},
     "output_type": "execute_result"
    }
   ],
   "source": [
    "test=np.random.randn(5,5)\n",
    "test"
   ]
  },
  {
   "cell_type": "code",
   "execution_count": 87,
   "metadata": {
    "scrolled": true
   },
   "outputs": [
    {
     "data": {
      "text/plain": [
       "array([[0.        , 0.08160927, 1.11079721, 0.98412448, 0.        ],\n",
       "       [0.        , 1.30986836, 0.        , 0.67063867, 0.        ],\n",
       "       [0.        , 1.65830368, 0.        , 0.39490704, 0.98231445],\n",
       "       [0.        , 0.        , 0.        , 1.56045505, 0.        ],\n",
       "       [0.59849147, 0.        , 0.        , 0.        , 0.64348035]])"
      ]
     },
     "execution_count": 87,
     "metadata": {},
     "output_type": "execute_result"
    }
   ],
   "source": [
    "#条件为True取前面那个值，条件为False取后面那个值\n",
    "np.where(test<0.0,0,test)"
   ]
  },
  {
   "cell_type": "code",
   "execution_count": 112,
   "metadata": {
    "scrolled": true
   },
   "outputs": [
    {
     "data": {
      "text/plain": [
       "array([[15, 15, 15, 15],\n",
       "       [15, 15, 15, 15],\n",
       "       [15, 15, 15, 15]])"
      ]
     },
     "execution_count": 112,
     "metadata": {},
     "output_type": "execute_result"
    }
   ],
   "source": [
    "#填充指定数字\n",
    "np.full((3,4),15)"
   ]
  },
  {
   "cell_type": "code",
   "execution_count": 176,
   "metadata": {},
   "outputs": [
    {
     "data": {
      "text/plain": [
       "(array([[-2, -1,  0,  1,  2],\n",
       "        [-2, -1,  0,  1,  2],\n",
       "        [-2, -1,  0,  1,  2],\n",
       "        [-2, -1,  0,  1,  2],\n",
       "        [-2, -1,  0,  1,  2]]), array([[-2, -2, -2, -2, -2],\n",
       "        [-1, -1, -1, -1, -1],\n",
       "        [ 0,  0,  0,  0,  0],\n",
       "        [ 1,  1,  1,  1,  1],\n",
       "        [ 2,  2,  2,  2,  2]]))"
      ]
     },
     "execution_count": 176,
     "metadata": {},
     "output_type": "execute_result"
    }
   ],
   "source": [
    "x,y=np.meshgrid(np.arange(-2,3),np.arange(-2,3))\n",
    "x,y"
   ]
  },
  {
   "cell_type": "code",
   "execution_count": 178,
   "metadata": {},
   "outputs": [
    {
     "data": {
      "text/plain": [
       "((5, 5), rec.array([[(-2, -2), (-1, -2), ( 0, -2), ( 1, -2), ( 2, -2)],\n",
       "            [(-2, -1), (-1, -1), ( 0, -1), ( 1, -1), ( 2, -1)],\n",
       "            [(-2,  0), (-1,  0), ( 0,  0), ( 1,  0), ( 2,  0)],\n",
       "            [(-2,  1), (-1,  1), ( 0,  1), ( 1,  1), ( 2,  1)],\n",
       "            [(-2,  2), (-1,  2), ( 0,  2), ( 1,  2), ( 2,  2)]],\n",
       "           dtype=[('f0', '<i8'), ('f1', '<i8')]))"
      ]
     },
     "execution_count": 178,
     "metadata": {},
     "output_type": "execute_result"
    }
   ],
   "source": [
    "arr=np.rec.fromarrays([x,y])\n",
    "arr.shape,arr"
   ]
  },
  {
   "cell_type": "code",
   "execution_count": 177,
   "metadata": {},
   "outputs": [
    {
     "data": {
      "text/plain": [
       "array([[2.82842712, 2.23606798, 2.        , 2.23606798, 2.82842712],\n",
       "       [2.23606798, 1.41421356, 1.        , 1.41421356, 2.23606798],\n",
       "       [2.        , 1.        , 0.        , 1.        , 2.        ],\n",
       "       [2.23606798, 1.41421356, 1.        , 1.41421356, 2.23606798],\n",
       "       [2.82842712, 2.23606798, 2.        , 2.23606798, 2.82842712]])"
      ]
     },
     "execution_count": 177,
     "metadata": {},
     "output_type": "execute_result"
    }
   ],
   "source": [
    "#numpy.apply_along_axis\n",
    "#https://docs.scipy.org/doc/numpy/reference/generated/numpy.apply_along_axis.html\n",
    "import math\n",
    "def radius(coord):\n",
    "    return math.sqrt(pow(coord[0],2)+pow(coord[1],2))\n",
    "\n",
    "test=np.apply_along_axis(radius,2,arr.tolist())\n",
    "test"
   ]
  }
 ],
 "metadata": {
  "kernelspec": {
   "display_name": "Python 3",
   "language": "python",
   "name": "python3"
  },
  "language_info": {
   "codemirror_mode": {
    "name": "ipython",
    "version": 3
   },
   "file_extension": ".py",
   "mimetype": "text/x-python",
   "name": "python",
   "nbconvert_exporter": "python",
   "pygments_lexer": "ipython3",
   "version": "3.6.1"
  }
 },
 "nbformat": 4,
 "nbformat_minor": 2
}
