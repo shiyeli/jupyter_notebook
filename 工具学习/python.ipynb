{
 "cells": [
  {
   "cell_type": "code",
   "execution_count": 30,
   "metadata": {},
   "outputs": [
    {
     "name": "stdout",
     "output_type": "stream",
     "text": [
      "['421822387250126.']\n"
     ]
    }
   ],
   "source": [
    "#urllib\n",
    "from urllib import parse\n",
    "\n",
    "url = r'https://docs.python.org/3.5/search.html?q=parse&check_keywords=yes&area=default'\n",
    "\n",
    "result=parse.urlparse(url)\n",
    "# print(result)\n",
    "param_dict=parse.parse_qs(result.query)\n",
    "# print(param_dict)\n",
    "\n",
    "# print('300'.startswith('2'))\n",
    "\n",
    "import re\n",
    "string='http://jobs.zhaopin.com/421822387250126.htm'\n",
    "m=re.findall(r'\\d+\\.',string)\n",
    "print(m)"
   ]
  },
  {
   "cell_type": "code",
   "execution_count": 32,
   "metadata": {},
   "outputs": [
    {
     "data": {
      "text/plain": [
       "['小雨转阴']"
      ]
     },
     "execution_count": 32,
     "metadata": {},
     "output_type": "execute_result"
    }
   ],
   "source": [
    "string2='2018年3月16日 天气小雨转阴'\n",
    "re.findall(r'2018年3月16日 天气(.*)',string2)"
   ]
  },
  {
   "cell_type": "code",
   "execution_count": 3,
   "metadata": {},
   "outputs": [
    {
     "data": {
      "text/plain": [
       "[4, 5, 6]"
      ]
     },
     "execution_count": 3,
     "metadata": {},
     "output_type": "execute_result"
    }
   ],
   "source": [
    "#filter\n",
    "res_filtered=filter(lambda x:x>3,[1,2,3,4,5,6])\n",
    "list(res_filtered)"
   ]
  }
 ],
 "metadata": {
  "kernelspec": {
   "display_name": "Python 3",
   "language": "python",
   "name": "python3"
  },
  "language_info": {
   "codemirror_mode": {
    "name": "ipython",
    "version": 3
   },
   "file_extension": ".py",
   "mimetype": "text/x-python",
   "name": "python",
   "nbconvert_exporter": "python",
   "pygments_lexer": "ipython3",
   "version": "3.6.1"
  }
 },
 "nbformat": 4,
 "nbformat_minor": 2
}
