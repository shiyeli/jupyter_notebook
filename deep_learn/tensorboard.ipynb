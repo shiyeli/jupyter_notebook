{
 "cells": [
  {
   "cell_type": "code",
   "execution_count": 2,
   "metadata": {},
   "outputs": [
    {
     "name": "stdout",
     "output_type": "stream",
     "text": [
      "Extracting MNIST_data/train-images-idx3-ubyte.gz\n",
      "Extracting MNIST_data/train-labels-idx1-ubyte.gz\n",
      "Extracting MNIST_data/t10k-images-idx3-ubyte.gz\n",
      "Extracting MNIST_data/t10k-labels-idx1-ubyte.gz\n"
     ]
    }
   ],
   "source": [
    "import tensorflow as tf\n",
    "from tensorflow.examples.tutorials.mnist import input_data\n",
    "mnist = input_data.read_data_sets(\"MNIST_data/\", one_hot=True)"
   ]
  },
  {
   "cell_type": "code",
   "execution_count": 17,
   "metadata": {},
   "outputs": [
    {
     "ename": "NameError",
     "evalue": "name 'merge' is not defined",
     "output_type": "error",
     "traceback": [
      "\u001b[0;31m---------------------------------------------------------------------------\u001b[0m",
      "\u001b[0;31mNameError\u001b[0m                                 Traceback (most recent call last)",
      "\u001b[0;32m<ipython-input-17-4a54330c73b4>\u001b[0m in \u001b[0;36m<module>\u001b[0;34m()\u001b[0m\n\u001b[1;32m     73\u001b[0m     \u001b[0mbatch_xs\u001b[0m\u001b[0;34m,\u001b[0m \u001b[0mbatch_ys\u001b[0m \u001b[0;34m=\u001b[0m \u001b[0mmnist\u001b[0m\u001b[0;34m.\u001b[0m\u001b[0mtrain\u001b[0m\u001b[0;34m.\u001b[0m\u001b[0mnext_batch\u001b[0m\u001b[0;34m(\u001b[0m\u001b[0;36m100\u001b[0m\u001b[0;34m)\u001b[0m\u001b[0;34m\u001b[0m\u001b[0m\n\u001b[1;32m     74\u001b[0m \u001b[0;34m\u001b[0m\u001b[0m\n\u001b[0;32m---> 75\u001b[0;31m     \u001b[0msummary\u001b[0m\u001b[0;34m,\u001b[0m \u001b[0m_\u001b[0m \u001b[0;34m=\u001b[0m \u001b[0msess\u001b[0m\u001b[0;34m.\u001b[0m\u001b[0mrun\u001b[0m\u001b[0;34m(\u001b[0m\u001b[0;34m[\u001b[0m\u001b[0mmerge\u001b[0m\u001b[0;34m,\u001b[0m\u001b[0mtrain_step\u001b[0m\u001b[0;34m]\u001b[0m\u001b[0;34m,\u001b[0m \u001b[0mfeed_dict\u001b[0m\u001b[0;34m=\u001b[0m\u001b[0;34m{\u001b[0m\u001b[0mx\u001b[0m\u001b[0;34m:\u001b[0m \u001b[0mbatch_xs\u001b[0m\u001b[0;34m,\u001b[0m \u001b[0my\u001b[0m\u001b[0;34m:\u001b[0m \u001b[0mbatch_ys\u001b[0m\u001b[0;34m}\u001b[0m\u001b[0;34m)\u001b[0m\u001b[0;34m\u001b[0m\u001b[0m\n\u001b[0m\u001b[1;32m     76\u001b[0m     \u001b[0;31m#训练的时候将summary加入到writer\u001b[0m\u001b[0;34m\u001b[0m\u001b[0;34m\u001b[0m\u001b[0m\n\u001b[1;32m     77\u001b[0m     \u001b[0mfile_writer\u001b[0m\u001b[0;34m.\u001b[0m\u001b[0madd_summary\u001b[0m\u001b[0;34m(\u001b[0m\u001b[0msummary\u001b[0m\u001b[0;34m,\u001b[0m\u001b[0mi\u001b[0m\u001b[0;34m)\u001b[0m\u001b[0;34m\u001b[0m\u001b[0m\n",
      "\u001b[0;31mNameError\u001b[0m: name 'merge' is not defined"
     ]
    }
   ],
   "source": [
    "\n",
    "def variable_summaries(var):\n",
    "    with tf.name_scope('summaries'):\n",
    "        mean=tf.reduce_mean(var)\n",
    "        tf.summary.scalar('mean',mean)#平均值\n",
    "        with tf.name_scope('stddev'):\n",
    "            stddev=tf.sqrt(tf.reduce_mean(tf.square(var-mean)))\n",
    "        tf.summary.scalar('stddev',stddev)#标准差\n",
    "        tf.summary.scalar('max',tf.reduce_max(var))\n",
    "        tf.summary.scalar('min',tf.reduce_min(var))\n",
    "        tf.summary.histogram('histogram',var)#直方图\n",
    "\n",
    "\n",
    "#tensorboard-命名空间\n",
    "with tf.name_scope('input'):\n",
    "    #设置变量\n",
    "    x=tf.placeholder(tf.float32,[None,784],name='x_input')\n",
    "    y=tf.placeholder(tf.float32,[None,10],name='y_input')\n",
    "    \n",
    "\n",
    "with tf.name_scope('layer'):\n",
    "    with tf.name_scope('wights'):\n",
    "        Weights=tf.Variable(tf.zeros([784,10]),name='Weights')\n",
    "        variable_summaries(Weights)\n",
    "    with tf.name_scope('bias'):\n",
    "        biases=tf.Variable(tf.zeros([10]),name='biases')\n",
    "        variable_summaries(biases)\n",
    "\n",
    "#构造模型\n",
    "prediction=tf.nn.softmax(tf.matmul(x,Weights)+biases)     \n",
    "\n",
    "#loss\n",
    "with tf.name_scope('loss'):\n",
    "    loss=tf.square(prediction-y)\n",
    "    tf.summary.scalar('loss',loss)\n",
    "\n",
    "with tf.name_scope('train'):\n",
    "    train_step=tf.train.GradientDescentOptimizer(0.01).minimize(loss)\n",
    "\n",
    "    \n",
    "    \n",
    "#评估\n",
    "with tf.name_scope('accuracy'):\n",
    "    #correct_prediction是一个bool list\n",
    "    with tf.name_scope('correct_prediction'):\n",
    "        correct_prediction=tf.equal(tf.argmax(y,1),tf.argmax(prediction,1))\n",
    "    with tf.name_scope('accuracy'):\n",
    "        #准确率\n",
    "        \"\"\"\n",
    "        tf.cast:转化类型 True->1.0;False->0.0\n",
    "        tf.reduce_mean:求平均值，即准确率\n",
    "        \"\"\"\n",
    "        accuracy=tf.reduce_mean(tf.cast(correct_prediction,tf.float32))\n",
    "        tf.summary.scalar('accuracy',accuracy)\n",
    "\n",
    "#合并所有summary\n",
    "merged=tf.summary.merge_all()\n",
    "        \n",
    "\n",
    "sess=tf.Session()\n",
    "sess.run(tf.global_variables_initializer())\n",
    "\n",
    "#tenforboard-写入文件\n",
    "file_writer=tf.summary.FileWriter('logs/',sess.graph)\n",
    "\n",
    "\"\"\"\n",
    "等程序运行完毕在终端执行一下命令启动tersorboard：\n",
    "tensorboard --logdir=./logs/\n",
    "\"\"\"\n",
    "\n",
    "#训练\n",
    "for i in range(100):\n",
    "    batch_xs, batch_ys = mnist.train.next_batch(100)\n",
    "    \n",
    "    summary, _ = sess.run([merge,train_step], feed_dict={x: batch_xs, y: batch_ys})\n",
    "    #训练的时候将summary加入到writer\n",
    "    file_writer.add_summary(summary,i)\n",
    "    \n",
    "    if i%10==0:\n",
    "        res=sess.run(accuracy,feed_dict={x:mnist.test.images,y:mnist.test.labels})\n",
    "        print(res)\n",
    "\n"
   ]
  }
 ],
 "metadata": {
  "kernelspec": {
   "display_name": "Python 3",
   "language": "python",
   "name": "python3"
  }
 },
 "nbformat": 4,
 "nbformat_minor": 2
}
