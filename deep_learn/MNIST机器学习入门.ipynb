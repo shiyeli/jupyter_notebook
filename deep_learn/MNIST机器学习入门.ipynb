{
 "cells": [
  {
   "cell_type": "code",
   "execution_count": 64,
   "metadata": {},
   "outputs": [
    {
     "name": "stdout",
     "output_type": "stream",
     "text": [
      "Extracting MNIST_data/train-images-idx3-ubyte.gz\n",
      "Extracting MNIST_data/train-labels-idx1-ubyte.gz\n",
      "Extracting MNIST_data/t10k-images-idx3-ubyte.gz\n",
      "Extracting MNIST_data/t10k-labels-idx1-ubyte.gz\n"
     ]
    },
    {
     "data": {
      "text/plain": [
       "Datasets(train=<tensorflow.contrib.learn.python.learn.datasets.mnist.DataSet object at 0x126df2b00>, validation=<tensorflow.contrib.learn.python.learn.datasets.mnist.DataSet object at 0x144587240>, test=<tensorflow.contrib.learn.python.learn.datasets.mnist.DataSet object at 0x1282ff080>)"
      ]
     },
     "execution_count": 64,
     "metadata": {},
     "output_type": "execute_result"
    }
   ],
   "source": [
    "#http://www.tensorfly.cn/tfdoc/tutorials/mnist_beginners.html\n",
    "import tensorflow as tf\n",
    "from tensorflow.examples.tutorials.mnist import input_data\n",
    "\n",
    "\n",
    "\"\"\"\n",
    "URLError: <urlopen error [SSL: CERTIFICATE_VERIFY_FAILED] \n",
    "certificate verify failed (_ssl.c:749)>\n",
    "\n",
    "解决办法一：\n",
    "import ssl\n",
    "ssl._create_default_https_context = ssl._create_unverified_context\n",
    "\n",
    "解决办法二：\n",
    "/Applications/Python 3.6/ReadMe.rtf中提到：\n",
    "\n",
    "Certificate verification and OpenSSL\n",
    "\n",
    "**NEW** This variant of Python 3.6 now includes its own private copy of OpenSSL 1.0.2.  \n",
    "Unlike previous releases, the deprecated Apple-supplied OpenSSL libraries are no longer used.  \n",
    "This also means that the trust certificates in system and user keychains managed by the \n",
    "Keychain Access application and the security command line utility are no longer used as \n",
    "defaults by the Python ssl module.  For 3.6.0, a sample command script is included in \n",
    "/Applications/Python 3.6 to install a curated bundle of default root certificates from the \n",
    "third-party certifi package (https://pypi.python.org/pypi/certifi).  If you choose to \n",
    "use certifi, you should consider subscribing to the project's email update service to be\n",
    "notified when the certificate bundle is updated.\n",
    "\n",
    "The bundled pip included with the Python 3.6 installer has its own default certificate store \n",
    "for verifying download connections.\n",
    "\n",
    "具体操作：\n",
    "执行/Applications/Python 3.6/Install Certificates.command\n",
    "\"\"\"\n",
    "\n",
    "mnist = input_data.read_data_sets(\"MNIST_data/\", one_hot=True)\n",
    "mnist"
   ]
  },
  {
   "cell_type": "code",
   "execution_count": 65,
   "metadata": {},
   "outputs": [
    {
     "data": {
      "text/plain": [
       "(<tf.Tensor 'Placeholder_15:0' shape=(?, 784) dtype=float32>,\n",
       " <tf.Tensor 'Placeholder_16:0' shape=(?, 10) dtype=float32>,\n",
       " <tf.Variable 'Variable_16:0' shape=(784, 10) dtype=float32_ref>,\n",
       " <tf.Variable 'Variable_17:0' shape=(10,) dtype=float32_ref>)"
      ]
     },
     "execution_count": 65,
     "metadata": {},
     "output_type": "execute_result"
    }
   ],
   "source": [
    "#设置变量\n",
    "x=tf.placeholder(tf.float32,[None,784])\n",
    "y=tf.placeholder(tf.float32,[None,10])\n",
    "\n",
    "Weights=tf.Variable(tf.zeros([784,10]))\n",
    "biases=tf.Variable(tf.zeros([10]))\n",
    "\n",
    "x,y,Weights,biases"
   ]
  },
  {
   "cell_type": "code",
   "execution_count": 66,
   "metadata": {},
   "outputs": [],
   "source": [
    "#构造模型\n",
    "prediction=tf.nn.softmax(tf.matmul(x,Weights)+biases)\n",
    "#loss\n",
    "loss=tf.reduce_mean(tf.square(prediction-y))\n",
    "train_step=tf.train.GradientDescentOptimizer(0.01).minimize(loss)"
   ]
  },
  {
   "cell_type": "code",
   "execution_count": 67,
   "metadata": {},
   "outputs": [],
   "source": [
    "sess=tf.Session()\n",
    "sess.run(tf.global_variables_initializer())"
   ]
  },
  {
   "cell_type": "code",
   "execution_count": 68,
   "metadata": {},
   "outputs": [],
   "source": [
    "#训练\n",
    "for i in range(20000):\n",
    "    batch_xs, batch_ys = mnist.train.next_batch(100)\n",
    "    sess.run(train_step, feed_dict={x: batch_xs, y: batch_ys})"
   ]
  },
  {
   "cell_type": "code",
   "execution_count": 69,
   "metadata": {},
   "outputs": [
    {
     "data": {
      "text/plain": [
       "0.86769998"
      ]
     },
     "execution_count": 69,
     "metadata": {},
     "output_type": "execute_result"
    }
   ],
   "source": [
    "#评估\n",
    "#correct_prediction是一个bool list\n",
    "correct_prediction=tf.equal(tf.argmax(y,1),tf.argmax(prediction,1))\n",
    "#准确率\n",
    "\"\"\"\n",
    "tf.cast:转化类型 True>1.0;False>0.0\n",
    "tf.reduce_mean:求平均值，即准确率\n",
    "\"\"\"\n",
    "accuracy=tf.reduce_mean(tf.cast(correct_prediction,tf.float32))\n",
    "res=sess.run(accuracy,feed_dict={x:mnist.test.images,y:mnist.test.labels})\n",
    "res"
   ]
  }
 ],
 "metadata": {
  "kernelspec": {
   "display_name": "Python 3",
   "language": "python",
   "name": "python3"
  },
  "language_info": {
   "codemirror_mode": {
    "name": "ipython",
    "version": 3
   },
   "file_extension": ".py",
   "mimetype": "text/x-python",
   "name": "python",
   "nbconvert_exporter": "python",
   "pygments_lexer": "ipython3",
   "version": "3.6.3"
  }
 },
 "nbformat": 4,
 "nbformat_minor": 2
}
