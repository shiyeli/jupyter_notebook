{
 "cells": [
  {
   "cell_type": "code",
   "execution_count": 3,
   "metadata": {},
   "outputs": [
    {
     "data": {
      "text/plain": [
       "'/Users/yetongxue/Desktop/jupyter_notebook/deep_learn/MNIST_data/train-images-idx3-ubyte'"
      ]
     },
     "execution_count": 3,
     "metadata": {},
     "output_type": "execute_result"
    }
   ],
   "source": [
    "#https://www.zybuluo.com/hanbingtao/note/476663\n",
    "#手写数字识别\n",
    "\n",
    "#数据下载\n",
    "# from tensorflow.examples.tutorials.mnist import input_data\n",
    "# mnist=input_data.read_data_sets('/tmp/',one_hot=True)\n",
    "#或者：download:http://yann.lecun.com/exdb/mnist/\n",
    "\n",
    "#文件路径\n",
    "import os\n",
    "\n",
    "base_path='/Users/yexianyong/Downloads/machine_learning/mnist'\n",
    "training_images_path=os.path.join(base_path,'train-images-idx3-ubyte')\n",
    "training_labels_path=os.path.join(base_path,'train-labels-idx1-ubyte')\n",
    "test_images_path=os.path.join(base_path,'t10k-images-idx3-ubyte')\n",
    "test_labels_path=os.path.join(base_path,'t10k-labels-idx1-ubyte')\n",
    "\n",
    "training_images_path"
   ]
  },
  {
   "cell_type": "code",
   "execution_count": 4,
   "metadata": {},
   "outputs": [
    {
     "ename": "FileNotFoundError",
     "evalue": "[Errno 2] No such file or directory: '/Users/yetongxue/Desktop/jupyter_notebook/deep_learn/MNIST_data/train-labels-idx1-ubyte'",
     "output_type": "error",
     "traceback": [
      "\u001b[0;31m---------------------------------------------------------------------------\u001b[0m",
      "\u001b[0;31mFileNotFoundError\u001b[0m                         Traceback (most recent call last)",
      "\u001b[0;32m<ipython-input-4-96cfd73d534a>\u001b[0m in \u001b[0;36m<module>\u001b[0;34m()\u001b[0m\n\u001b[1;32m     16\u001b[0m \u001b[0;34m\u001b[0m\u001b[0m\n\u001b[1;32m     17\u001b[0m     \u001b[0;32mreturn\u001b[0m \u001b[0mimages\u001b[0m\u001b[0;34m,\u001b[0m \u001b[0mlabels\u001b[0m\u001b[0;34m\u001b[0m\u001b[0m\n\u001b[0;32m---> 18\u001b[0;31m \u001b[0mimages\u001b[0m\u001b[0;34m,\u001b[0m\u001b[0mlabels\u001b[0m\u001b[0;34m=\u001b[0m\u001b[0mload_mnist\u001b[0m\u001b[0;34m(\u001b[0m\u001b[0mtraining_images_path\u001b[0m\u001b[0;34m,\u001b[0m\u001b[0mtraining_labels_path\u001b[0m\u001b[0;34m)\u001b[0m\u001b[0;34m\u001b[0m\u001b[0m\n\u001b[0m\u001b[1;32m     19\u001b[0m \u001b[0mimages\u001b[0m\u001b[0;34m,\u001b[0m\u001b[0mlabels\u001b[0m\u001b[0;34m\u001b[0m\u001b[0m\n",
      "\u001b[0;32m<ipython-input-4-96cfd73d534a>\u001b[0m in \u001b[0;36mload_mnist\u001b[0;34m(images_path, labels_path, kind)\u001b[0m\n\u001b[1;32m      7\u001b[0m     \u001b[0;34m\"\"\"Load MNIST data from path\"\"\"\u001b[0m\u001b[0;34m\u001b[0m\u001b[0m\n\u001b[1;32m      8\u001b[0m \u001b[0;34m\u001b[0m\u001b[0m\n\u001b[0;32m----> 9\u001b[0;31m     \u001b[0;32mwith\u001b[0m \u001b[0mopen\u001b[0m\u001b[0;34m(\u001b[0m\u001b[0mlabels_path\u001b[0m\u001b[0;34m,\u001b[0m \u001b[0;34m'rb'\u001b[0m\u001b[0;34m)\u001b[0m \u001b[0;32mas\u001b[0m \u001b[0mlbpath\u001b[0m\u001b[0;34m:\u001b[0m\u001b[0;34m\u001b[0m\u001b[0m\n\u001b[0m\u001b[1;32m     10\u001b[0m         \u001b[0mmagic\u001b[0m\u001b[0;34m,\u001b[0m \u001b[0mn\u001b[0m \u001b[0;34m=\u001b[0m \u001b[0mstruct\u001b[0m\u001b[0;34m.\u001b[0m\u001b[0munpack\u001b[0m\u001b[0;34m(\u001b[0m\u001b[0;34m'>II'\u001b[0m\u001b[0;34m,\u001b[0m\u001b[0mlbpath\u001b[0m\u001b[0;34m.\u001b[0m\u001b[0mread\u001b[0m\u001b[0;34m(\u001b[0m\u001b[0;36m8\u001b[0m\u001b[0;34m)\u001b[0m\u001b[0;34m)\u001b[0m\u001b[0;34m\u001b[0m\u001b[0m\n\u001b[1;32m     11\u001b[0m         \u001b[0mlabels\u001b[0m \u001b[0;34m=\u001b[0m \u001b[0mnp\u001b[0m\u001b[0;34m.\u001b[0m\u001b[0mfromfile\u001b[0m\u001b[0;34m(\u001b[0m\u001b[0mlbpath\u001b[0m\u001b[0;34m,\u001b[0m\u001b[0mdtype\u001b[0m\u001b[0;34m=\u001b[0m\u001b[0mnp\u001b[0m\u001b[0;34m.\u001b[0m\u001b[0muint8\u001b[0m\u001b[0;34m)\u001b[0m\u001b[0;34m\u001b[0m\u001b[0m\n",
      "\u001b[0;31mFileNotFoundError\u001b[0m: [Errno 2] No such file or directory: '/Users/yetongxue/Desktop/jupyter_notebook/deep_learn/MNIST_data/train-labels-idx1-ubyte'"
     ]
    }
   ],
   "source": [
    "#读取文件\n",
    "#http://blog.csdn.net/simple_the_best/article/details/75267863\n",
    "import struct\n",
    "import numpy as np\n",
    "\n",
    "def load_mnist(images_path,labels_path,kind='train'):\n",
    "    \"\"\"Load MNIST data from path\"\"\"\n",
    "    \n",
    "    with open(labels_path, 'rb') as lbpath:\n",
    "        magic, n = struct.unpack('>II',lbpath.read(8))\n",
    "        labels = np.fromfile(lbpath,dtype=np.uint8)\n",
    "\n",
    "    with open(images_path, 'rb') as imgpath:\n",
    "        magic, num, rows, cols = struct.unpack('>IIII',imgpath.read(16))\n",
    "        images = np.fromfile(imgpath,dtype=np.uint8).reshape(len(labels), 784)\n",
    "\n",
    "    return images, labels\n",
    "images,labels=load_mnist(training_images_path,training_labels_path)\n",
    "images,labels"
   ]
  },
  {
   "cell_type": "code",
   "execution_count": null,
   "metadata": {},
   "outputs": [],
   "source": [
    "#可视化\n",
    "import matplotlib.pyplot as plt\n",
    "fig,ax=plt.subplots(nrows=2,ncols=5,sharex=True,sharey=True)\n",
    "\n",
    "ax = ax.flatten()\n",
    "for i in range(10):\n",
    "    img = images[i].reshape(28, 28)\n",
    "    ax[i].imshow(img, cmap='Greys', interpolation='nearest')\n",
    "    ax[i].set_title(labels[i])\n",
    "    \n",
    "ax[0].set_xticks([])\n",
    "ax[0].set_yticks([])\n",
    "\n",
    "plt.show()"
   ]
  },
  {
   "cell_type": "code",
   "execution_count": null,
   "metadata": {},
   "outputs": [],
   "source": [
    "#构造训练相关数据\n",
    "#给images添加bias：1\n",
    "\n",
    "#inputs\n",
    "inputs=np.zeros((images.shape[0],images.shape[1]+1))\n",
    "inputs[:,0:1]=1#为数据添加bias 1\n",
    "inputs[:,1:]=images[:,:] \n",
    "\n",
    "inputs"
   ]
  },
  {
   "cell_type": "code",
   "execution_count": null,
   "metadata": {},
   "outputs": [],
   "source": [
    "#超参数确定\n",
    "#Three layers\n",
    "#input layer nodes:785个(已添加bias)\n",
    "#hidden layer nodes:301个(已添加bias)\n",
    "#output layer nodes:10个\n",
    "\n",
    "#weights不能为0\n",
    "w12=np.random.uniform(-0.1,0.1,(301,inputs.shape[1]))\n",
    "w23=np.random.uniform(-0.1,0.1,(10,301))\n",
    "\n",
    "#学习率\n",
    "µ=0.001\n",
    "\n",
    "w12.shape,w12,w23.shape,w23"
   ]
  },
  {
   "cell_type": "code",
   "execution_count": null,
   "metadata": {
    "scrolled": true
   },
   "outputs": [],
   "source": [
    "#计算\n",
    "#激活函数sigmoid\n",
    "def sigmoid(x):\n",
    "    return 1.0 / (1.0 + np.exp(-x))\n",
    "\n",
    "def get_result(vec):\n",
    "    max_value_index = 0\n",
    "    max_value = 0\n",
    "    for i in range(len(vec)):\n",
    "        if vec[i] > max_value:\n",
    "            max_value = vec[i]\n",
    "            max_value_index = i\n",
    "    return max_value_index\n",
    "\n",
    "def softmax(vec):\n",
    "    return vec/np.sum(vec)\n",
    " \n",
    "\n",
    "for x,y in zip(inputs,labels):\n",
    "    \n",
    "    #计算输出值\n",
    "    z2=w12.dot(x)\n",
    "    a2=sigmoid(z2)\n",
    "    \n",
    "    z3=w23.dot(a2)\n",
    "    a3=softmax(z3)\n",
    "#     print('output:',a3)\n",
    "    \n",
    "    #反向传播\n",
    "    #######################\n",
    "    label=np.zeros(10)\n",
    "    label[y]=1\n",
    "#     print('lable:',label)\n",
    "#     print('output:',get_result(a3),'label:',y)\n",
    "    \n",
    "    delta3=a3-label\n",
    "#     print('delta3:',delta3)\n",
    "    \n",
    "    #更新w23\n",
    "    w23=w23+µ*delta3.reshape(len(delta3),1).dot(a2.reshape(1,len(a2)))\n",
    "    \n",
    "    #计算a2节点误差delta2\n",
    "    delta2=a2*(1-a2)*w23.T.dot(delta3)\n",
    "    \n",
    "    #更新w12\n",
    "#     print(x.shape,w12.shape,delta2.shape)\n",
    "    w12=w12+µ*delta2.reshape(len(delta2),1).dot(x.reshape(1,len(x)))\n",
    "    \n",
    "    #######################    \n",
    "    \n",
    "w12.shape,w23.shape"
   ]
  },
  {
   "cell_type": "code",
   "execution_count": null,
   "metadata": {},
   "outputs": [],
   "source": [
    "def show(img):\n",
    "    fig,ax=plt.subplots()\n",
    "    implot=plt.imshow(img)\n",
    "    plt.gray()\n",
    "    plt.show()\n",
    "    \n",
    "show(w12)\n",
    "show(w23)"
   ]
  },
  {
   "cell_type": "code",
   "execution_count": null,
   "metadata": {},
   "outputs": [],
   "source": [
    "test_images,test_labels=load_mnist(test_images_path,test_labels_path)\n",
    "#数据预处理\n",
    "#inputs\n",
    "test_inputs=np.zeros((test_images.shape[0],test_images.shape[1]+1))\n",
    "test_inputs[:,0:1]=1#为数据添加bias 1\n",
    "test_inputs[:,1:]=test_images[:,:] \n",
    "\n",
    "error_counts=0\n",
    "for x,y in zip(test_inputs,test_labels):\n",
    "    \n",
    "    #计算输出值\n",
    "    z2=w12.dot(x)\n",
    "    a2=sigmoid(z2)\n",
    "    \n",
    "    z3=w23.dot(a2)\n",
    "    a3=softmax(z3)\n",
    "    \n",
    "    if int(get_result(a3))!=int(y):\n",
    "        error_counts+=1\n",
    "\n",
    "error_counts/len(test_labels)"
   ]
  }
 ],
 "metadata": {
  "kernelspec": {
   "display_name": "Python 3",
   "language": "python",
   "name": "python3"
  },
  "language_info": {
   "codemirror_mode": {
    "name": "ipython",
    "version": 3
   },
   "file_extension": ".py",
   "mimetype": "text/x-python",
   "name": "python",
   "nbconvert_exporter": "python",
   "pygments_lexer": "ipython3",
   "version": "3.6.3"
  }
 },
 "nbformat": 4,
 "nbformat_minor": 2
}
