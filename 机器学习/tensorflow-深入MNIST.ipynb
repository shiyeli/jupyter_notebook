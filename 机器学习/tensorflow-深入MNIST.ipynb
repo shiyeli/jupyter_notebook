{
 "cells": [
  {
   "cell_type": "code",
   "execution_count": 1,
   "metadata": {
    "scrolled": true
   },
   "outputs": [
    {
     "name": "stdout",
     "output_type": "stream",
     "text": [
      "Extracting MNIST_data/train-images-idx3-ubyte.gz\n",
      "Extracting MNIST_data/train-labels-idx1-ubyte.gz\n",
      "Extracting MNIST_data/t10k-images-idx3-ubyte.gz\n",
      "Extracting MNIST_data/t10k-labels-idx1-ubyte.gz\n"
     ]
    },
    {
     "data": {
      "text/plain": [
       "Datasets(train=<tensorflow.contrib.learn.python.learn.datasets.mnist.DataSet object at 0x116a98fd0>, validation=<tensorflow.contrib.learn.python.learn.datasets.mnist.DataSet object at 0x114dda588>, test=<tensorflow.contrib.learn.python.learn.datasets.mnist.DataSet object at 0x114dda6d8>)"
      ]
     },
     "execution_count": 1,
     "metadata": {},
     "output_type": "execute_result"
    }
   ],
   "source": [
    "import tensorflow as tf\n",
    "from tensorflow.examples.tutorials.mnist import input_data\n",
    "\n",
    "#import ssl\n",
    "# ssl._create_default_https_context = ssl._create_unverified_context\n",
    "mnist = input_data.read_data_sets(\"MNIST_data/\", one_hot=True)\n",
    "mnist"
   ]
  },
  {
   "cell_type": "markdown",
   "metadata": {},
   "source": [
    "# 构建一个多层卷积网络"
   ]
  },
  {
   "cell_type": "code",
   "execution_count": 2,
   "metadata": {},
   "outputs": [],
   "source": [
    "#权重初始化\n",
    "def weight_variable(shape):\n",
    "    initial=tf.truncated_normal(shape,stddev=0.1)\n",
    "    return tf.Variable(initial)\n",
    "\n",
    "def bias_variable(shape):\n",
    "    initial=tf.constant(0.1,shape=shape)\n",
    "    return tf.Variable(initial)\n"
   ]
  },
  {
   "cell_type": "code",
   "execution_count": 3,
   "metadata": {},
   "outputs": [],
   "source": [
    "#卷积和池化\n",
    "def conv2d(x,W):\n",
    "    return tf.nn.conv2d(x,W,strides=[1,1,1,1],padding='SAME')\n",
    "\n",
    "def max_pool_2x2(x):\n",
    "    return tf.nn.max_pool(x,ksize=[1,2,2,1],strides=[1,2,2,1],padding='SAME')\n"
   ]
  },
  {
   "cell_type": "code",
   "execution_count": 4,
   "metadata": {},
   "outputs": [],
   "source": [
    "#占位符\n",
    "x = tf.placeholder(tf.float32, shape=[None, 784])\n",
    "y_ = tf.placeholder(tf.float32, shape=[None, 10])"
   ]
  },
  {
   "cell_type": "code",
   "execution_count": 5,
   "metadata": {},
   "outputs": [
    {
     "data": {
      "text/plain": [
       "(<tf.Variable 'Variable:0' shape=(5, 5, 1, 32) dtype=float32_ref>,\n",
       " <tf.Variable 'Variable_1:0' shape=(32,) dtype=float32_ref>)"
      ]
     },
     "execution_count": 5,
     "metadata": {},
     "output_type": "execute_result"
    }
   ],
   "source": [
    "#第一层卷积\n",
    "W_conv1=weight_variable([5,5,1,32])\n",
    "b_conv1=bias_variable([32])\n",
    "W_conv1,b_conv1"
   ]
  },
  {
   "cell_type": "code",
   "execution_count": 6,
   "metadata": {},
   "outputs": [
    {
     "data": {
      "text/plain": [
       "<tf.Tensor 'Reshape:0' shape=(?, 28, 28, 1) dtype=float32>"
      ]
     },
     "execution_count": 6,
     "metadata": {},
     "output_type": "execute_result"
    }
   ],
   "source": [
    "x_image=tf.reshape(x,[-1,28,28,1])\n",
    "x_image"
   ]
  },
  {
   "cell_type": "code",
   "execution_count": 7,
   "metadata": {},
   "outputs": [
    {
     "data": {
      "text/plain": [
       "(<tf.Tensor 'Relu:0' shape=(?, 28, 28, 32) dtype=float32>,\n",
       " <tf.Tensor 'MaxPool:0' shape=(?, 14, 14, 32) dtype=float32>)"
      ]
     },
     "execution_count": 7,
     "metadata": {},
     "output_type": "execute_result"
    }
   ],
   "source": [
    "h_conv1=tf.nn.relu(conv2d(x_image,W_conv1)+b_conv1)\n",
    "h_pool1=max_pool_2x2(h_conv1)\n",
    "h_conv1,h_pool1"
   ]
  },
  {
   "cell_type": "code",
   "execution_count": 8,
   "metadata": {},
   "outputs": [
    {
     "data": {
      "text/plain": [
       "(<tf.Variable 'Variable_2:0' shape=(5, 5, 32, 64) dtype=float32_ref>,\n",
       " <tf.Variable 'Variable_3:0' shape=(64,) dtype=float32_ref>)"
      ]
     },
     "execution_count": 8,
     "metadata": {},
     "output_type": "execute_result"
    }
   ],
   "source": [
    "#第二层卷积\n",
    "W_conv2=weight_variable([5,5,32,64])\n",
    "b_conv2=bias_variable([64])\n",
    "W_conv2,b_conv2"
   ]
  },
  {
   "cell_type": "code",
   "execution_count": 9,
   "metadata": {},
   "outputs": [
    {
     "data": {
      "text/plain": [
       "(<tf.Tensor 'Relu_1:0' shape=(?, 14, 14, 64) dtype=float32>,\n",
       " <tf.Tensor 'MaxPool_1:0' shape=(?, 7, 7, 64) dtype=float32>)"
      ]
     },
     "execution_count": 9,
     "metadata": {},
     "output_type": "execute_result"
    }
   ],
   "source": [
    "h_conv2=tf.nn.relu(conv2d(h_pool1,W_conv2)+b_conv2)\n",
    "h_pool2=max_pool_2x2(h_conv2)\n",
    "h_conv2,h_pool2"
   ]
  },
  {
   "cell_type": "code",
   "execution_count": 10,
   "metadata": {},
   "outputs": [
    {
     "data": {
      "text/plain": [
       "(<tf.Variable 'Variable_4:0' shape=(3136, 1024) dtype=float32_ref>,\n",
       " <tf.Variable 'Variable_5:0' shape=(1024,) dtype=float32_ref>)"
      ]
     },
     "execution_count": 10,
     "metadata": {},
     "output_type": "execute_result"
    }
   ],
   "source": [
    "#全连接层\n",
    "W_fc1=weight_variable([7*7*64,1024])\n",
    "b_fc1=bias_variable([1024])\n",
    "W_fc1,b_fc1"
   ]
  },
  {
   "cell_type": "code",
   "execution_count": 11,
   "metadata": {},
   "outputs": [
    {
     "data": {
      "text/plain": [
       "(<tf.Tensor 'Reshape_1:0' shape=(?, 3136) dtype=float32>,\n",
       " <tf.Tensor 'Relu_2:0' shape=(?, 1024) dtype=float32>)"
      ]
     },
     "execution_count": 11,
     "metadata": {},
     "output_type": "execute_result"
    }
   ],
   "source": [
    "h_pool2_flat=tf.reshape(h_pool2,[-1,7*7*64])\n",
    "h_fc1=tf.nn.relu(tf.matmul(h_pool2_flat,W_fc1)+b_fc1)\n",
    "h_pool2_flat,h_fc1"
   ]
  },
  {
   "cell_type": "code",
   "execution_count": 12,
   "metadata": {},
   "outputs": [
    {
     "data": {
      "text/plain": [
       "<tf.Tensor 'dropout/mul:0' shape=(?, 1024) dtype=float32>"
      ]
     },
     "execution_count": 12,
     "metadata": {},
     "output_type": "execute_result"
    }
   ],
   "source": [
    "#Dropout\n",
    "keep_prob=tf.placeholder(tf.float32)\n",
    "h_fc1_drop=tf.nn.dropout(h_fc1,keep_prob)\n",
    "h_fc1_drop"
   ]
  },
  {
   "cell_type": "code",
   "execution_count": 13,
   "metadata": {},
   "outputs": [
    {
     "data": {
      "text/plain": [
       "(<tf.Variable 'Variable_6:0' shape=(1024, 10) dtype=float32_ref>,\n",
       " <tf.Variable 'Variable_7:0' shape=(10,) dtype=float32_ref>,\n",
       " <tf.Tensor 'Softmax:0' shape=(?, 10) dtype=float32>)"
      ]
     },
     "execution_count": 13,
     "metadata": {},
     "output_type": "execute_result"
    }
   ],
   "source": [
    "#输出层\n",
    "W_fc2=weight_variable([1024,10])\n",
    "b_fc2=bias_variable([10])\n",
    "y_conv=tf.nn.softmax(tf.matmul(h_fc1_drop,W_fc2)+b_fc2)\n",
    "W_fc2,b_fc2,y_conv"
   ]
  },
  {
   "cell_type": "code",
   "execution_count": 14,
   "metadata": {},
   "outputs": [],
   "source": [
    "#训练及评估\n",
    "cross_entropy=-tf.reduce_sum(y_*tf.log(y_conv))\n",
    "train_step=tf.train.AdamOptimizer(1e-4).minimize(cross_entropy)\n",
    "correct_prediction=tf.equal(tf.argmax(y_conv,1),tf.argmax(y_,1))\n",
    "accuracy=tf.reduce_mean(tf.cast(correct_prediction,tf.float32))\n",
    "\n",
    "sess=tf.Session()\n",
    "sess.run(tf.global_variables_initializer())"
   ]
  },
  {
   "cell_type": "code",
   "execution_count": 17,
   "metadata": {
    "scrolled": true
   },
   "outputs": [
    {
     "name": "stdout",
     "output_type": "stream",
     "text": [
      "step 0,training accuracy 0.98\n",
      "step 100,training accuracy 1\n",
      "step 200,training accuracy 1\n",
      "step 300,training accuracy 1\n",
      "step 400,training accuracy 0.98\n",
      "step 500,training accuracy 1\n",
      "step 600,training accuracy 1\n",
      "step 700,training accuracy 1\n",
      "step 800,training accuracy 1\n",
      "step 900,training accuracy 1\n",
      "step 1000,training accuracy 1\n",
      "step 1100,training accuracy 1\n",
      "step 1200,training accuracy 1\n",
      "step 1300,training accuracy 0.96\n",
      "step 1400,training accuracy 1\n",
      "step 1500,training accuracy 1\n",
      "step 1600,training accuracy 0.98\n",
      "step 1700,training accuracy 0.98\n",
      "step 1800,training accuracy 1\n",
      "step 1900,training accuracy 1\n",
      "step 2000,training accuracy 1\n",
      "step 2100,training accuracy 1\n",
      "step 2200,training accuracy 1\n",
      "step 2300,training accuracy 1\n",
      "step 2400,training accuracy 1\n",
      "step 2500,training accuracy 1\n",
      "step 2600,training accuracy 1\n",
      "step 2700,training accuracy 1\n",
      "step 2800,training accuracy 1\n",
      "step 2900,training accuracy 1\n",
      "step 3000,training accuracy 1\n",
      "step 3100,training accuracy 1\n",
      "step 3200,training accuracy 0.98\n",
      "step 3300,training accuracy 1\n",
      "step 3400,training accuracy 1\n",
      "step 3500,training accuracy 1\n",
      "step 3600,training accuracy 1\n",
      "step 3700,training accuracy 1\n",
      "step 3800,training accuracy 0.96\n",
      "step 3900,training accuracy 1\n",
      "step 4000,training accuracy 1\n",
      "step 4100,training accuracy 1\n",
      "step 4200,training accuracy 0.98\n",
      "step 4300,training accuracy 1\n",
      "step 4400,training accuracy 1\n",
      "step 4500,training accuracy 1\n",
      "step 4600,training accuracy 0.96\n",
      "step 4700,training accuracy 1\n",
      "step 4800,training accuracy 1\n",
      "step 4900,training accuracy 1\n",
      "step 5000,training accuracy 1\n",
      "step 5100,training accuracy 1\n",
      "step 5200,training accuracy 1\n",
      "step 5300,training accuracy 1\n",
      "step 5400,training accuracy 1\n",
      "step 5500,training accuracy 1\n",
      "step 5600,training accuracy 1\n",
      "step 5700,training accuracy 1\n",
      "step 5800,training accuracy 1\n",
      "step 5900,training accuracy 1\n"
     ]
    }
   ],
   "source": [
    "for i in range(6000):\n",
    "    batch_xs,batch_ys=mnist.train.next_batch(50)\n",
    "    if i%100==0:\n",
    "        train_accuracy=accuracy.eval(session=sess,feed_dict={\n",
    "            x:batch_xs,y_:batch_ys,keep_prob:1.0\n",
    "        })\n",
    "        print('step %d,training accuracy %g' % (i,train_accuracy))\n",
    "    train_step.run(session=sess,feed_dict={x:batch_xs,y_:batch_ys,keep_prob:1.0})"
   ]
  },
  {
   "cell_type": "code",
   "execution_count": 16,
   "metadata": {},
   "outputs": [
    {
     "name": "stdout",
     "output_type": "stream",
     "text": [
      "test accuracy 0.9861\n"
     ]
    }
   ],
   "source": [
    "print('test accuracy %g' % accuracy.eval(session=sess,feed_dict={\n",
    "    x:mnist.test.images,\n",
    "    y_:mnist.test.labels,\n",
    "    keep_prob:1.0\n",
    "}))"
   ]
  }
 ],
 "metadata": {
  "kernelspec": {
   "display_name": "Python 3",
   "language": "python",
   "name": "python3"
  },
  "language_info": {
   "codemirror_mode": {
    "name": "ipython",
    "version": 3
   },
   "file_extension": ".py",
   "mimetype": "text/x-python",
   "name": "python",
   "nbconvert_exporter": "python",
   "pygments_lexer": "ipython3",
   "version": "3.6.1"
  }
 },
 "nbformat": 4,
 "nbformat_minor": 2
}
