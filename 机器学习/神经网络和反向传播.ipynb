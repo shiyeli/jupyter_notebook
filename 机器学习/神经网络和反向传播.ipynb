{
 "cells": [
  {
   "cell_type": "code",
   "execution_count": 1,
   "metadata": {},
   "outputs": [
    {
     "data": {
      "text/plain": [
       "'/Users/yexianyong/Downloads/machine_learning/mnist/train-images-idx3-ubyte'"
      ]
     },
     "execution_count": 1,
     "metadata": {},
     "output_type": "execute_result"
    }
   ],
   "source": [
    "#https://www.zybuluo.com/hanbingtao/note/476663\n",
    "#手写数字识别\n",
    "\n",
    "#数据下载\n",
    "# from tensorflow.examples.tutorials.mnist import input_data\n",
    "# mnist=input_data.read_data_sets('/tmp/',one_hot=True)\n",
    "#或者：download:http://yann.lecun.com/exdb/mnist/\n",
    "\n",
    "#文件路径\n",
    "import os\n",
    "\n",
    "base_path='/Users/yexianyong/Downloads/machine_learning/mnist'\n",
    "training_images_path=os.path.join(base_path,'train-images-idx3-ubyte')\n",
    "training_labels_path=os.path.join(base_path,'train-labels-idx1-ubyte')\n",
    "test_images_path=os.path.join(base_path,'t10k-images-idx3-ubyte')\n",
    "test_labels_path=os.path.join(base_path,'t10k-labels-idx1-ubyte')\n",
    "\n",
    "training_images_path"
   ]
  },
  {
   "cell_type": "code",
   "execution_count": 2,
   "metadata": {},
   "outputs": [
    {
     "data": {
      "text/plain": [
       "(array([[0, 0, 0, ..., 0, 0, 0],\n",
       "        [0, 0, 0, ..., 0, 0, 0],\n",
       "        [0, 0, 0, ..., 0, 0, 0],\n",
       "        ..., \n",
       "        [0, 0, 0, ..., 0, 0, 0],\n",
       "        [0, 0, 0, ..., 0, 0, 0],\n",
       "        [0, 0, 0, ..., 0, 0, 0]], dtype=uint8),\n",
       " array([5, 0, 4, ..., 5, 6, 8], dtype=uint8))"
      ]
     },
     "execution_count": 2,
     "metadata": {},
     "output_type": "execute_result"
    }
   ],
   "source": [
    "#读取文件\n",
    "#http://blog.csdn.net/simple_the_best/article/details/75267863\n",
    "import struct\n",
    "import numpy as np\n",
    "\n",
    "def load_mnist(images_path,labels_path,kind='train'):\n",
    "    \"\"\"Load MNIST data from path\"\"\"\n",
    "    \n",
    "    with open(labels_path, 'rb') as lbpath:\n",
    "        magic, n = struct.unpack('>II',lbpath.read(8))\n",
    "        labels = np.fromfile(lbpath,dtype=np.uint8)\n",
    "\n",
    "    with open(images_path, 'rb') as imgpath:\n",
    "        magic, num, rows, cols = struct.unpack('>IIII',imgpath.read(16))\n",
    "        images = np.fromfile(imgpath,dtype=np.uint8).reshape(len(labels), 784)\n",
    "\n",
    "    return images, labels\n",
    "images,labels=load_mnist(training_images_path,training_labels_path)\n",
    "images,labels"
   ]
  },
  {
   "cell_type": "code",
   "execution_count": 3,
   "metadata": {},
   "outputs": [
    {
     "data": {
      "image/png": "[encoded data removed]",
      "text/plain": [
       "<matplotlib.figure.Figure at 0x104a57978>"
      ]
     },
     "metadata": {},
     "output_type": "display_data"
    }
   ],
   "source": [
    "#可视化\n",
    "import matplotlib.pyplot as plt\n",
    "fig,ax=plt.subplots(nrows=2,ncols=5,sharex=True,sharey=True)\n",
    "\n",
    "ax = ax.flatten()\n",
    "for i in range(10):\n",
    "    img = images[i].reshape(28, 28)\n",
    "    ax[i].imshow(img, cmap='Greys', interpolation='nearest')\n",
    "    ax[i].set_title(labels[i])\n",
    "    \n",
    "ax[0].set_xticks([])\n",
    "ax[0].set_yticks([])\n",
    "\n",
    "plt.show()"
   ]
  },
  {
   "cell_type": "code",
   "execution_count": 4,
   "metadata": {},
   "outputs": [
    {
     "data": {
      "text/plain": [
       "array([[ 1.,  0.,  0., ...,  0.,  0.,  0.],\n",
       "       [ 1.,  0.,  0., ...,  0.,  0.,  0.],\n",
       "       [ 1.,  0.,  0., ...,  0.,  0.,  0.],\n",
       "       ..., \n",
       "       [ 1.,  0.,  0., ...,  0.,  0.,  0.],\n",
       "       [ 1.,  0.,  0., ...,  0.,  0.,  0.],\n",
       "       [ 1.,  0.,  0., ...,  0.,  0.,  0.]])"
      ]
     },
     "execution_count": 4,
     "metadata": {},
     "output_type": "execute_result"
    }
   ],
   "source": [
    "#构造训练相关数据\n",
    "#给images添加bias：1\n",
    "\n",
    "#inputs\n",
    "inputs=np.zeros((images.shape[0],images.shape[1]+1))\n",
    "inputs[:,0:1]=1\n",
    "inputs[:,1:]=images[:,:]\n",
    "\n",
    "inputs"
   ]
  },
  {
   "cell_type": "code",
   "execution_count": 5,
   "metadata": {},
   "outputs": [
    {
     "data": {
      "text/plain": [
       "((300, 785), 300, (10, 301))"
      ]
     },
     "execution_count": 5,
     "metadata": {},
     "output_type": "execute_result"
    }
   ],
   "source": [
    "#超参数确定\n",
    "#Three layers\n",
    "#input layer nodes:785个(已添加bias)\n",
    "#hidden layer nodes:301个(已添加bias)\n",
    "#output layer nodes:10个\n",
    "\n",
    "#weights不能为0\n",
    "w12=np.random.uniform(-0.1,0.1,(300,inputs.shape[1]))\n",
    "w23=np.random.uniform(-0.1,0.1,(10,301))\n",
    "\n",
    "#学习率\n",
    "µ=0.1\n",
    "\n",
    "w12.shape,len(w12),w23.shape"
   ]
  },
  {
   "cell_type": "code",
   "execution_count": 37,
   "metadata": {},
   "outputs": [
    {
     "name": "stdout",
     "output_type": "stream",
     "text": [
      "output: [ 0.142675    0.08971482  0.07654316  0.13674144  0.09422594  0.05629649\n",
      "  0.09480712  0.07423745  0.11127549  0.12348309]\n",
      "lable: [ 0.  0.  0.  0.  0.  1.  0.  0.  0.  0.]\n",
      "output: 0 label: 5\n",
      "[-0.142675   -0.08971482 -0.07654316 -0.13674144 -0.09422594  0.94370351\n",
      " -0.09480712 -0.07423745 -0.11127549 -0.12348309]\n"
     ]
    }
   ],
   "source": [
    "#计算\n",
    "#激活函数sigmoid\n",
    "def sigmoid(x):\n",
    "    return 1.0 / (1.0 + np.exp(-x))\n",
    "\n",
    "def get_result(vec):\n",
    "    max_value_index = 0\n",
    "    max_value = 0\n",
    "    for i in range(len(vec)):\n",
    "        if vec[i] > max_value:\n",
    "            max_value = vec[i]\n",
    "            max_value_index = i\n",
    "    return max_value_index\n",
    " \n",
    "\n",
    "for x,y in zip(inputs[0:1],labels[0:1]):\n",
    "    \n",
    "    #计算输出值\n",
    "    a2=sigmoid(w12.dot(x))\n",
    "    a2=np.insert(a2,0,1)#add bias to a2\n",
    "    a3=sigmoid(w23.dot(a2))\n",
    "    \n",
    "    output=a3/np.sum(a3)\n",
    "    print('output:',output)\n",
    "    \n",
    "    #反向传播\n",
    "    label=np.zeros(10)\n",
    "    label[y]=1\n",
    "    print('lable:',label)\n",
    "    print('output:',get_result(a3),'label:',y)\n",
    "    \n",
    "    delta=label-output\n",
    "    print(delta)\n",
    "    \n",
    "    \n",
    "    \n",
    "    \n",
    "    "
   ]
  },
  {
   "cell_type": "code",
   "execution_count": null,
   "metadata": {},
   "outputs": [],
   "source": []
  }
 ],
 "metadata": {
  "kernelspec": {
   "display_name": "Python 3",
   "language": "python",
   "name": "python3"
  },
  "language_info": {
   "codemirror_mode": {
    "name": "ipython",
    "version": 3
   },
   "file_extension": ".py",
   "mimetype": "text/x-python",
   "name": "python",
   "nbconvert_exporter": "python",
   "pygments_lexer": "ipython3",
   "version": "3.6.1"
  }
 },
 "nbformat": 4,
 "nbformat_minor": 2
}
