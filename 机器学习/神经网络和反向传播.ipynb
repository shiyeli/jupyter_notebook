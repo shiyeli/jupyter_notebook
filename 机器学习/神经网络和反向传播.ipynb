{
 "cells": [
  {
   "cell_type": "code",
   "execution_count": 1,
   "metadata": {},
   "outputs": [
    {
     "data": {
      "text/plain": [
       "'/Users/yexianyong/Downloads/machine_learning/mnist/train-images-idx3-ubyte'"
      ]
     },
     "execution_count": 1,
     "metadata": {},
     "output_type": "execute_result"
    }
   ],
   "source": [
    "#https://www.zybuluo.com/hanbingtao/note/476663\n",
    "#手写数字识别\n",
    "\n",
    "#数据下载\n",
    "# from tensorflow.examples.tutorials.mnist import input_data\n",
    "# mnist=input_data.read_data_sets('/tmp/',one_hot=True)\n",
    "#或者：download:http://yann.lecun.com/exdb/mnist/\n",
    "\n",
    "#文件路径\n",
    "import os\n",
    "\n",
    "base_path='/Users/yexianyong/Downloads/machine_learning/mnist'\n",
    "training_images_path=os.path.join(base_path,'train-images-idx3-ubyte')\n",
    "training_labels_path=os.path.join(base_path,'train-labels-idx1-ubyte')\n",
    "test_images_path=os.path.join(base_path,'t10k-images-idx3-ubyte')\n",
    "test_labels_path=os.path.join(base_path,'t10k-labels-idx1-ubyte')\n",
    "\n",
    "training_images_path"
   ]
  },
  {
   "cell_type": "code",
   "execution_count": 2,
   "metadata": {},
   "outputs": [
    {
     "data": {
      "text/plain": [
       "(array([[0, 0, 0, ..., 0, 0, 0],\n",
       "        [0, 0, 0, ..., 0, 0, 0],\n",
       "        [0, 0, 0, ..., 0, 0, 0],\n",
       "        ...,\n",
       "        [0, 0, 0, ..., 0, 0, 0],\n",
       "        [0, 0, 0, ..., 0, 0, 0],\n",
       "        [0, 0, 0, ..., 0, 0, 0]], dtype=uint8),\n",
       " array([5, 0, 4, ..., 5, 6, 8], dtype=uint8))"
      ]
     },
     "execution_count": 2,
     "metadata": {},
     "output_type": "execute_result"
    }
   ],
   "source": [
    "#读取文件\n",
    "#http://blog.csdn.net/simple_the_best/article/details/75267863\n",
    "import struct\n",
    "import numpy as np\n",
    "\n",
    "def load_mnist(images_path,labels_path,kind='train'):\n",
    "    \"\"\"Load MNIST data from path\"\"\"\n",
    "    \n",
    "    with open(labels_path, 'rb') as lbpath:\n",
    "        magic, n = struct.unpack('>II',lbpath.read(8))\n",
    "        labels = np.fromfile(lbpath,dtype=np.uint8)\n",
    "\n",
    "    with open(images_path, 'rb') as imgpath:\n",
    "        magic, num, rows, cols = struct.unpack('>IIII',imgpath.read(16))\n",
    "        images = np.fromfile(imgpath,dtype=np.uint8).reshape(len(labels), 784)\n",
    "\n",
    "    return images, labels\n",
    "images,labels=load_mnist(training_images_path,training_labels_path)\n",
    "images,labels"
   ]
  },
  {
   "cell_type": "code",
   "execution_count": 3,
   "metadata": {},
   "outputs": [
    {
     "data": {
      "image/png": "[encoded data removed]",
      "text/plain": [
       "<matplotlib.figure.Figure at 0x104a4afd0>"
      ]
     },
     "metadata": {},
     "output_type": "display_data"
    }
   ],
   "source": [
    "#可视化\n",
    "import matplotlib.pyplot as plt\n",
    "fig,ax=plt.subplots(nrows=2,ncols=5,sharex=True,sharey=True)\n",
    "\n",
    "ax = ax.flatten()\n",
    "for i in range(10):\n",
    "    img = images[i].reshape(28, 28)\n",
    "    ax[i].imshow(img, cmap='Greys', interpolation='nearest')\n",
    "    ax[i].set_title(labels[i])\n",
    "    \n",
    "ax[0].set_xticks([])\n",
    "ax[0].set_yticks([])\n",
    "\n",
    "plt.show()"
   ]
  },
  {
   "cell_type": "code",
   "execution_count": 4,
   "metadata": {},
   "outputs": [
    {
     "data": {
      "text/plain": [
       "array([[1., 0., 0., ..., 0., 0., 0.],\n",
       "       [1., 0., 0., ..., 0., 0., 0.],\n",
       "       [1., 0., 0., ..., 0., 0., 0.],\n",
       "       ...,\n",
       "       [1., 0., 0., ..., 0., 0., 0.],\n",
       "       [1., 0., 0., ..., 0., 0., 0.],\n",
       "       [1., 0., 0., ..., 0., 0., 0.]])"
      ]
     },
     "execution_count": 4,
     "metadata": {},
     "output_type": "execute_result"
    }
   ],
   "source": [
    "#构造训练相关数据\n",
    "#给images添加bias：1\n",
    "\n",
    "#inputs\n",
    "inputs=np.zeros((images.shape[0],images.shape[1]+1))\n",
    "inputs[:,0:1]=1#为数据添加bias 1\n",
    "inputs[:,1:]=images[:,:] \n",
    "\n",
    "inputs"
   ]
  },
  {
   "cell_type": "code",
   "execution_count": 5,
   "metadata": {},
   "outputs": [
    {
     "data": {
      "text/plain": [
       "((301, 785), array([[ 0.07319002,  0.02416462, -0.03886408, ...,  0.04311311,\n",
       "          0.08146574, -0.01957762],\n",
       "        [ 0.09161252, -0.01052021,  0.08191635, ..., -0.07487355,\n",
       "         -0.02006666, -0.06262183],\n",
       "        [ 0.05554247,  0.07769375,  0.08417353, ..., -0.01789507,\n",
       "         -0.02749267,  0.02156663],\n",
       "        ...,\n",
       "        [-0.0880929 ,  0.07233561,  0.06116076, ..., -0.04103263,\n",
       "          0.02335407,  0.03525402],\n",
       "        [-0.0570384 ,  0.0503442 ,  0.07335777, ..., -0.08070767,\n",
       "          0.05559287,  0.08043005],\n",
       "        [ 0.07413528, -0.04862263,  0.00573881, ...,  0.03982171,\n",
       "         -0.02879728,  0.05367658]]), (10,\n",
       "  301), array([[ 0.08945232, -0.068773  , -0.05586917, ...,  0.06953051,\n",
       "          0.07203974, -0.04868864],\n",
       "        [ 0.04931885, -0.00309411, -0.09290964, ...,  0.04495044,\n",
       "          0.09597188, -0.05772832],\n",
       "        [-0.085719  , -0.00515926,  0.06408781, ..., -0.06396675,\n",
       "          0.05087416, -0.00568066],\n",
       "        ...,\n",
       "        [-0.0654656 , -0.01694325,  0.02096927, ...,  0.03529678,\n",
       "         -0.05048515, -0.08323116],\n",
       "        [ 0.04536526,  0.0725944 , -0.08975452, ...,  0.03425921,\n",
       "          0.02621518, -0.05977792],\n",
       "        [-0.0798159 , -0.02987346,  0.02689293, ...,  0.0713406 ,\n",
       "          0.00459205,  0.01283017]]))"
      ]
     },
     "execution_count": 5,
     "metadata": {},
     "output_type": "execute_result"
    }
   ],
   "source": [
    "#超参数确定\n",
    "#Three layers\n",
    "#input layer nodes:785个(已添加bias)\n",
    "#hidden layer nodes:301个(已添加bias)\n",
    "#output layer nodes:10个\n",
    "\n",
    "#weights不能为0\n",
    "w12=np.random.uniform(-0.1,0.1,(301,inputs.shape[1]))\n",
    "w23=np.random.uniform(-0.1,0.1,(10,301))\n",
    "\n",
    "#学习率\n",
    "µ=0.001\n",
    "\n",
    "w12.shape,w12,w23.shape,w23"
   ]
  },
  {
   "cell_type": "code",
   "execution_count": 6,
   "metadata": {
    "scrolled": true
   },
   "outputs": [
    {
     "name": "stderr",
     "output_type": "stream",
     "text": [
      "/Library/Frameworks/Python.framework/Versions/3.6/lib/python3.6/site-packages/ipykernel_launcher.py:4: RuntimeWarning: overflow encountered in exp\n",
      "  after removing the cwd from sys.path.\n"
     ]
    },
    {
     "data": {
      "text/plain": [
       "(array([[ 0.07299   ,  0.02416462, -0.03886408, ...,  0.04311311,\n",
       "          0.08146574, -0.01957762],\n",
       "        [ 0.09100999, -0.01052021,  0.08191635, ..., -0.07487355,\n",
       "         -0.02006666, -0.06262183],\n",
       "        [ 0.05568924,  0.07769375,  0.08417353, ..., -0.01789507,\n",
       "         -0.02749267,  0.02156663],\n",
       "        ...,\n",
       "        [-0.08782714,  0.07233561,  0.06116076, ..., -0.04103263,\n",
       "          0.02335407,  0.03525402],\n",
       "        [-0.05659884,  0.0503442 ,  0.07335777, ..., -0.08070767,\n",
       "          0.05559287,  0.08043005],\n",
       "        [ 0.07405632, -0.04862263,  0.00573881, ...,  0.03982171,\n",
       "         -0.02879728,  0.05367658]]),\n",
       " array([[ 0.09864206,  0.27878236, -0.02321745, ...,  0.07130745,\n",
       "         -0.03926389,  0.00130232],\n",
       "        [ 0.03051141, -0.24614276,  0.04276779, ...,  0.04668549,\n",
       "          0.06400338, -0.04377259],\n",
       "        [-0.09932032, -0.12278856,  0.03701976, ..., -0.04328043,\n",
       "          0.08904739,  0.00389261],\n",
       "        ...,\n",
       "        [-0.04526638, -0.08217903, -0.00102179, ...,  0.0026794 ,\n",
       "          0.02351471, -0.05874273],\n",
       "        [ 0.05234461, -0.17819119,  0.1461556 , ...,  0.03730118,\n",
       "         -0.04185012,  0.12283469],\n",
       "        [-0.08675218,  0.08698194,  0.00785   , ...,  0.07387023,\n",
       "         -0.0568734 , -0.03826876]]))"
      ]
     },
     "execution_count": 6,
     "metadata": {},
     "output_type": "execute_result"
    }
   ],
   "source": [
    "#计算\n",
    "#激活函数sigmoid\n",
    "def sigmoid(x):\n",
    "    return 1.0 / (1.0 + np.exp(-x))\n",
    "\n",
    "def get_result(vec):\n",
    "    max_value_index = 0\n",
    "    max_value = 0\n",
    "    for i in range(len(vec)):\n",
    "        if vec[i] > max_value:\n",
    "            max_value = vec[i]\n",
    "            max_value_index = i\n",
    "    return max_value_index\n",
    "\n",
    "def softmax(vec):\n",
    "    return vec/np.sum(vec)\n",
    " \n",
    "\n",
    "for x,y in zip(inputs,labels):\n",
    "    \n",
    "    #计算输出值\n",
    "    z2=w12.dot(x)\n",
    "    a2=sigmoid(z2)\n",
    "    \n",
    "    z3=w23.dot(a2)\n",
    "    a3=softmax(z3)\n",
    "#     print('output:',a3)\n",
    "    \n",
    "    #反向传播\n",
    "    #######################\n",
    "    label=np.zeros(10)\n",
    "    label[y]=1\n",
    "#     print('lable:',label)\n",
    "#     print('output:',get_result(a3),'label:',y)\n",
    "    \n",
    "    delta3=a3-label\n",
    "#     print('delta3:',delta3)\n",
    "    \n",
    "    #更新w23\n",
    "    w23=w23+µ*delta3.reshape(len(delta3),1).dot(a2.reshape(1,len(a2)))\n",
    "    \n",
    "    #计算a2节点误差delta2\n",
    "    delta2=a2*(1-a2)*w23.T.dot(delta3)\n",
    "    \n",
    "    #更新w12\n",
    "#     print(x.shape,w12.shape,delta2.shape)\n",
    "    w12=w12+µ*delta2.reshape(len(delta2),1).dot(x.reshape(1,len(x)))\n",
    "    \n",
    "    #######################\n",
    "    \n",
    "w12,w23"
   ]
  },
  {
   "cell_type": "code",
   "execution_count": 7,
   "metadata": {},
   "outputs": [
    {
     "data": {
      "image/png": "[encoded data removed]",
      "text/plain": [
       "<matplotlib.figure.Figure at 0x10939cf98>"
      ]
     },
     "metadata": {},
     "output_type": "display_data"
    },
    {
     "data": {
      "image/png": "[encoded data removed]",
      "text/plain": [
       "<matplotlib.figure.Figure at 0x10939cef0>"
      ]
     },
     "metadata": {},
     "output_type": "display_data"
    }
   ],
   "source": [
    "def show(img):\n",
    "    fig,ax=plt.subplots()\n",
    "    implot=plt.imshow(img)\n",
    "    plt.gray()\n",
    "    plt.show()\n",
    "    \n",
    "show(w12)\n",
    "show(w23)"
   ]
  },
  {
   "cell_type": "code",
   "execution_count": 8,
   "metadata": {},
   "outputs": [
    {
     "name": "stderr",
     "output_type": "stream",
     "text": [
      "/Library/Frameworks/Python.framework/Versions/3.6/lib/python3.6/site-packages/ipykernel_launcher.py:4: RuntimeWarning: overflow encountered in exp\n",
      "  after removing the cwd from sys.path.\n"
     ]
    },
    {
     "data": {
      "text/plain": [
       "0.1495"
      ]
     },
     "execution_count": 8,
     "metadata": {},
     "output_type": "execute_result"
    }
   ],
   "source": [
    "test_images,test_labels=load_mnist(test_images_path,test_labels_path)\n",
    "#数据预处理\n",
    "#inputs\n",
    "test_inputs=np.zeros((test_images.shape[0],test_images.shape[1]+1))\n",
    "test_inputs[:,0:1]=1#为数据添加bias 1\n",
    "test_inputs[:,1:]=test_images[:,:] \n",
    "\n",
    "error_counts=0\n",
    "for x,y in zip(test_inputs,test_labels):\n",
    "    \n",
    "    #计算输出值\n",
    "    z2=w12.dot(x)\n",
    "    a2=sigmoid(z2)\n",
    "    \n",
    "    z3=w23.dot(a2)\n",
    "    a3=softmax(z3)\n",
    "    \n",
    "    if int(get_result(a3))!=int(y):\n",
    "        error_counts+=1\n",
    "error_counts/len(test_labels)"
   ]
  }
 ],
 "metadata": {
  "kernelspec": {
   "display_name": "Python 3",
   "language": "python",
   "name": "python3"
  },
  "language_info": {
   "codemirror_mode": {
    "name": "ipython",
    "version": 3
   },
   "file_extension": ".py",
   "mimetype": "text/x-python",
   "name": "python",
   "nbconvert_exporter": "python",
   "pygments_lexer": "ipython3",
   "version": "3.6.1"
  }
 },
 "nbformat": 4,
 "nbformat_minor": 2
}
