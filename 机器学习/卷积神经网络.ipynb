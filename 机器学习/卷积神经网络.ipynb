{
 "cells": [
  {
   "cell_type": "code",
   "execution_count": null,
   "metadata": {},
   "outputs": [],
   "source": [
    "#https://www.zybuluo.com/hanbingtao/note/485480\n",
    "#卷积神经网络(Convolutional Neural Network, CNN)\n",
    "\n",
    "#https://zhuanlan.zhihu.com/p/33773140\n",
    "#手把手带你用Numpy实现CNN <零>"
   ]
  }
 ],
 "metadata": {
  "kernelspec": {
   "display_name": "Python 3",
   "language": "python",
   "name": "python3"
  },
  "language_info": {
   "codemirror_mode": {
    "name": "ipython",
    "version": 3
   },
   "file_extension": ".py",
   "mimetype": "text/x-python",
   "name": "python",
   "nbconvert_exporter": "python",
   "pygments_lexer": "ipython3",
   "version": "3.6.1"
  }
 },
 "nbformat": 4,
 "nbformat_minor": 2
}
