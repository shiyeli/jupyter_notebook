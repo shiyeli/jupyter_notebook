{
 "cells": [
  {
   "cell_type": "code",
   "execution_count": 18,
   "metadata": {},
   "outputs": [
    {
     "data": {
      "text/plain": [
       "'/Users/yexianyong/Downloads/machine_learning/mnist/train-images-idx3-ubyte'"
      ]
     },
     "execution_count": 18,
     "metadata": {},
     "output_type": "execute_result"
    }
   ],
   "source": [
    "#https://www.zybuluo.com/hanbingtao/note/485480\n",
    "#卷积神经网络(Convolutional Neural Network, CNN)\n",
    "\n",
    "#数据下载\n",
    "# from tensorflow.examples.tutorials.mnist import input_data\n",
    "# mnist=input_data.read_data_sets('/tmp/',one_hot=True)\n",
    "#或者：download:http://yann.lecun.com/exdb/mnist/\n",
    "\n",
    "#文件路径\n",
    "import os\n",
    "\n",
    "base_path='/Users/yexianyong/Downloads/machine_learning/mnist'\n",
    "training_images_path=os.path.join(base_path,'train-images-idx3-ubyte')\n",
    "training_labels_path=os.path.join(base_path,'train-labels-idx1-ubyte')\n",
    "test_images_path=os.path.join(base_path,'t10k-images-idx3-ubyte')\n",
    "test_labels_path=os.path.join(base_path,'t10k-labels-idx1-ubyte')\n",
    "\n",
    "training_images_path"
   ]
  },
  {
   "cell_type": "code",
   "execution_count": 19,
   "metadata": {},
   "outputs": [
    {
     "data": {
      "text/plain": [
       "(array([[0, 0, 0, ..., 0, 0, 0],\n",
       "        [0, 0, 0, ..., 0, 0, 0],\n",
       "        [0, 0, 0, ..., 0, 0, 0],\n",
       "        ...,\n",
       "        [0, 0, 0, ..., 0, 0, 0],\n",
       "        [0, 0, 0, ..., 0, 0, 0],\n",
       "        [0, 0, 0, ..., 0, 0, 0]], dtype=uint8),\n",
       " array([5, 0, 4, ..., 5, 6, 8], dtype=uint8))"
      ]
     },
     "execution_count": 19,
     "metadata": {},
     "output_type": "execute_result"
    }
   ],
   "source": [
    "#读取文件\n",
    "#http://blog.csdn.net/simple_the_best/article/details/75267863\n",
    "import struct\n",
    "import numpy as np\n",
    "\n",
    "def load_mnist(images_path,labels_path,kind='train'):\n",
    "    \"\"\"Load MNIST data from path\"\"\"\n",
    "    \n",
    "    with open(labels_path, 'rb') as lbpath:\n",
    "        magic, n = struct.unpack('>II',lbpath.read(8))\n",
    "        labels = np.fromfile(lbpath,dtype=np.uint8)\n",
    "\n",
    "    with open(images_path, 'rb') as imgpath:\n",
    "        magic, num, rows, cols = struct.unpack('>IIII',imgpath.read(16))\n",
    "        images = np.fromfile(imgpath,dtype=np.uint8).reshape(len(labels), 784)\n",
    "\n",
    "    return images, labels\n",
    "images,labels=load_mnist(training_images_path,training_labels_path)\n",
    "images,labels"
   ]
  },
  {
   "cell_type": "code",
   "execution_count": 20,
   "metadata": {},
   "outputs": [
    {
     "data": {
      "image/png": "[encoded data removed]",
      "text/plain": [
       "<matplotlib.figure.Figure at 0x10951ecf8>"
      ]
     },
     "metadata": {},
     "output_type": "display_data"
    }
   ],
   "source": [
    "#可视化\n",
    "import matplotlib.pyplot as plt\n",
    "fig,ax=plt.subplots(nrows=4,ncols=5,sharex=True,sharey=True)\n",
    "\n",
    "ax = ax.flatten()\n",
    "for i in range(20):\n",
    "    img = images[i].reshape(28, 28)\n",
    "    ax[i].imshow(img, cmap='Greys', interpolation='nearest')\n",
    "    ax[i].set_title(labels[i])\n",
    "    \n",
    "ax[0].set_xticks([])\n",
    "ax[0].set_yticks([])\n",
    "\n",
    "plt.show()"
   ]
  },
  {
   "cell_type": "markdown",
   "metadata": {},
   "source": [
    "# 以下开始卷积网络部分代码"
   ]
  },
  {
   "cell_type": "code",
   "execution_count": null,
   "metadata": {},
   "outputs": [],
   "source": []
  },
  {
   "cell_type": "code",
   "execution_count": null,
   "metadata": {},
   "outputs": [],
   "source": []
  }
 ],
 "metadata": {
  "kernelspec": {
   "display_name": "Python 3",
   "language": "python",
   "name": "python3"
  },
  "language_info": {
   "codemirror_mode": {
    "name": "ipython",
    "version": 3
   },
   "file_extension": ".py",
   "mimetype": "text/x-python",
   "name": "python",
   "nbconvert_exporter": "python",
   "pygments_lexer": "ipython3",
   "version": "3.6.1"
  }
 },
 "nbformat": 4,
 "nbformat_minor": 2
}
