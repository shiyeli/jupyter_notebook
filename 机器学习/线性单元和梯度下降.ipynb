{
 "cells": [
  {
   "cell_type": "code",
   "execution_count": 108,
   "metadata": {},
   "outputs": [
    {
     "data": {
      "text/plain": [
       "(array([[  1. ,   5. ],\n",
       "        [  1. ,   3. ],\n",
       "        [  1. ,   8. ],\n",
       "        [  1. ,   1.4],\n",
       "        [  1. ,  10.1]]),\n",
       " array([ 5500,  2300,  7600,  1800, 11400]),\n",
       " array([ 0.,  0.]))"
      ]
     },
     "execution_count": 108,
     "metadata": {},
     "output_type": "execute_result"
    }
   ],
   "source": [
    "#https://www.zybuluo.com/hanbingtao/note/448086\n",
    "\n",
    "import numpy as np\n",
    "\n",
    "f=lambda x:x\n",
    "\n",
    "weights=np.array([0.0 for _ in range(2)])\n",
    "\n",
    "years=np.array([[5], [3], [8], [1.4], [10.1]])\n",
    "input_xs=np.zeros((5,2))\n",
    "input_xs[:,0]=[1 for i in range(5)]\n",
    "input_xs[:,1]=years.T\n",
    "\n",
    "labels = np.array([5500, 2300, 7600, 1800, 11400])\n",
    "\n",
    "input_xs,labels,weights"
   ]
  },
  {
   "cell_type": "code",
   "execution_count": 109,
   "metadata": {},
   "outputs": [],
   "source": [
    "#训练\n",
    "for i in range(1000):\n",
    "    # 计算感知器在当前权重下的输出\n",
    "    outputs=np.array(list(map(f,input_xs.dot(weights.T))))\n",
    "    #更新权重\n",
    "    #梯度下降推导结果公式：\n",
    "    #weights_new=weights_old+(labels-outputs).dot(inputs)*学习率\n",
    "    delta=labels-outputs\n",
    "    weights=weights+delta.dot(input_xs)*0.001"
   ]
  },
  {
   "cell_type": "code",
   "execution_count": 110,
   "metadata": {},
   "outputs": [
    {
     "data": {
      "image/png": "[encoded data removed]",
      "text/plain": [
       "<matplotlib.figure.Figure at 0x106eef3c8>"
      ]
     },
     "metadata": {},
     "output_type": "display_data"
    }
   ],
   "source": [
    "#https://matplotlib.org/tutorials/introductory/sample_plots.html#scatter-plots\n",
    "import matplotlib.pyplot as plt\n",
    "import numpy as np\n",
    "\n",
    "plt.scatter(years.T[0],labels,marker='x')\n",
    "\n",
    "x=np.arange(1,10,1)\n",
    "y=weights[0]+weights[1]*x\n",
    "plt.plot(x,y)\n",
    "plt.show()\n"
   ]
  }
 ],
 "metadata": {
  "kernelspec": {
   "display_name": "Python 3",
   "language": "python",
   "name": "python3"
  },
  "language_info": {
   "codemirror_mode": {
    "name": "ipython",
    "version": 3
   },
   "file_extension": ".py",
   "mimetype": "text/x-python",
   "name": "python",
   "nbconvert_exporter": "python",
   "pygments_lexer": "ipython3",
   "version": "3.6.1"
  }
 },
 "nbformat": 4,
 "nbformat_minor": 2
}
