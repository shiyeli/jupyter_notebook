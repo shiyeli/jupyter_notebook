{
 "cells": [
  {
   "cell_type": "code",
   "execution_count": 72,
   "metadata": {},
   "outputs": [
    {
     "name": "stdout",
     "output_type": "stream",
     "text": [
      "Extracting MNIST_data/train-images-idx3-ubyte.gz\n",
      "Extracting MNIST_data/train-labels-idx1-ubyte.gz\n",
      "Extracting MNIST_data/t10k-images-idx3-ubyte.gz\n",
      "Extracting MNIST_data/t10k-labels-idx1-ubyte.gz\n"
     ]
    },
    {
     "data": {
      "text/plain": [
       "Datasets(train=<tensorflow.contrib.learn.python.learn.datasets.mnist.DataSet object at 0x12f4b0518>, validation=<tensorflow.contrib.learn.python.learn.datasets.mnist.DataSet object at 0x12f4b0550>, test=<tensorflow.contrib.learn.python.learn.datasets.mnist.DataSet object at 0x12f4b0470>)"
      ]
     },
     "execution_count": 72,
     "metadata": {},
     "output_type": "execute_result"
    }
   ],
   "source": [
    "#http://www.tensorfly.cn/tfdoc/tutorials/mnist_beginners.html\n",
    "import tensorflow as tf\n",
    "from tensorflow.examples.tutorials.mnist import input_data\n",
    "\n",
    "\n",
    "\"\"\"\n",
    "URLError: <urlopen error [SSL: CERTIFICATE_VERIFY_FAILED] \n",
    "certificate verify failed (_ssl.c:749)>\n",
    "\n",
    "解决办法一：\n",
    "import ssl\n",
    "ssl._create_default_https_context = ssl._create_unverified_context\n",
    "\n",
    "解决办法二：\n",
    "/Applications/Python 3.6/ReadMe.rtf中提到：\n",
    "\n",
    "Certificate verification and OpenSSL\n",
    "\n",
    "**NEW** This variant of Python 3.6 now includes its own private copy of OpenSSL 1.0.2.  \n",
    "Unlike previous releases, the deprecated Apple-supplied OpenSSL libraries are no longer used.  \n",
    "This also means that the trust certificates in system and user keychains managed by the \n",
    "Keychain Access application and the security command line utility are no longer used as \n",
    "defaults by the Python ssl module.  For 3.6.0, a sample command script is included in \n",
    "/Applications/Python 3.6 to install a curated bundle of default root certificates from the \n",
    "third-party certifi package (https://pypi.python.org/pypi/certifi).  If you choose to \n",
    "use certifi, you should consider subscribing to the project's email update service to be\n",
    "notified when the certificate bundle is updated.\n",
    "\n",
    "The bundled pip included with the Python 3.6 installer has its own default certificate store \n",
    "for verifying download connections.\n",
    "\n",
    "具体操作：\n",
    "执行/Applications/Python 3.6/Install Certificates.command\n",
    "\"\"\"\n",
    "\n",
    "mnist = input_data.read_data_sets(\"MNIST_data/\", one_hot=True)\n",
    "mnist"
   ]
  },
  {
   "cell_type": "code",
   "execution_count": 78,
   "metadata": {},
   "outputs": [
    {
     "data": {
      "text/plain": [
       "(<tf.Tensor 'Placeholder_18:0' shape=(?, 784) dtype=float32>,\n",
       " <tf.Variable 'Variable_20:0' shape=(784, 10) dtype=float32_ref>,\n",
       " <tf.Variable 'Variable_21:0' shape=(10,) dtype=float32_ref>)"
      ]
     },
     "execution_count": 78,
     "metadata": {},
     "output_type": "execute_result"
    }
   ],
   "source": [
    "x=tf.placeholder(tf.float32,[None,784])\n",
    "W=tf.Variable(tf.zeros([784,10]))\n",
    "b=tf.Variable(tf.zeros([10]))\n",
    "x,W,b"
   ]
  },
  {
   "cell_type": "code",
   "execution_count": 74,
   "metadata": {},
   "outputs": [
    {
     "data": {
      "text/plain": [
       "(784,)"
      ]
     },
     "execution_count": 74,
     "metadata": {},
     "output_type": "execute_result"
    }
   ],
   "source": [
    "import numpy as np\n",
    "np.random.seed(1)\n",
    "img=np.random.rand(784)\n",
    "img.shape"
   ]
  },
  {
   "cell_type": "code",
   "execution_count": 75,
   "metadata": {},
   "outputs": [
    {
     "data": {
      "text/plain": [
       "((784, 10), (10,))"
      ]
     },
     "execution_count": 75,
     "metadata": {},
     "output_type": "execute_result"
    }
   ],
   "source": [
    "W=np.random.rand(784,10)\n",
    "b=np.random.rand(10)\n",
    "W.shape,b.shape"
   ]
  },
  {
   "cell_type": "code",
   "execution_count": 76,
   "metadata": {},
   "outputs": [
    {
     "data": {
      "text/plain": [
       "array([200.68853235, 195.02613643, 197.50259906, 202.93271629,\n",
       "       198.37011004, 200.47244293, 191.76524094, 195.41431122,\n",
       "       188.89350998, 192.6312482 ])"
      ]
     },
     "execution_count": 76,
     "metadata": {},
     "output_type": "execute_result"
    }
   ],
   "source": [
    "img.dot(W)+b"
   ]
  },
  {
   "cell_type": "code",
   "execution_count": 81,
   "metadata": {},
   "outputs": [],
   "source": [
    "y=tf.nn.softmax(tf.matmul(x,W)+b)\n",
    "y_=tf.placeholder(tf.float32,[None,10])\n",
    "cross_entropy=-tf.reduce_sum(y_*tf.log(y))\n",
    "train_step=tf.train.GradientDescentOptimizer(0.01).minimize(cross_entropy)"
   ]
  },
  {
   "cell_type": "code",
   "execution_count": 82,
   "metadata": {},
   "outputs": [],
   "source": [
    "init=tf.global_variables_initializer()\n",
    "sess=tf.Session()\n",
    "sess.run(init)"
   ]
  },
  {
   "cell_type": "code",
   "execution_count": 83,
   "metadata": {},
   "outputs": [],
   "source": [
    "for i in range(1000):\n",
    "    batch_xs, batch_ys = mnist.train.next_batch(100)\n",
    "    sess.run(train_step, feed_dict={x: batch_xs, y_: batch_ys})"
   ]
  },
  {
   "cell_type": "code",
   "execution_count": 84,
   "metadata": {},
   "outputs": [
    {
     "name": "stdout",
     "output_type": "stream",
     "text": [
      "0.9163\n"
     ]
    }
   ],
   "source": [
    "#评估\n",
    "correct_prediction=tf.equal(tf.argmax(y,1),tf.argmax(y_,1))\n",
    "accuracy=tf.reduce_mean(tf.cast(correct_prediction,tf.float32))\n",
    "print(sess.run(accuracy,feed_dict={x:mnist.test.images,y_:mnist.test.labels}))\n"
   ]
  }
 ],
 "metadata": {
  "kernelspec": {
   "display_name": "Python 3",
   "language": "python",
   "name": "python3"
  },
  "language_info": {
   "codemirror_mode": {
    "name": "ipython",
    "version": 3
   },
   "file_extension": ".py",
   "mimetype": "text/x-python",
   "name": "python",
   "nbconvert_exporter": "python",
   "pygments_lexer": "ipython3",
   "version": "3.6.1"
  }
 },
 "nbformat": 4,
 "nbformat_minor": 2
}
