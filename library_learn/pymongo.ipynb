{
 "cells": [
  {
   "cell_type": "markdown",
   "metadata": {},
   "source": [
    "## [Mongo Python Module Index](http://api.mongodb.com/python/current/py-modindex.html)"
   ]
  },
  {
   "cell_type": "code",
   "execution_count": 1,
   "metadata": {},
   "outputs": [],
   "source": [
    "import pymongo\n",
    "import bson\n",
    "import datetime\n",
    "from bson import ObjectId\n",
    "from bson import DBRef\n",
    "\n",
    "# mongodb\n",
    "mongo_client = pymongo.MongoClient(host='mongodb://127.0.0.1:27017,127.0.0.1:27018')\n",
    "test = mongo_client.test\n",
    "db = mongo_client.cloud\n",
    "cas = mongo_client.cas\n",
    "alarm = mongo_client.alarm"
   ]
  },
  {
   "cell_type": "code",
   "execution_count": 6,
   "metadata": {
    "scrolled": true
   },
   "outputs": [
    {
     "data": {
      "text/plain": [
       "<pymongo.results.UpdateResult at 0x10a6d9e88>"
      ]
     },
     "execution_count": 6,
     "metadata": {},
     "output_type": "execute_result"
    }
   ],
   "source": [
    "db.sites.update_one(\n",
    "    {'domain': 'play.ytxa1.com'}, \n",
    "    {'$unset': {'site_group.ddos':1}}\n",
    "                                   )"
   ]
  },
  {
   "cell_type": "code",
   "execution_count": 18,
   "metadata": {
    "scrolled": true
   },
   "outputs": [
    {
     "data": {
      "text/plain": [
       "[{'_id': ObjectId('558d15d769273f3dc29e4207'),\n",
       "  'domain': 'cdn.zmke.net',\n",
       "  'cdn_type': 'ns'},\n",
       " {'_id': ObjectId('56d500de69273f0a47455814'),\n",
       "  'domain': 'youmzi.com',\n",
       "  'cdn_type': 'ns'},\n",
       " {'_id': ObjectId('573156b469273f5c37d93d71'),\n",
       "  'domain': 'zmke.com',\n",
       "  'cdn_type': 'ns'},\n",
       " {'_id': ObjectId('573d6c38a12f7217b6190521'),\n",
       "  'domain': 'i2p.com',\n",
       "  'cdn_type': 'ns'},\n",
       " {'_id': ObjectId('573d9654a12f7220d032bc38'),\n",
       "  'domain': '524dj.com',\n",
       "  'cdn_type': 'ns'},\n",
       " {'_id': ObjectId('577e0f27a12f72e7a7aacadf'),\n",
       "  'domain': 'py3k.com',\n",
       "  'cdn_type': 'ns'},\n",
       " {'_id': ObjectId('58638894a12f7279bcc6e9ed'),\n",
       "  'domain': 'tankywoo.com',\n",
       "  'cdn_type': 'ns'},\n",
       " {'_id': ObjectId('58bfd04aa12f722a346d2394'),\n",
       "  'domain': 'linxiaojuan.pw',\n",
       "  'cdn_type': 'ns'},\n",
       " {'_id': ObjectId('58eb0182dcfa459bd7c218bc'),\n",
       "  'domain': 'cname.365cyd.cn',\n",
       "  'cdn_type': 'ns'},\n",
       " {'_id': ObjectId('5929161ca12f7224455270de'),\n",
       "  'domain': 'jiasule.com',\n",
       "  'cdn_type': 'ns'},\n",
       " {'_id': ObjectId('5c6a87fc82fe5f4512a62894'),\n",
       "  'domain': 'biup.com',\n",
       "  'cdn_type': 'ns'},\n",
       " {'_id': ObjectId('5cf7b5d182fe5f3b670c39ee'),\n",
       "  'domain': 'tacu.com',\n",
       "  'cdn_type': 'ns'}]"
      ]
     },
     "execution_count": 18,
     "metadata": {},
     "output_type": "execute_result"
    }
   ],
   "source": [
    "site_oids = [dns['site'].id for dns in dnss]\n",
    "sites = list(db.sites.find({'_id': {'$in': site_oids}}, {'cdn_type': 1, 'domain': 1}))\n",
    "sites"
   ]
  },
  {
   "cell_type": "code",
   "execution_count": 17,
   "metadata": {},
   "outputs": [
    {
     "data": {
      "text/plain": [
       "[{'_id': ObjectId('5593b2c669273f158d4f3f56'),\n",
       "  'domain': 'anquan.org',\n",
       "  'cdn_type': 'cname'},\n",
       " {'_id': ObjectId('593e448aa12f72469d21e2ab'),\n",
       "  'domain': 'xuruipeng.win',\n",
       "  'cdn_type': 'cname'},\n",
       " {'_id': ObjectId('59fc500da12f7295c9c1741a'),\n",
       "  'domain': 'cnximeng.com',\n",
       "  'cdn_type': 'cname'},\n",
       " {'_id': ObjectId('5a1fb75aa12f722b737e1f73'),\n",
       "  'domain': 'vs22.net',\n",
       "  'cdn_type': 'cname'},\n",
       " {'_id': ObjectId('5d0cb4a682fe5f394b62ca99'),\n",
       "  'domain': 'cname.com',\n",
       "  'cdn_type': 'cname'}]"
      ]
     },
     "execution_count": 17,
     "metadata": {},
     "output_type": "execute_result"
    }
   ],
   "source": [
    "cnames = list(db.c_n_a_m_e.find({'dns.$id': {'$in': [dns['_id'] for dns in dnss]}}))\n",
    "sites2 = list(db.sites.find({'_id': {'$in': [cname['site'].id for cname in cnames]}}, {'cdn_type': 1, 'domain': 1}))\n",
    "sites2"
   ]
  },
  {
   "cell_type": "code",
   "execution_count": 19,
   "metadata": {
    "scrolled": true
   },
   "outputs": [
    {
     "data": {
      "text/plain": [
       "[{'_id': ObjectId('5593b2d269273f158d4f3f58'),\n",
       "  'site': DBRef('sites', ObjectId('5593b2c669273f158d4f3f56')),\n",
       "  'last_modify_time': datetime.datetime(2015, 7, 1, 17, 51, 36, 442000),\n",
       "  'host': 'www',\n",
       "  '_cls': 'CNAME',\n",
       "  'dns': DBRef('d_n_s', ObjectId('5593b2d269273f158d4f3f57'))},\n",
       " {'_id': ObjectId('5a967a82a0da255ce0ed69f5'),\n",
       "  '_cls': 'CNAME',\n",
       "  'dns': DBRef('d_n_s', ObjectId('5a388e89a12f7249b765fc17')),\n",
       "  'host': '@',\n",
       "  'site': DBRef('sites', ObjectId('5a1fb75aa12f722b737e1f73')),\n",
       "  'last_modify_time': datetime.datetime(2018, 2, 28, 17, 46, 42, 569000)},\n",
       " {'_id': ObjectId('5a967cd9a0da255ce0ed69fd'),\n",
       "  '_cls': 'CNAME',\n",
       "  'dns': DBRef('d_n_s', ObjectId('5a050f86a12f7200816aac82')),\n",
       "  'host': 'bbs',\n",
       "  'site': DBRef('sites', ObjectId('59fc500da12f7295c9c1741a')),\n",
       "  'last_modify_time': datetime.datetime(2018, 2, 28, 17, 56, 41, 870000)},\n",
       " {'_id': ObjectId('5a0abb29a12f722093beddd9'),\n",
       "  '_types': ['CNAME'],\n",
       "  'site': DBRef('sites', ObjectId('593e448aa12f72469d21e2ab')),\n",
       "  'last_modify_time': datetime.datetime(2017, 11, 14, 17, 45, 13, 179000),\n",
       "  'host': 'bbs',\n",
       "  '_cls': 'CNAME',\n",
       "  'dns': DBRef('d_n_s', ObjectId('5a0abb29a12f722093beddd8'))},\n",
       " {'_id': ObjectId('5d0cb62882fe5f39d70d8e38'),\n",
       "  '_types': ['CNAME'],\n",
       "  'site': DBRef('sites', ObjectId('5d0cb4a682fe5f394b62ca99')),\n",
       "  'last_modify_time': datetime.datetime(2019, 10, 10, 15, 39, 59, 577000),\n",
       "  'host': 'all',\n",
       "  '_cls': 'CNAME',\n",
       "  'dns': DBRef('d_n_s', ObjectId('5d0cb62882fe5f39d70d8e37'))}]"
      ]
     },
     "execution_count": 19,
     "metadata": {},
     "output_type": "execute_result"
    }
   ],
   "source": [
    "cnames"
   ]
  }
 ],
 "metadata": {
  "kernelspec": {
   "display_name": "Python 3",
   "language": "python",
   "name": "python3"
  },
  "language_info": {
   "codemirror_mode": {
    "name": "ipython",
    "version": 3
   },
   "file_extension": ".py",
   "mimetype": "text/x-python",
   "name": "python",
   "nbconvert_exporter": "python",
   "pygments_lexer": "ipython3",
   "version": "3.6.3"
  }
 },
 "nbformat": 4,
 "nbformat_minor": 2
}
