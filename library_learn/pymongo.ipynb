{
 "cells": [
  {
   "cell_type": "markdown",
   "metadata": {},
   "source": [
    "## [Mongo Python Module Index](http://api.mongodb.com/python/current/py-modindex.html)"
   ]
  },
  {
   "cell_type": "code",
   "execution_count": 1,
   "metadata": {},
   "outputs": [],
   "source": [
    "import pymongo\n",
    "import bson\n",
    "import datetime\n",
    "from bson import ObjectId\n",
    "from bson import DBRef\n",
    "\n",
    "# mongodb\n",
    "mongo_client = pymongo.MongoClient(host='mongodb://127.0.0.1:27017,127.0.0.1:27018')\n",
    "\n",
    "test = mongo_client.test\n",
    "db = mongo_client.cloud\n",
    "cas = mongo_client.cas\n",
    "alarm = mongo_client.alarm\n",
    "bandwidth = mongo_client.bandwidth_db\n"
   ]
  },
  {
   "cell_type": "code",
   "execution_count": 55,
   "metadata": {},
   "outputs": [
    {
     "data": {
      "text/plain": [
       "False"
      ]
     },
     "execution_count": 55,
     "metadata": {},
     "output_type": "execute_result"
    }
   ],
   "source": [
    "ip0 = ipaddress.IPv6Address('FFFF::1')\n",
    "ip1 = ipaddress.IPv6Address('FFFF::2')\n",
    "ip0 > ip1"
   ]
  }
 ],
 "metadata": {
  "kernelspec": {
   "display_name": "Python 3",
   "language": "python",
   "name": "python3"
  },
  "language_info": {
   "codemirror_mode": {
    "name": "ipython",
    "version": 3
   },
   "file_extension": ".py",
   "mimetype": "text/x-python",
   "name": "python",
   "nbconvert_exporter": "python",
   "pygments_lexer": "ipython3",
   "version": "3.6.3"
  }
 },
 "nbformat": 4,
 "nbformat_minor": 2
}
