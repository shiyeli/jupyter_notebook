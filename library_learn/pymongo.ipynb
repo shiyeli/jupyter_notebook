{
 "cells": [
  {
   "cell_type": "markdown",
   "metadata": {},
   "source": [
    "## [Mongo Python Module Index](http://api.mongodb.com/python/current/py-modindex.html)"
   ]
  },
  {
   "cell_type": "code",
   "execution_count": 18,
   "metadata": {},
   "outputs": [
    {
     "data": {
      "text/plain": [
       "{'_id': ObjectId('5ca4220682fe5f65185de6bb'),\n",
       " 'app': {},\n",
       " 'last_ip': '127.0.0.1',\n",
       " 'email_info': {'status': 1, 'is_actived': 1},\n",
       " 'module': {'api_key': 1},\n",
       " 'warn_settings': {},\n",
       " 'contact_address': '',\n",
       " 'bind_ip': [],\n",
       " 'contact_name': '叶同学',\n",
       " 'oem_source': '',\n",
       " 'phone_info': {'status': 1, 'is_actived': 1},\n",
       " 'group': 'all',\n",
       " 'register_method': 'email',\n",
       " 'identity_info': {'status': 1, 'is_actived': 1},\n",
       " 'api_secret_key': 'ENQcmo0dn7g6u8l4nrXtfwLMUFlfdMBoQyiJ6xXwF9eszFT7RDoUo5DKGGnVM1cg',\n",
       " 'wool_set': {},\n",
       " 'store': {'status': 0, 'auth_name': 'jsl00100040', 'product': 'jsl00100040'},\n",
       " 'attribution': 'SC',\n",
       " 'tel_num': '18280082093',\n",
       " 'email_notice': {},\n",
       " 'weixin': {},\n",
       " 'ip_record': [{'ip': '127.0.0.1',\n",
       "   'time': datetime.datetime(2020, 3, 13, 11, 15, 5, 619000)}],\n",
       " 'access_info': {},\n",
       " 'yunjk': {},\n",
       " 'openapi': {},\n",
       " 'user': DBRef('user', ObjectId('5ca4220682fe5f65185de6ba')),\n",
       " 'access_source': '',\n",
       " 'identity_card': '511102198607053617',\n",
       " 'subuser_info': {},\n",
       " '_cls': 'UserProfile',\n",
       " 'group_admin': 'all',\n",
       " 'company': '实验室',\n",
       " 'note': '场务打杂',\n",
       " 'trial_domain_limit': []}"
      ]
     },
     "execution_count": 18,
     "metadata": {},
     "output_type": "execute_result"
    }
   ],
   "source": [
    "import pymongo\n",
    "import bson\n",
    "import datetime\n",
    "from bson import ObjectId\n",
    "from bson import DBRef\n",
    "\n",
    "# mongodb\n",
    "mongo_client = pymongo.MongoClient(host='mongodb://127.0.0.1:27017,127.0.0.1:27018')\n",
    "test = mongo_client.test\n",
    "db = mongo_client.cloud\n",
    "cas = mongo_client.cas\n",
    "alarm = mongo_client.alarm\n",
    "\n",
    "\n",
    "\n",
    "group_admin = ['all', 'shendunsec', 'dzys', 'qinghai', 'jx', 'shangrao', 'shedusoft', 'jiaotong', 'shandongyuntian', 'fujian', 'zjfy', 'huzhoudianxin', 'zisheng', 'test', 'nantong', 'jiasufang', 'zhuanxianweishi', 'shenhua', 'privis_30', 'edu', 'anguoxin', 'sdctc', 'yndaily', 'cqwa', 'cegn', 'jscert', 'hzwx', 'zjszwsjzx', 'yunnan_mobile', 'xjdx', 'yun_ddos', 'ahedu', 'inspur', 'loscat', 'anhui', 'kuaiyun', 'zhejiang', 'BGP', 'weixin', 'ahctc', 'wuxi', 'zjsgat', 'qzga', 'webmail', 'qgscloud', 'shanghai_dianxin', 'licat', 'hengda', 'jiangsu_jscert', 'changde', 'cnlink', 'hubei', 'shanxi', 'yuxi', 'anhuiwh', 'chx', 'hnga', 'jsmobile', 'henan', 'jinglin', 'zjjx', 'hk', 'changzhou', 'jiangsu', 'heilongjiang']\n",
    "\n",
    "user = db.user.find_one({'username': '422013052@qq.com'})\n",
    "db.user_profile.find_one({'user.$id': user['_id']})\n"
   ]
  }
 ],
 "metadata": {
  "kernelspec": {
   "display_name": "Python 3",
   "language": "python",
   "name": "python3"
  },
  "language_info": {
   "codemirror_mode": {
    "name": "ipython",
    "version": 3
   },
   "file_extension": ".py",
   "mimetype": "text/x-python",
   "name": "python",
   "nbconvert_exporter": "python",
   "pygments_lexer": "ipython3",
   "version": "3.6.3"
  }
 },
 "nbformat": 4,
 "nbformat_minor": 2
}
