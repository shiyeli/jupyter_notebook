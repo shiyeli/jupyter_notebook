{
 "cells": [
  {
   "cell_type": "markdown",
   "metadata": {},
   "source": [
    "## [Image Processing in OpenCV](https://docs.opencv.org/3.0-beta/doc/py_tutorials/py_imgproc/py_table_of_contents_imgproc/py_table_of_contents_imgproc.html#py-table-of-content-imgproc)"
   ]
  },
  {
   "cell_type": "code",
   "execution_count": 2,
   "metadata": {},
   "outputs": [],
   "source": [
    "#Changing Color-space\n",
    "#https://docs.opencv.org/3.0-beta/doc/py_tutorials/py_imgproc/py_colorspaces/py_colorspaces.html#converting-colorspaces\n",
    "\n",
    "import cv2\n",
    "flags=[i for i in dir(cv2) if i.startswith('COLOR_')]\n",
    "# flags [COLOR_BAYER_BG2BGR,COLOR_BAYER_BG2BGRA,...]"
   ]
  },
  {
   "cell_type": "code",
   "execution_count": 4,
   "metadata": {},
   "outputs": [
    {
     "data": {
      "text/plain": [
       "<matplotlib.figure.Figure at 0x10cb18630>"
      ]
     },
     "metadata": {},
     "output_type": "display_data"
    }
   ],
   "source": [
    "import matplotlib.pyplot as plt\n",
    "import numpy as np\n",
    "\n",
    "def show_rgb(img):\n",
    "    plt.subplot()\n",
    "    plt.imshow(img)\n",
    "    plt.show()\n",
    "    \n",
    "def show_bgr(img):\n",
    "    plt.subplot()\n",
    "    plt.imshow(img[:,:,::-1])\n",
    "    plt.show()\n",
    "    \n",
    "leica=cv2.imread('./images/leica.jpg')\n",
    "#logo本来是红色的，因为颜色空间是bgr,当作rgb来显示了\n",
    "\n",
    "#颜色空间转换\n",
    "leica_rgb=cv2.cvtColor(leica,cv2.COLOR_BGR2RGB)\n",
    "show_rgb(np.hstack([leica,leica_rgb]))"
   ]
  },
  {
   "cell_type": "code",
   "execution_count": 5,
   "metadata": {
    "scrolled": true
   },
   "outputs": [
    {
     "data": {
      "text/plain": [
       "(255, 0)"
      ]
     },
     "execution_count": 5,
     "metadata": {},
     "output_type": "execute_result"
    }
   ],
   "source": [
    "leica_hsv=cv2.cvtColor(leica,cv2.COLOR_BGR2HSV)\n",
    "leica_hsv.max(),leica_hsv.min()\n",
    "\n",
    "#cv2中HSV（色相／饱和度／明度）\n",
    "#For HSV, Hue range is [0,179], \n",
    "#Saturation range is [0,255] \n",
    "#and Value range is [0,255]\n",
    "#In HSV, it is more easier to represent a color than RGB color-space.\n",
    "# HSV其实就是一个调色板，与绘画颜料一样，很直观；不像RGB呈现出的颜色需要考虑三通道混合\n",
    "# 另外，在画面物体提取的时候，HSV直接选取对应物体的色相，也更方便"
   ]
  },
  {
   "cell_type": "code",
   "execution_count": 7,
   "metadata": {},
   "outputs": [
    {
     "data": {
      "image/png": "[encoded data removed]",
      "text/plain": [
       "<matplotlib.figure.Figure at 0x10e876080>"
      ]
     },
     "metadata": {},
     "output_type": "display_data"
    }
   ],
   "source": [
    "hues=cv2.imread('images/hues.jpg')\n",
    "show_bgr(hues)"
   ]
  },
  {
   "cell_type": "code",
   "execution_count": 8,
   "metadata": {
    "scrolled": true
   },
   "outputs": [
    {
     "data": {
      "text/plain": [
       "array([[[  0, 255, 254],\n",
       "        [171, 255, 255],\n",
       "        [159, 255, 255],\n",
       "        [150, 255, 255],\n",
       "        [143, 255, 255],\n",
       "        [133, 255, 255],\n",
       "        [124, 255, 254],\n",
       "        [117, 255, 255],\n",
       "        [108, 254, 255],\n",
       "        [ 96, 255, 255],\n",
       "        [ 89, 255, 255],\n",
       "        [ 81, 255, 255],\n",
       "        [ 71, 255, 254],\n",
       "        [ 62, 254, 255],\n",
       "        [ 56, 255, 254],\n",
       "        [ 46, 254, 255],\n",
       "        [ 36, 254, 255],\n",
       "        [ 29, 255, 255],\n",
       "        [ 20, 255, 254],\n",
       "        [  8, 255, 254]]], dtype=uint8)"
      ]
     },
     "execution_count": 8,
     "metadata": {},
     "output_type": "execute_result"
    }
   ],
   "source": [
    "hues_hsv=cv2.cvtColor(hues,cv2.COLOR_BGR2HSV)\n",
    "\n",
    "\"\"\"\n",
    "从下面数值可以看出：\n",
    "红橙黄绿青蓝紫在色相数值的映射为0-180\n",
    "\"\"\"\n",
    "hues_hsv"
   ]
  },
  {
   "cell_type": "code",
   "execution_count": null,
   "metadata": {},
   "outputs": [],
   "source": [
    "#Object Tracking\n",
    "\"\"\"\n",
    "现在我有一个水杯，盖子蓝色偏青，对应色相差不多在上面色相条的中间位置偏右一点点\n",
    "估计色相在80-120之间\n",
    "\n",
    "现在修改demo提取水杯\n",
    "demo链接（Object Tracking）：\n",
    "https://docs.opencv.org/3.0-beta/doc/py_tutorials/py_imgproc/py_colorspaces/py_colorspaces.html#converting-colorspaces\n",
    "\"\"\"\n",
    "\n",
    "import cv2\n",
    "import numpy as np\n",
    "\n",
    "cap = cv2.VideoCapture(0)\n",
    "\n",
    "while(1):\n",
    "\n",
    "    # Take each frame\n",
    "    _, frame = cap.read()\n",
    "\n",
    "    # Convert BGR to HSV\n",
    "    hsv = cv2.cvtColor(frame, cv2.COLOR_BGR2HSV)\n",
    "\n",
    "    # define range of blue color in HSV\n",
    "    lower_cyan = np.array([80,50,50])\n",
    "    upper_cyan = np.array([120,255,255])\n",
    "\n",
    "    # Threshold the HSV image to get only blue colors\n",
    "    mask = cv2.inRange(hsv, lower_cyan, upper_cyan)\n",
    "\n",
    "    # Bitwise-AND mask and original image\n",
    "    res = cv2.bitwise_and(frame,frame, mask= mask)\n",
    "\n",
    "    cv2.imshow('frame',frame)\n",
    "    cv2.imshow('mask',mask)\n",
    "    cv2.imshow('res',res)\n",
    "    k = cv2.waitKey(5) & 0xFF\n",
    "    if k == 27:\n",
    "        break\n",
    "\n",
    "cv2.destroyAllWindows()\n"
   ]
  },
  {
   "cell_type": "markdown",
   "metadata": {},
   "source": [
    "捕获效果如下图：\n",
    "![](https://upload-images.jianshu.io/upload_images/1271438-25e0c7f895772794.png?imageMogr2/auto-orient/strip%7CimageView2/2/w/1240)"
   ]
  },
  {
   "cell_type": "markdown",
   "metadata": {},
   "source": [
    "### [Geometric Transformations of Images(图片的几何变换)](https://docs.opencv.org/3.0-beta/doc/py_tutorials/py_imgproc/py_geometric_transformations/py_geometric_transformations.html#geometric-transformations)\n",
    "\n",
    "* 画面移动的本质：根据移动量，找到移动后与移动前坐标的映射关系，以此实现移动前像素值的重新分布\n",
    "\n",
    "* 图像的几何变换主要包括：平移、扩大与缩小、旋转、仿射、透视等\n",
    "\n",
    "\n",
    "[Python实现图像平移、旋转、水平镜像等](https://blog.csdn.net/LZH2912/article/details/78712881)"
   ]
  },
  {
   "cell_type": "code",
   "execution_count": 15,
   "metadata": {},
   "outputs": [
    {
     "data": {
      "text/plain": [
       "((375, 500, 3), (188, 250, 3))"
      ]
     },
     "execution_count": 15,
     "metadata": {},
     "output_type": "execute_result"
    }
   ],
   "source": [
    "#图片缩放\n",
    "import cv2\n",
    "import matplotlib.pyplot as plt\n",
    "import numpy as np\n",
    "\n",
    "def show_bgr(img):\n",
    "    plt.subplot()\n",
    "    plt.imshow(img[:,:,::-1])\n",
    "    plt.show()\n",
    "    \n",
    "leica=cv2.imread('images/leica.jpg')\n",
    "leica_resized=cv2.resize(leica,None,fx=0.5,fy=0.5,interpolation=cv2.INTER_CUBIC)\n",
    "leica.shape,leica_resized.shape"
   ]
  },
  {
   "cell_type": "code",
   "execution_count": 32,
   "metadata": {
    "scrolled": true
   },
   "outputs": [
    {
     "data": {
      "image/png": "[encoded data removed]",
      "text/plain": [
       "<Figure size 432x288 with 1 Axes>"
      ]
     },
     "metadata": {},
     "output_type": "display_data"
    }
   ],
   "source": [
    "\n",
    "leica_gray=cv2.cvtColor(leica_resized,cv2.COLOR_BGR2GRAY)\n",
    "\n",
    "def show_gray(img):\n",
    "    plt.subplot()\n",
    "    plt.imshow(img)\n",
    "    plt.gray()\n",
    "    plt.show()\n",
    "\n",
    "\n",
    "class ImgTansform():\n",
    "    def __init__(self,image,rows,cols,center=[0,0]):\n",
    "        self.src=image\n",
    "        self.rows=rows\n",
    "        self.cols=cols\n",
    "        self.center=center\n",
    "    \n",
    "    def move(self,delta_x,delta_y):\n",
    "        \"\"\"\n",
    "        平移前坐标（x,y）,平移后坐标(x',y'),则满足：\n",
    "        x' = x + Tx\n",
    "        y' = y + Ty\n",
    "\n",
    "        转换成矩阵关系如下：\n",
    "        (x',y',1)=(x,y,1)*  [[1,0,0],[0,1,0][Tx,Ty,1]]\n",
    "        \"\"\"\n",
    "        self.transform=np.array([[1,0,delta_x],[0,1,delta_y],[0,0,1]])\n",
    "        return self.process()\n",
    "        \n",
    "\n",
    "    def process(self):\n",
    "        self.dst=np.zeros((self.rows,self.cols),dtype=np.uint8)\n",
    "        for i in range(self.rows):\n",
    "            for j in range(self.cols):\n",
    "                src_pos=np.array([i-self.center[0],j-self.center[1],1])\n",
    "                [x,y,z]=np.dot(self.transform,src_pos)\n",
    "                x=int(x)+self.center[0]\n",
    "                y=int(y)+self.center[1]\n",
    "\n",
    "                if x>=self.rows or y>=self.cols or x<0 or y<0:\n",
    "                    self.dst[i][j]=255\n",
    "                else:\n",
    "                    self.dst[i][j]=self.src[x][y]\n",
    "        return self.dst\n",
    "                    \n",
    "                    \n",
    "transform=ImgTansform(leica_gray,leica_gray.shape[0],leica_gray.shape[1])\n",
    "moved=transform.move(-50,-100)\n",
    "show_gray(np.hstack([leica_gray,moved]))"
   ]
  },
  {
   "cell_type": "code",
   "execution_count": null,
   "metadata": {},
   "outputs": [],
   "source": []
  }
 ],
 "metadata": {
  "kernelspec": {
   "display_name": "Python 3",
   "language": "python",
   "name": "python3"
  },
  "language_info": {
   "codemirror_mode": {
    "name": "ipython",
    "version": 3
   },
   "file_extension": ".py",
   "mimetype": "text/x-python",
   "name": "python",
   "nbconvert_exporter": "python",
   "pygments_lexer": "ipython3",
   "version": "3.6.1"
  }
 },
 "nbformat": 4,
 "nbformat_minor": 2
}
