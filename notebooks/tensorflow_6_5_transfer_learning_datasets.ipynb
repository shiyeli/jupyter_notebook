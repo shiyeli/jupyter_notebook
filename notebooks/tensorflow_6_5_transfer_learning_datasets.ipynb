{
 "cells": [
  {
   "cell_type": "code",
   "execution_count": 1,
   "metadata": {},
   "outputs": [],
   "source": [
    "#数据集下载地址：\n",
    "#http://download.tensorflow.org/example_images/flower_photos.tgz\n",
    "\n",
    "import glob\n",
    "import os.path\n",
    "import numpy as np\n",
    "import tensorflow as tf\n",
    "from tensorflow.python.platform import gfile\n",
    "\n",
    "INPUT_DATA='flower_photos'\n",
    "#numpy格式\n",
    "OUTPUT_FILE='flower_photos/flower_processed.npy'\n",
    "\n",
    "#测试数据和验证数据比例\n",
    "VALIDATION_PERCENTAGE=10\n",
    "TEST_PERCENTAGE=10\n"
   ]
  }
 ],
 "metadata": {
  "kernelspec": {
   "display_name": "Python 2",
   "language": "python",
   "name": "python2"
  },
  "language_info": {
   "codemirror_mode": {
    "name": "ipython",
    "version": 2
   },
   "file_extension": ".py",
   "mimetype": "text/x-python",
   "name": "python",
   "nbconvert_exporter": "python",
   "pygments_lexer": "ipython2",
   "version": "2.7.12"
  }
 },
 "nbformat": 4,
 "nbformat_minor": 2
}
