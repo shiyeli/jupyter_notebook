{
 "cells": [
  {
   "cell_type": "code",
   "execution_count": 13,
   "metadata": {
    "scrolled": true
   },
   "outputs": [
    {
     "name": "stdout",
     "output_type": "stream",
     "text": [
      "[[ 1.  1.  1.  1.]\n",
      " [ 1.  1.  1.  1.]\n",
      " [ 1.  1.  1.  1.]]\n"
     ]
    }
   ],
   "source": [
    "import tensorflow as tf\n",
    "\n",
    "\"\"\"\n",
    "错误重现：\n",
    "TypeError: Failed to convert object of type <type 'list'> to Tensor. \n",
    "Contents: [None, 4]. \n",
    "Consider casting elements to a supported type.\n",
    "\n",
    "运行环境：\n",
    "docker run -d  --restart=always -p 8888:8888 tensorflow/tensorflow:1.4.0\n",
    "\"\"\"\n",
    "xs=tf.placeholder(tf.float32,[None,2,2,1],name='x-input')\n",
    "\n",
    "# reshaped_xs=tf.reshape(xs,[None,4])\n",
    "#解决办法：\n",
    "reshaped_xs=tf.reshape(xs,[tf.shape(xs)[0],4])\n",
    "\n",
    "import numpy as np\n",
    "data=np.ones([3,2,2,1])\n",
    "\n",
    "with tf.Session() as sess:\n",
    "    print sess.run(reshaped_xs,feed_dict={xs:data})\n"
   ]
  }
 ],
 "metadata": {
  "kernelspec": {
   "display_name": "Python 2",
   "language": "python",
   "name": "python2"
  },
  "language_info": {
   "codemirror_mode": {
    "name": "ipython",
    "version": 2
   },
   "file_extension": ".py",
   "mimetype": "text/x-python",
   "name": "python",
   "nbconvert_exporter": "python",
   "pygments_lexer": "ipython2",
   "version": "2.7.12"
  }
 },
 "nbformat": 4,
 "nbformat_minor": 2
}
