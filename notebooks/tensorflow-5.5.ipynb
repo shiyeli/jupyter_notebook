{
 "cells": [
  {
   "cell_type": "markdown",
   "metadata": {},
   "source": [
    "## 最佳实践样例程序\n",
    "\n",
    "期望：\n",
    "* 向前传播不需要将所有的变量传入\n",
    "* 模型持久化\n",
    "* 训练过程每隔一段实践保存一次模型中间结果，以防程序突然挂掉\n",
    "\n",
    "page126"
   ]
  },
  {
   "cell_type": "code",
   "execution_count": null,
   "metadata": {},
   "outputs": [],
   "source": [
    "import tensorflow as tf\n",
    "\n",
    "INPUT_NODE=784\n",
    "OUTPUT_NODE=10\n",
    "LAYER1_NODE=500\n",
    "\n",
    "#通过tf.get_varialbe 函数获取变量作用：\n",
    "#创建变量、测试时通过保存的模型读取变量、变量加载时将滑动平均变量重命名"
   ]
  }
 ],
 "metadata": {
  "kernelspec": {
   "display_name": "Python 2",
   "language": "python",
   "name": "python2"
  },
  "language_info": {
   "codemirror_mode": {
    "name": "ipython",
    "version": 2
   },
   "file_extension": ".py",
   "mimetype": "text/x-python",
   "name": "python",
   "nbconvert_exporter": "python",
   "pygments_lexer": "ipython2",
   "version": "2.7.12"
  }
 },
 "nbformat": 4,
 "nbformat_minor": 2
}
