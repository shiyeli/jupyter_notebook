{
 "cells": [
  {
   "cell_type": "code",
   "execution_count": 6,
   "metadata": {},
   "outputs": [
    {
     "name": "stdout",
     "output_type": "stream",
     "text": [
      "0\n",
      "0 33\n",
      "<class 'datetime.datetime'>\n"
     ]
    }
   ],
   "source": [
    "import pandas as pd\n",
    "import datetime\n",
    "from collections import Counter\n",
    "import math\n",
    "path='/Users/yexianyong/Downloads/福年-11月原始打卡数据.xlsx'\n",
    "data=pd.read_excel(path)\n",
    "data = data[(data['姓名'] == \"叶显勇\")]\n",
    "# print(data)\n",
    "\n",
    "index = data.index[3]\n",
    "\n",
    "\n",
    "on_date=datetime.datetime.strptime('2017/11/2 09:33:18','%Y/%m/%d %H:%M:%S')\n",
    "off_date=datetime.datetime.strptime('2017/11/2 18:53:18','%Y/%m/%d %H:%M:%S')\n",
    "duration=off_date-on_date\n",
    "hours=(duration.days*24*60+duration.seconds/60.0)/60.0\n",
    "if on_date.hour<12 and off_date.hour >13:\n",
    "    hours=hours-1\n",
    "print (math.ceil(8-hours))\n",
    "\n",
    "print(on_date.hour-9,on_date.minute)\n",
    "    \n",
    "    \n",
    "print(type(off_date))\n",
    "\n",
    "      "
   ]
  }
 ],
 "metadata": {
  "kernelspec": {
   "display_name": "Python 3",
   "language": "python",
   "name": "python3"
  },
  "language_info": {
   "codemirror_mode": {
    "name": "ipython",
    "version": 3
   },
   "file_extension": ".py",
   "mimetype": "text/x-python",
   "name": "python",
   "nbconvert_exporter": "python",
   "pygments_lexer": "ipython3",
   "version": "3.6.1"
  }
 },
 "nbformat": 4,
 "nbformat_minor": 2
}
