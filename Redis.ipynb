{
 "cells": [
  {
   "cell_type": "code",
   "execution_count": 20,
   "metadata": {},
   "outputs": [
    {
     "name": "stdout",
     "output_type": "stream",
     "text": [
      "{'qwerasdfasdfasdfasdf', 'f'}\n",
      "set()\n",
      "32\n"
     ]
    }
   ],
   "source": [
    "import redis\n",
    "\n",
    "redis_zhilian=redis.Redis(host='127.0.0.1',port=6379,password='qwerasdf',db=7,decode_responses=True)\n",
    "com_md5='com_md5s'\n",
    "redis_zhilian.sadd(com_md5,'qwerasdfasdfasdfasdf','f')\n",
    "\n",
    "print(redis_zhilian.smembers(com_md5))\n",
    "if 'df' in redis_zhilian.smembers(com_md5):\n",
    "    print(True)\n",
    "    \n",
    "redis_zhilian.delete(com_md5)\n",
    "print(redis_zhilian.smembers(com_md5))\n",
    "print(len('6ef8b2f39e05d7c84f7441f4b9bcbda3'))\n",
    "    "
   ]
  }
 ],
 "metadata": {
  "kernelspec": {
   "display_name": "Python 3",
   "language": "python",
   "name": "python3"
  },
  "language_info": {
   "codemirror_mode": {
    "name": "ipython",
    "version": 3
   },
   "file_extension": ".py",
   "mimetype": "text/x-python",
   "name": "python",
   "nbconvert_exporter": "python",
   "pygments_lexer": "ipython3",
   "version": "3.6.1"
  }
 },
 "nbformat": 4,
 "nbformat_minor": 2
}
