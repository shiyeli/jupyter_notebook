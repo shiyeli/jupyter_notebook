{
 "cells": [
  {
   "cell_type": "code",
   "execution_count": 10,
   "metadata": {
    "scrolled": true
   },
   "outputs": [
    {
     "data": {
      "text/plain": [
       "b'\\xe5\\x9f\\x9f\\xe5\\x90\\x8d,\\xe6\\xb5\\x81\\xe9\\x87\\x8f\\xe8\\x80\\x97\\xe5\\xb0\\xbd\\xe5\\x91\\x8a\\xe8\\xad\\xa6,\\xe6\\xb5\\x81\\xe9\\x87\\x8f\\xe5\\x90\\x8c\\xe6\\xaf\\x94\\xe5\\xbc\\x82\\xe5\\xb8\\xb8,\\xe8\\xaf\\xb7\\xe6\\xb1\\x82\\xe9\\x87\\x8f\\xe5\\x90\\x8c\\xe6\\xaf\\x94\\xe5\\xbc\\x82\\xe5\\xb8\\xb8,\\xe8\\xaf\\xb7\\xe6\\xb1\\x82IP\\xe9\\x87\\x8f\\xe5\\x90\\x8c\\xe6\\xaf\\x94\\xe5\\xbc\\x82\\xe5\\xb8\\xb8,CC\\xe6\\x94\\xbb\\xe5\\x87\\xbb\\xe5\\x91\\x8a\\xe8\\xad\\xa6,\\xe9\\xa1\\xb9\\xe7\\x9b\\xae\\xe5\\x88\\xb0\\xe6\\x9c\\x9f\\xe5\\x91\\x8a\\xe8\\xad\\xa6,\\xe5\\x8f\\x96\\xe6\\xba\\x90\\xe5\\xbc\\x82\\xe5\\xb8\\xb8\\xe5\\x91\\x8a\\xe8\\xad\\xa6,\\xe5\\x8f\\x96\\xe6\\xba\\x90\\xe5\\xb8\\xa6\\xe5\\xae\\xbd\\xe5\\x91\\x8a\\xe8\\xad\\xa6,\\xe6\\xb5\\x81\\xe9\\x87\\x8f\\xe8\\x80\\x97\\xe5\\xb0\\xbd\\xe5\\x91\\x8a\\xe8\\xad\\xa6\\xe9\\x98\\x88\\xe5\\x80\\xbc,\\xe6\\xb5\\x81\\xe9\\x87\\x8f\\xe5\\x90\\x8c\\xe6\\xaf\\x94\\xe9\\x98\\x88\\xe5\\x80\\xbc,\\xe6\\xb5\\x81\\xe9\\x87\\x8f\\xe5\\x90\\x8c\\xe6\\xaf\\x94\\xe5\\x9f\\xba\\xe5\\x87\\x86\\xe5\\x80\\xbc,\\xe8\\xaf\\xb7\\xe6\\xb1\\x82\\xe9\\x87\\x8f\\xe5\\x90\\x8c\\xe6\\xaf\\x94\\xe9\\x98\\x88\\xe5\\x80\\xbc,\\xe8\\xaf\\xb7\\xe6\\xb1\\x82\\xe9\\x87\\x8f\\xe5\\x90\\x8c\\xe6\\xaf\\x94\\xe5\\x9f\\xba\\xe5\\x87\\x86\\xe5\\x80\\xbc,\\xe8\\xaf\\xb7\\xe6\\xb1\\x82IP\\xe9\\x87\\x8f\\xe5\\x90\\x8c\\xe6\\xaf\\x94\\xe9\\x98\\x88\\xe5\\x80\\xbc,\\xe8\\xaf\\xb7\\xe6\\xb1\\x82IP\\xe9\\x87\\x8f\\xe5\\x90\\x8c\\xe6\\xaf\\x94\\xe5\\x9f\\xba\\xe5\\x87\\x86\\xe5\\x80\\xbc,CC\\xe6\\x94\\xbb\\xe5\\x87\\xbb\\xe5\\x91\\x8a\\xe8\\xad\\xa6\\xe9\\x98\\x88\\xe5\\x80\\xbc,\\xe5\\x8f\\x96\\xe6\\xba\\x90\\xe5\\xbc\\x82\\xe5\\xb8\\xb8\\xe5\\x91\\x8a\\xe8\\xad\\xa6\\xe9\\x98\\x88\\xe5\\x80\\xbc,\\xe5\\x8f\\x96\\xe6\\xba\\x90\\xe5\\xb8\\xa6\\xe5\\xae\\xbd\\xe5\\x90\\x8c\\xe6\\xaf\\x94\\xe9\\x98\\x88\\xe5\\x80\\xbc,\\xe5\\x8f\\x96\\xe6\\xba\\x90\\xe5\\xb8\\xa6\\xe5\\xae\\xbd\\xe7\\x8e\\xaf\\xe6\\xaf\\x94\\xe9\\x98\\x88\\xe5\\x80\\xbc,\\xe5\\x8f\\x96\\xe6\\xba\\x90\\xe5\\xb8\\xa6\\xe5\\xae\\xbd\\xe5\\x9f\\xba\\xe5\\x87\\x86\\xe5\\x80\\xbc\\r\\nexample1.com,1,1,1,1,1,0,1,1,10000000001,1,2,3,4,5,6,7,8,11,9,10\\r\\nbiup.com,0,0,0,0,0,0,1,0,,,0,,0,,0,0,1,0,0,0\\r\\nfang.com,1,1,1,1,1,0,1,0,100,50,5000,50,1000,50,500,1000,0,0,0,0\\r\\nvnet.cn,0,0,0,0,0,0,0,0,,,0,,0,,0,0,0,0,0,0\\r\\nxander-ye.com,0,0,0,0,1,0,0,0,,,0,,0,,0,50,0,0,0,0\\r\\n'"
      ]
     },
     "execution_count": 10,
     "metadata": {},
     "output_type": "execute_result"
    }
   ],
   "source": [
    "import csv\n",
    "\n",
    "data = b'\\xe5\\x9f\\x9f\\xe5\\x90\\x8d,\\xe6\\xb5\\x81\\xe9\\x87\\x8f\\xe8\\x80\\x97\\xe5\\xb0\\xbd\\xe5\\x91\\x8a\\xe8\\xad\\xa6,\\xe6\\xb5\\x81\\xe9\\x87\\x8f\\xe5\\x90\\x8c\\xe6\\xaf\\x94\\xe5\\xbc\\x82\\xe5\\xb8\\xb8,\\xe8\\xaf\\xb7\\xe6\\xb1\\x82\\xe9\\x87\\x8f\\xe5\\x90\\x8c\\xe6\\xaf\\x94\\xe5\\xbc\\x82\\xe5\\xb8\\xb8,\\xe8\\xaf\\xb7\\xe6\\xb1\\x82IP\\xe9\\x87\\x8f\\xe5\\x90\\x8c\\xe6\\xaf\\x94\\xe5\\xbc\\x82\\xe5\\xb8\\xb8,CC\\xe6\\x94\\xbb\\xe5\\x87\\xbb\\xe5\\x91\\x8a\\xe8\\xad\\xa6,\\xe9\\xa1\\xb9\\xe7\\x9b\\xae\\xe5\\x88\\xb0\\xe6\\x9c\\x9f\\xe5\\x91\\x8a\\xe8\\xad\\xa6,\\xe5\\x8f\\x96\\xe6\\xba\\x90\\xe5\\xbc\\x82\\xe5\\xb8\\xb8\\xe5\\x91\\x8a\\xe8\\xad\\xa6,\\xe5\\x8f\\x96\\xe6\\xba\\x90\\xe5\\xb8\\xa6\\xe5\\xae\\xbd\\xe5\\x91\\x8a\\xe8\\xad\\xa6,\\xe6\\xb5\\x81\\xe9\\x87\\x8f\\xe8\\x80\\x97\\xe5\\xb0\\xbd\\xe5\\x91\\x8a\\xe8\\xad\\xa6\\xe9\\x98\\x88\\xe5\\x80\\xbc,\\xe6\\xb5\\x81\\xe9\\x87\\x8f\\xe5\\x90\\x8c\\xe6\\xaf\\x94\\xe9\\x98\\x88\\xe5\\x80\\xbc,\\xe6\\xb5\\x81\\xe9\\x87\\x8f\\xe5\\x90\\x8c\\xe6\\xaf\\x94\\xe5\\x9f\\xba\\xe5\\x87\\x86\\xe5\\x80\\xbc,\\xe8\\xaf\\xb7\\xe6\\xb1\\x82\\xe9\\x87\\x8f\\xe5\\x90\\x8c\\xe6\\xaf\\x94\\xe9\\x98\\x88\\xe5\\x80\\xbc,\\xe8\\xaf\\xb7\\xe6\\xb1\\x82\\xe9\\x87\\x8f\\xe5\\x90\\x8c\\xe6\\xaf\\x94\\xe5\\x9f\\xba\\xe5\\x87\\x86\\xe5\\x80\\xbc,\\xe8\\xaf\\xb7\\xe6\\xb1\\x82IP\\xe9\\x87\\x8f\\xe5\\x90\\x8c\\xe6\\xaf\\x94\\xe9\\x98\\x88\\xe5\\x80\\xbc,\\xe8\\xaf\\xb7\\xe6\\xb1\\x82IP\\xe9\\x87\\x8f\\xe5\\x90\\x8c\\xe6\\xaf\\x94\\xe5\\x9f\\xba\\xe5\\x87\\x86\\xe5\\x80\\xbc,CC\\xe6\\x94\\xbb\\xe5\\x87\\xbb\\xe5\\x91\\x8a\\xe8\\xad\\xa6\\xe9\\x98\\x88\\xe5\\x80\\xbc,\\xe5\\x8f\\x96\\xe6\\xba\\x90\\xe5\\xbc\\x82\\xe5\\xb8\\xb8\\xe5\\x91\\x8a\\xe8\\xad\\xa6\\xe9\\x98\\x88\\xe5\\x80\\xbc,\\xe5\\x8f\\x96\\xe6\\xba\\x90\\xe5\\xb8\\xa6\\xe5\\xae\\xbd\\xe5\\x90\\x8c\\xe6\\xaf\\x94\\xe9\\x98\\x88\\xe5\\x80\\xbc,\\xe5\\x8f\\x96\\xe6\\xba\\x90\\xe5\\xb8\\xa6\\xe5\\xae\\xbd\\xe7\\x8e\\xaf\\xe6\\xaf\\x94\\xe9\\x98\\x88\\xe5\\x80\\xbc,\\xe5\\x8f\\x96\\xe6\\xba\\x90\\xe5\\xb8\\xa6\\xe5\\xae\\xbd\\xe5\\x9f\\xba\\xe5\\x87\\x86\\xe5\\x80\\xbc\\r\\nexample1.com,1,1,1,1,1,0,1,1,10000000001,1,2,3,4,5,6,7,8,11,9,10\\r\\nbiup.com,0,0,0,0,0,0,1,0,,,0,,0,,0,0,1,0,0,0\\r\\nfang.com,1,1,1,1,1,0,1,0,100,50,5000,50,1000,50,500,1000,0,0,0,0\\r\\nvnet.cn,0,0,0,0,0,0,0,0,,,0,,0,,0,0,0,0,0,0\\r\\nxander-ye.com,0,0,0,0,1,0,0,0,,,0,,0,,0,50,0,0,0,0\\r\\n'\n",
    "data"
   ]
  },
  {
   "cell_type": "code",
   "execution_count": 18,
   "metadata": {},
   "outputs": [
    {
     "data": {
      "text/plain": [
       "'域名,流量耗尽告警,流量同比异常,请求量同比异常,请求IP量同比异常,CC攻击告警,项目到期告警,取源异常告警,取源带宽告警,流量耗尽告警阈值,流量同比阈值,流量同比基准值,请求量同比阈值,请求量同比基准值,请求IP量同比阈值,请求IP量同比基准值,CC攻击告警阈值,取源异常告警阈值,取源带宽同比阈值,取源带宽环比阈值,取源带宽基准值\\r\\nexample1.com,1,1,1,1,1,0,1,1,10000000001,1,2,3,4,5,6,7,8,11,9,10\\r\\nbiup.com,0,0,0,0,0,0,1,0,,,0,,0,,0,0,1,0,0,0\\r\\nfang.com,1,1,1,1,1,0,1,0,100,50,5000,50,1000,50,500,1000,0,0,0,0\\r\\nvnet.cn,0,0,0,0,0,0,0,0,,,0,,0,,0,0,0,0,0,0\\r\\nxander-ye.com,0,0,0,0,1,0,0,0,,,0,,0,,0,50,0,0,0,0\\r\\n'"
      ]
     },
     "execution_count": 18,
     "metadata": {},
     "output_type": "execute_result"
    }
   ],
   "source": [
    "d = data.decode()\n",
    "d"
   ]
  },
  {
   "cell_type": "code",
   "execution_count": 23,
   "metadata": {},
   "outputs": [
    {
     "name": "stdout",
     "output_type": "stream",
     "text": [
      "['example1.com', '1', '1', '1', '1', '1', '0', '1', '1', '10000000001', '1', '2', '3', '4', '5', '6', '7', '8', '11', '9', '10']\n",
      "['biup.com', '0', '0', '0', '0', '0', '0', '1', '0', '', '', '0', '', '0', '', '0', '0', '1', '0', '0', '0']\n",
      "['fang.com', '1', '1', '1', '1', '1', '0', '1', '0', '100', '50', '5000', '50', '1000', '50', '500', '1000', '0', '0', '0', '0']\n",
      "['vnet.cn', '0', '0', '0', '0', '0', '0', '0', '0', '', '', '0', '', '0', '', '0', '0', '0', '0', '0', '0']\n",
      "['xander-ye.com', '0', '0', '0', '0', '1', '0', '0', '0', '', '', '0', '', '0', '', '0', '50', '0', '0', '0', '0']\n"
     ]
    }
   ],
   "source": [
    "import csv\n",
    "from io import StringIO\n",
    "f = StringIO(d)\n",
    "reader = csv.reader(f, delimiter=',')\n",
    "for index,row in enumerate(reader):\n",
    "    if index == 0:\n",
    "        continue\n",
    "    print(row)"
   ]
  },
  {
   "cell_type": "code",
   "execution_count": 22,
   "metadata": {
    "scrolled": true
   },
   "outputs": [
    {
     "data": {
      "text/plain": [
       "ExtractResult(subdomain='www.www', domain='gsxt', suffix='gov.cn')"
      ]
     },
     "execution_count": 22,
     "metadata": {},
     "output_type": "execute_result"
    }
   ],
   "source": [
    "import tldextract\n",
    "result = tldextract.extract('www.www.gsxt.gov.cn')\n",
    "result"
   ]
  },
  {
   "cell_type": "code",
   "execution_count": 12,
   "metadata": {},
   "outputs": [
    {
     "data": {
      "text/plain": [
       "array([10, 13, 10, 17,  7])"
      ]
     },
     "execution_count": 12,
     "metadata": {},
     "output_type": "execute_result"
    }
   ],
   "source": [
    "from queue import PriorityQueue\n",
    "import numpy as np\n",
    "q = PriorityQueue(5)\n",
    "arr = np.random.randint(1, 20, size=5)\n",
    "arr"
   ]
  },
  {
   "cell_type": "code",
   "execution_count": 13,
   "metadata": {},
   "outputs": [
    {
     "data": {
      "text/plain": [
       "array([ 6,  3,  6,  4, 16])"
      ]
     },
     "execution_count": 13,
     "metadata": {},
     "output_type": "execute_result"
    }
   ],
   "source": [
    "for i in arr:\n",
    "    q.put(i)\n",
    "arr2 = np.random.randint(1, 20, size=5) \n",
    "arr2"
   ]
  },
  {
   "cell_type": "code",
   "execution_count": 14,
   "metadata": {},
   "outputs": [
    {
     "name": "stdout",
     "output_type": "stream",
     "text": [
      "7\n",
      "[6, 10, 13, 17, 10]\n",
      "6\n",
      "[3, 10, 13, 17, 10]\n",
      "3\n",
      "[6, 10, 13, 17, 10]\n",
      "6\n",
      "[4, 10, 13, 17, 10]\n",
      "4\n",
      "[10, 10, 13, 17, 16]\n"
     ]
    }
   ],
   "source": [
    "for i in arr2:\n",
    "    print(q.get())\n",
    "    q.put(i)\n",
    "    print(q.queue)"
   ]
  }
 ],
 "metadata": {
  "kernelspec": {
   "display_name": "Python 3",
   "language": "python",
   "name": "python3"
  },
  "language_info": {
   "codemirror_mode": {
    "name": "ipython",
    "version": 3
   },
   "file_extension": ".py",
   "mimetype": "text/x-python",
   "name": "python",
   "nbconvert_exporter": "python",
   "pygments_lexer": "ipython3",
   "version": "3.6.3"
  }
 },
 "nbformat": 4,
 "nbformat_minor": 2
}
