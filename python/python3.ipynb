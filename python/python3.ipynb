{
 "cells": [
  {
   "cell_type": "code",
   "execution_count": 52,
   "metadata": {},
   "outputs": [
    {
     "name": "stdout",
     "output_type": "stream",
     "text": [
      "ok\n"
     ]
    }
   ],
   "source": [
    "print('ok')"
   ]
  },
  {
   "cell_type": "code",
   "execution_count": 53,
   "metadata": {},
   "outputs": [
    {
     "data": {
      "text/plain": [
       "3"
      ]
     },
     "execution_count": 53,
     "metadata": {},
     "output_type": "execute_result"
    }
   ],
   "source": [
    "a = 1\n",
    "b = 2\n",
    "c = b + a\n",
    "c"
   ]
  },
  {
   "cell_type": "code",
   "execution_count": 54,
   "metadata": {},
   "outputs": [
    {
     "data": {
      "text/plain": [
       "3"
      ]
     },
     "execution_count": 54,
     "metadata": {},
     "output_type": "execute_result"
    }
   ],
   "source": [
    "c"
   ]
  },
  {
   "cell_type": "markdown",
   "metadata": {},
   "source": [
    "# 这是标题\n",
    "[链接](http://www.baidu.como)"
   ]
  },
  {
   "cell_type": "code",
   "execution_count": 2,
   "metadata": {},
   "outputs": [
    {
     "data": {
      "text/plain": [
       "([],\n",
       " [[0, 1, 2, 3, 4, 5, 6, 7, 8, 9],\n",
       "  [10, 11, 12, 13, 14, 15, 16, 17, 18, 19],\n",
       "  [20, 21, 22, 23, 24, 25, 26, 27, 28, 29],\n",
       "  [30, 31, 32, 33, 34, 35, 36, 37, 38, 39],\n",
       "  [40, 41, 42, 43, 44, 45, 46, 47, 48, 49],\n",
       "  [50, 51, 52, 53, 54, 55, 56, 57, 58, 59],\n",
       "  [60, 61, 62, 63, 64, 65, 66, 67, 68, 69],\n",
       "  [70, 71, 72, 73, 74, 75, 76, 77, 78, 79],\n",
       "  [80, 81, 82, 83, 84, 85, 86, 87, 88, 89],\n",
       "  [90, 91, 92, 93, 94, 95, 96, 97, 98, 99]])"
      ]
     },
     "execution_count": 2,
     "metadata": {},
     "output_type": "execute_result"
    }
   ],
   "source": [
    "a = [i for i in range(100)]\n",
    "volume = []\n",
    "while a:\n",
    "    volume.append(a[:10])\n",
    "    a = a[10:]\n",
    "a, volume"
   ]
  },
  {
   "cell_type": "code",
   "execution_count": 5,
   "metadata": {},
   "outputs": [
    {
     "data": {
      "text/plain": [
       "[{'domain': 'domain0.com', 'count': 100},\n",
       " {'domain': 'domain1.com', 'count': 99},\n",
       " {'domain': 'domain2.com', 'count': 98},\n",
       " {'domain': 'domain3.com', 'count': 97},\n",
       " {'domain': 'domain4.com', 'count': 96},\n",
       " {'domain': 'domain5.com', 'count': 95},\n",
       " {'domain': 'domain6.com', 'count': 94},\n",
       " {'domain': 'domain7.com', 'count': 93},\n",
       " {'domain': 'domain8.com', 'count': 92},\n",
       " {'domain': 'domain9.com', 'count': 91},\n",
       " {'domain': 'domain10.com', 'count': 90},\n",
       " {'domain': 'domain11.com', 'count': 89},\n",
       " {'domain': 'domain12.com', 'count': 88},\n",
       " {'domain': 'domain13.com', 'count': 87},\n",
       " {'domain': 'domain14.com', 'count': 86},\n",
       " {'domain': 'domain15.com', 'count': 85},\n",
       " {'domain': 'domain16.com', 'count': 84},\n",
       " {'domain': 'domain17.com', 'count': 83},\n",
       " {'domain': 'domain18.com', 'count': 82},\n",
       " {'domain': 'domain19.com', 'count': 81}]"
      ]
     },
     "execution_count": 5,
     "metadata": {},
     "output_type": "execute_result"
    }
   ],
   "source": [
    "data = []\n",
    "for i in range(20):\n",
    "    data.append({'domain': 'domain{}.com'.format(i), 'count': 100-i})\n",
    "data"
   ]
  },
  {
   "cell_type": "code",
   "execution_count": 19,
   "metadata": {},
   "outputs": [
    {
     "data": {
      "text/plain": [
       "(['a', 'b'], 'a,b')"
      ]
     },
     "execution_count": 19,
     "metadata": {},
     "output_type": "execute_result"
    }
   ],
   "source": [
    "import re\n",
    "\n",
    "DOMAIN_HOST_RE = re.compile(\n",
    "     r'^(?=^.{3,255}$)[a-zA-Z0-9][-a-zA-Z0-9]{0,62}(\\.[a-zA-Z0-9][-a-zA-Z0-9]{0,62})+$'\n",
    ")\n",
    "DOMAIN_HOST_RE.match('www.baidu.wwwsasdfcom')\n",
    "\n",
    "re.compile('^https?:\\/\\/[\\w.-]+(:\\d+)?').match('http://www.bai-du.comx:900')\n",
    "\n",
    "a = 'a,b'\n",
    "a.split(','), a"
   ]
  },
  {
   "cell_type": "code",
   "execution_count": 5,
   "metadata": {},
   "outputs": [
    {
     "ename": "AttributeError",
     "evalue": "'dict' object has no attribute 'iteritems'",
     "output_type": "error",
     "traceback": [
      "\u001b[0;31m---------------------------------------------------------------------------\u001b[0m",
      "\u001b[0;31mAttributeError\u001b[0m                            Traceback (most recent call last)",
      "\u001b[0;32m<ipython-input-5-fbb0d006c4fe>\u001b[0m in \u001b[0;36m<module>\u001b[0;34m()\u001b[0m\n\u001b[1;32m     16\u001b[0m \u001b[0;34m\u001b[0m\u001b[0m\n\u001b[1;32m     17\u001b[0m \u001b[0mdict_string_list\u001b[0m \u001b[0;34m=\u001b[0m \u001b[0;34m[\u001b[0m\u001b[0;34m]\u001b[0m\u001b[0;34m\u001b[0m\u001b[0m\n\u001b[0;32m---> 18\u001b[0;31m \u001b[0;32mfor\u001b[0m \u001b[0mkey\u001b[0m\u001b[0;34m,\u001b[0m \u001b[0mvalue\u001b[0m \u001b[0;32min\u001b[0m \u001b[0margs\u001b[0m\u001b[0;34m.\u001b[0m\u001b[0miteritems\u001b[0m\u001b[0;34m(\u001b[0m\u001b[0;34m)\u001b[0m\u001b[0;34m:\u001b[0m\u001b[0;34m\u001b[0m\u001b[0m\n\u001b[0m\u001b[1;32m     19\u001b[0m    \u001b[0;32mif\u001b[0m \u001b[0misinstance\u001b[0m\u001b[0;34m(\u001b[0m\u001b[0mvalue\u001b[0m\u001b[0;34m,\u001b[0m \u001b[0mdict\u001b[0m\u001b[0;34m)\u001b[0m\u001b[0;34m:\u001b[0m\u001b[0;34m\u001b[0m\u001b[0m\n\u001b[1;32m     20\u001b[0m        \u001b[0mdict_list\u001b[0m \u001b[0;34m=\u001b[0m \u001b[0;34m[\u001b[0m\u001b[0;34m]\u001b[0m\u001b[0;34m\u001b[0m\u001b[0m\n",
      "\u001b[0;31mAttributeError\u001b[0m: 'dict' object has no attribute 'iteritems'"
     ]
    }
   ],
   "source": [
    " \n",
    "order_data = {}        \n",
    "args = {\n",
    "    'to': ['yexy@knownsec.coom'],\n",
    "    'sub': {\n",
    "    \"company\": order_data.get('company', '知道川渝'),\n",
    "    \"contacts\": order_data.get('contacts', 'yexy'),\n",
    "    \"phone\": order_data.get('phone', '18280081234'),\n",
    "    \"account\": order_data.get('account', 'yexy@knownsec.com'),\n",
    "    \"qq\": order_data.get('qq', 'asdf'),\n",
    "    'service_name': 'asdf',\n",
    "    \"domain\": order_data.get('domain', 'asdf'),\n",
    "    \"create_time\": 'asdfasdf',\n",
    "}\n",
    "}\n",
    "    \n",
    "dict_string_list = []\n",
    "for key, value in args.iteritems():\n",
    "    if isinstance(value, dict):\n",
    "        dict_list = []\n",
    "        for k, v in value.iteritems():\n",
    "            encode_list = [\"'{}'\".format(s.encode('utf-8'))\n",
    "                           if isinstance(s, unicode)\n",
    "                           else str(\"'{}'\".format(s)) for s in v]\n",
    "            list_str = \"'{}'\".format(k) +\\\n",
    "                       ':[{}]'.format(','.join(encode_list))\n",
    "            dict_list.append(list_str)\n",
    "        value_str = '{' + ','.join(dict_list) + '}'\n",
    "    else:\n",
    "        value_str = value.encode('utf-8')\\\n",
    "                    if isinstance(value, unicode) else str(value)\n",
    "    dict_str = \"'{}'\".format(key) + ':' + value_str\n",
    "    dict_string_list.append(dict_str)\n",
    "args = '{' + ','.join(dict_string_list) + '}'\n",
    "args        "
   ]
  },
  {
   "cell_type": "code",
   "execution_count": null,
   "metadata": {},
   "outputs": [],
   "source": [
    "\n",
    "                \n",
    "                \n",
    "                "
   ]
  },
  {
   "cell_type": "code",
   "execution_count": null,
   "metadata": {},
   "outputs": [],
   "source": []
  }
 ],
 "metadata": {
  "kernelspec": {
   "display_name": "Python 3",
   "language": "python",
   "name": "python3"
  },
  "language_info": {
   "codemirror_mode": {
    "name": "ipython",
    "version": 3
   },
   "file_extension": ".py",
   "mimetype": "text/x-python",
   "name": "python",
   "nbconvert_exporter": "python",
   "pygments_lexer": "ipython3",
   "version": "3.6.3"
  }
 },
 "nbformat": 4,
 "nbformat_minor": 2
}
