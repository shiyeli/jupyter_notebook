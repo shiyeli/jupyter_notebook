{
 "cells": [
  {
   "cell_type": "code",
   "execution_count": 2,
   "metadata": {},
   "outputs": [
    {
     "data": {
      "text/plain": [
       "{'a': 2, 'b': 1}"
      ]
     },
     "execution_count": 2,
     "metadata": {},
     "output_type": "execute_result"
    }
   ],
   "source": [
    "m={'a':1,'b':2}\n",
    "m['a'],m['b']=m['b'],m['a']\n",
    "m"
   ]
  },
  {
   "cell_type": "code",
   "execution_count": 4,
   "metadata": {
    "scrolled": true
   },
   "outputs": [],
   "source": [
    "path='/Users/yexianyong/test/test.log'\n",
    "path_write='/Users/yexianyong/test/res.log'\n",
    "\n",
    "def read_in_chunks(path,chunk_size=None):\n",
    "    \n",
    "    chunk_size=len('2017-01-01 12:12:12 \"a=1&b=2&c=3\"')+1\n",
    "    \n",
    "    file_object=open(path)\n",
    "    while True:\n",
    "        chunk_data=file_object.read(chunk_size)\n",
    "        if not chunk_data:\n",
    "            break\n",
    "        yield chunk_data\n",
    "f=open\n",
    "        \n",
    "for chunk in read_in_chunks(path):\n",
    "    tmp=chunk.split(' ')\n",
    "    res='{} {}\\n'.format(tmp[0],tmp[1])"
   ]
  },
  {
   "cell_type": "code",
   "execution_count": 5,
   "metadata": {},
   "outputs": [],
   "source": [
    "with open(path,'r') as f:\n",
    "    for line in f:\n",
    "        pass"
   ]
  },
  {
   "cell_type": "markdown",
   "metadata": {},
   "source": [
    "2017-01-01 12:12:12 \"a=1&b=2&c=3\"\n",
    "2017-01-01 12:12:12 \"a=1&b=2&c=3\"\n",
    "\n",
    "awk '{print $1,$2}' test.log"
   ]
  },
  {
   "cell_type": "code",
   "execution_count": 19,
   "metadata": {},
   "outputs": [
    {
     "data": {
      "text/plain": [
       "'china'"
      ]
     },
     "execution_count": 19,
     "metadata": {},
     "output_type": "execute_result"
    }
   ],
   "source": [
    "中国='china'\n",
    "中国"
   ]
  },
  {
   "cell_type": "code",
   "execution_count": 129,
   "metadata": {},
   "outputs": [
    {
     "data": {
      "text/plain": [
       "121"
      ]
     },
     "execution_count": 129,
     "metadata": {},
     "output_type": "execute_result"
    }
   ],
   "source": [
    "import numpy as np\n",
    "\n",
    "PRIZE_POOL=np.array([1 for _ in range(10)]+[2 for _ in range(10)]+[3 for _ in range(33)])\n",
    "counts=0\n",
    "for i in range(10000):\n",
    "    \n",
    "    np.random.shuffle(PRIZE_POOL)\n",
    "    prize1,prize2,prize3=np.random.choice(PRIZE_POOL,3)\n",
    "    if prize1==prize2==prize3==1 or prize1==prize2==prize3==2:\n",
    "        counts+=1\n",
    "counts"
   ]
  },
  {
   "cell_type": "code",
   "execution_count": 149,
   "metadata": {
    "scrolled": true
   },
   "outputs": [
    {
     "name": "stdout",
     "output_type": "stream",
     "text": [
      "[0, 1]\n",
      "[3, 2, 1, 0, 1, 4]\n",
      "[0, 1, 0, 1, 4]\n"
     ]
    }
   ],
   "source": [
    "def f(x,l=[]):\n",
    "    for i in range(x):\n",
    "        l.append(i*i)\n",
    "    print (l)\n",
    "\n",
    "f(2)\n",
    "f(3,[3,2,1])\n",
    "f(3)"
   ]
  },
  {
   "cell_type": "code",
   "execution_count": 150,
   "metadata": {},
   "outputs": [
    {
     "name": "stdout",
     "output_type": "stream",
     "text": [
      "[0, 1]\n"
     ]
    }
   ],
   "source": [
    "l_men=[]\n",
    "l=l_men\n",
    "\n",
    "for i in range(2):\n",
    "    l.append(i*i)\n",
    "print(l)"
   ]
  },
  {
   "cell_type": "code",
   "execution_count": 152,
   "metadata": {},
   "outputs": [
    {
     "data": {
      "text/plain": [
       "[3, 2, 1, 0, 1, 4]"
      ]
     },
     "execution_count": 152,
     "metadata": {},
     "output_type": "execute_result"
    }
   ],
   "source": [
    "l=[3,2,1]\n",
    "for i in range(3):\n",
    "    l.append(i*i)\n",
    "l"
   ]
  },
  {
   "cell_type": "code",
   "execution_count": 8,
   "metadata": {},
   "outputs": [
    {
     "data": {
      "text/plain": [
       "'noBlUWtOLkhQgjD'"
      ]
     },
     "execution_count": 8,
     "metadata": {},
     "output_type": "execute_result"
    }
   ],
   "source": [
    "import time\n",
    "time.time()\n",
    "import string,random\n",
    "random_name=''.join(random.choices(string.ascii_uppercase+string.ascii_lowercase,k=15))\n",
    "random_name"
   ]
  },
  {
   "cell_type": "code",
   "execution_count": 61,
   "metadata": {},
   "outputs": [
    {
     "data": {
      "text/plain": [
       "112"
      ]
     },
     "execution_count": 61,
     "metadata": {},
     "output_type": "execute_result"
    }
   ],
   "source": [
    "import numpy as np\n",
    "prize=5\n",
    "smile=18\n",
    "prize_pool=np.array([1 for _ in range(prize)]+[2 for _ in range(prize)]+[3 for _ in range(prize)]+[4 for _ in range(smile)])\n",
    "\n",
    "counts=0\n",
    "for i in range(10000):\n",
    "#     np.random.shuffle(prize_pool)\n",
    "    one,two,three=np.random.choice(prize_pool,3)\n",
    "    if one !=4 and one==two==three:\n",
    "        counts=counts+1\n",
    "    \n",
    "counts"
   ]
  },
  {
   "cell_type": "code",
   "execution_count": 70,
   "metadata": {},
   "outputs": [
    {
     "data": {
      "text/plain": [
       "36"
      ]
     },
     "execution_count": 70,
     "metadata": {},
     "output_type": "execute_result"
    }
   ],
   "source": [
    "a=[3,5,4,8,6,8,36,6]\n",
    "first=a[0]\n",
    "for index,i in enumerate(a):\n",
    "    if first<i:\n",
    "        first=i\n",
    "first"
   ]
  },
  {
   "cell_type": "code",
   "execution_count": 9,
   "metadata": {},
   "outputs": [
    {
     "name": "stdout",
     "output_type": "stream",
     "text": [
      "x:1,args:(2, 3),kargs:{'args': 4}\n",
      "x:1,args:(2, (3, 4)),kargs:{'args': 5, 'kargs': 6}\n"
     ]
    }
   ],
   "source": [
    "def test_params(x,*args,**kargs):\n",
    "    print('x:{},args:{},kargs:{}'.format(x,args,kargs))\n",
    "    \n",
    "    \n",
    "test_params(1,2,3,args=4)\n",
    "test_params(1,2,(3,4),args=5,kargs=6)"
   ]
  },
  {
   "cell_type": "code",
   "execution_count": 12,
   "metadata": {},
   "outputs": [
    {
     "data": {
      "text/plain": [
       "[1, 1, 1, 1, 1]"
      ]
     },
     "execution_count": 12,
     "metadata": {},
     "output_type": "execute_result"
    }
   ],
   "source": [
    "a=[1]*5\n",
    "a"
   ]
  },
  {
   "cell_type": "code",
   "execution_count": 12,
   "metadata": {},
   "outputs": [
    {
     "ename": "IndentationError",
     "evalue": "unexpected indent (<ipython-input-12-73d12bd45e38>, line 53)",
     "output_type": "error",
     "traceback": [
      "\u001b[0;36m  File \u001b[0;32m\"<ipython-input-12-73d12bd45e38>\"\u001b[0;36m, line \u001b[0;32m53\u001b[0m\n\u001b[0;31m    a\u001b[0m\n\u001b[0m    ^\u001b[0m\n\u001b[0;31mIndentationError\u001b[0m\u001b[0;31m:\u001b[0m unexpected indent\n"
     ]
    }
   ],
   "source": [
    "import json\n",
    "\n",
    "a=json.loads(\"\"\"{\n",
    "      'order_no': [\n",
    "        '20180907111040030100110602691351'\n",
    "      ],\n",
    "      'trans_no': [\n",
    "        '2018090722001468110577458931'\n",
    "      ],\n",
    "      'create_order_shop_id': [\n",
    "        '2016070400077000000016182929'\n",
    "      ],\n",
    "      'charset': [\n",
    "        'gbk'\n",
    "      ],\n",
    "      'notify_time': [\n",
    "        '2018-09-07 19:16:37'\n",
    "      ],\n",
    "      'sign': [\n",
    "        'mhKpQv3tnAlzdXZe1ghaWFCoUxIoot42HTjc8yo0lw0zCNm3EsbnSOJ1xAcDwmVU66K1ii1nDxa4m7iJ8Td8ZZC5ItZU1+kIYKKCzw5wzixBq6ztd1cFjDrEasppID1+wGZLUMoQjLEnBDp5pxS+OhmQvg9iVlM2jprFjRQVi9dyhcP4/IhUDg/hzru6UaO4ZdeKmU7Xm2wNTQnG2BoXVFJYoL6jkqUNaNwzLXJj+Ilt7Bw4vHn6nB26tebU2tstipZJI2HcTX1bhY4/hReYyREiDpl/U47dh6sMQeBvN7mjoV0XbVwQVbHoqUBv/91sRzY+5OXHfVtAFHhQI7e6lA=='\n",
    "      ],\n",
    "      'order_principal_id': [\n",
    "        '2088611906929988'\n",
    "      ],\n",
    "      'out_biz_no': [\n",
    "        'e12a36f237fedd6bd535973f3890e133'\n",
    "      ],\n",
    "      'buyer_user_id': [\n",
    "        '2088402972368115'\n",
    "      ],\n",
    "      'version': [\n",
    "        '1.0'\n",
    "      ],\n",
    "      'item_infos': [\n",
    "        '[{\"item_id\":\"2018090720076004000039969898\",\"item_quantity\":1}]'\n",
    "      ],\n",
    "      'notify_id': [\n",
    "        '2018090700222191637075070529255674'\n",
    "      ],\n",
    "      'notify_type': [\n",
    "        'koubei_trade_ext_notify'\n",
    "      ],\n",
    "      'order_operator_type': [\n",
    "        'PAY'\n",
    "      ],\n",
    "      'app_id': [\n",
    "        '2018040202491828'\n",
    "      ],\n",
    "      'sign_type': [\n",
    "        'RSA2'\n",
    "      ]\n",
    "    }\"\"\")\n",
    " a"
   ]
  }
 ],
 "metadata": {
  "kernelspec": {
   "display_name": "Python 3",
   "language": "python",
   "name": "python3"
  },
  "language_info": {
   "codemirror_mode": {
    "name": "ipython",
    "version": 3
   },
   "file_extension": ".py",
   "mimetype": "text/x-python",
   "name": "python",
   "nbconvert_exporter": "python",
   "pygments_lexer": "ipython3",
   "version": "3.6.1"
  }
 },
 "nbformat": 4,
 "nbformat_minor": 1
}
