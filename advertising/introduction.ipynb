{
 "cells": [
  {
   "cell_type": "markdown",
   "metadata": {},
   "source": [
    "# 广告的定义\n",
    "广告是由以确定的出资人通过各种没接进行有关产品（商品、服务、观点），通常是有偿的，有组织的、综合的、劝服性的非人员的信息传播活动。\n",
    "\n",
    "### 广告的主体\n",
    "出资人（sponsor）即广告主（advertiser）,媒介（medium），受众（audience）\n",
    "\n",
    "### 广告的本质功能\n",
    "借助某种有广泛受众的媒介的力量，完成较低成本的用户接触（reach）\n",
    "\n",
    "\n",
    "### 品牌广告（Brand Awareness）\n",
    "创造独特的良好品牌或产品形象，目的在于提升较长期内的离线转化率。\n",
    "\n",
    "### 效果广告（Direct Response）\n",
    "有短期明确用户转化行为诉求的广告。用户转化行为例如：购买，注册，投票，全款等。\n",
    "\n"
   ]
  },
  {
   "cell_type": "code",
   "execution_count": null,
   "metadata": {},
   "outputs": [],
   "source": []
  }
 ],
 "metadata": {
  "kernelspec": {
   "display_name": "Python 3",
   "language": "python",
   "name": "python3"
  },
  "language_info": {
   "codemirror_mode": {
    "name": "ipython",
    "version": 3
   },
   "file_extension": ".py",
   "mimetype": "text/x-python",
   "name": "python",
   "nbconvert_exporter": "python",
   "pygments_lexer": "ipython3",
   "version": "3.6.5"
  }
 },
 "nbformat": 4,
 "nbformat_minor": 2
}
