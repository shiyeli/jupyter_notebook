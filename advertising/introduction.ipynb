{
 "cells": [
  {
   "cell_type": "markdown",
   "metadata": {},
   "source": [
    "[互联网广告算法和系统实践](https://yuedu.baidu.com/ebook/3e31c551964bcf84b9d57bc0###)\n",
    "\n",
    "# 广告的定义\n",
    "广告是由以确定的出资人通过各种没接进行有关产品（商品、服务、观点），通常是有偿的，有组织的、综合的、劝服性的非人员的信息传播活动。\n",
    "\n",
    "### 广告的主体\n",
    "出资人（sponsor）即广告主（advertiser）,媒介（medium），受众（audience）\n",
    "\n",
    "### 广告的本质功能\n",
    "借助某种有广泛受众的媒介的力量，完成较低成本的用户接触（reach）\n",
    "\n",
    "\n",
    "### 品牌广告（Brand Awareness）\n",
    "创造独特的良好品牌或产品形象，目的在于提升较长期内的离线转化率。\n",
    "\n",
    "### 效果广告（Direct Response）\n",
    "有短期明确用户转化行为诉求的广告。用户转化行为例如：购买，注册，投票，全款等。\n",
    "\n",
    "![](https://upload-images.jianshu.io/upload_images/1271438-c709b0789f19b302.png?imageMogr2/auto-orient/strip%7CimageView2/2/w/1240)\n",
    "\n",
    "互联网广告算法的核心问题，是根据用户，环境，广告的全部有效信息，找到最合适的投放策略和模型，兼顾浏览者，广告主，广告平台的最大利益，并不断调整。\n",
    "\n",
    "* 用户行为数据收集和更新系统\n",
    "* 特征提取和行为分析\n",
    "* 反作弊系统\n",
    "* 广告主后台\n",
    "* 存储系统\n",
    "* 计算系统：广告系统的离线计算，比如用户画像，意图挖掘；模型训练任务等\n",
    "\n",
    "# 搜索广告\n",
    "\n",
    "### 搜索广告架构\n",
    "\n",
    "用户查询后：广告检索、广告排序、流量分配\n",
    "\n",
    "协同过滤算法\n",
    "\n",
    "# 在线广告的核心计算问题\n",
    "\n",
    "### 从优化角度看\n",
    "* 特征提取：受众定向\n",
    "* 微观优化：CTR预测\n",
    "* 宏观优化：竞价市场机制\n",
    "* 受限优化：在线分配\n",
    "* 强化学习：探索与利用\n",
    "* 个性化重定向：推荐技术\n",
    "\n",
    "### 从系统角度看\n",
    "* 候选查询：实时索引\n",
    "* 特征存储：No-sql技术\n",
    "* 离线学习：Hadoop\n",
    "* 在线学习：流计算\n",
    "* 交易市场：实时竞价\n",
    "\n",
    "\n",
    "\n",
    "\n",
    "\n",
    "\n"
   ]
  },
  {
   "cell_type": "markdown",
   "metadata": {},
   "source": []
  }
 ],
 "metadata": {
  "kernelspec": {
   "display_name": "Python 3",
   "language": "python",
   "name": "python3"
  },
  "language_info": {
   "codemirror_mode": {
    "name": "ipython",
    "version": 3
   },
   "file_extension": ".py",
   "mimetype": "text/x-python",
   "name": "python",
   "nbconvert_exporter": "python",
   "pygments_lexer": "ipython3",
   "version": "3.6.6"
  }
 },
 "nbformat": 4,
 "nbformat_minor": 2
}
