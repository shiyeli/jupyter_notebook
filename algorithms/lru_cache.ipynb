{
 "cells": [
  {
   "cell_type": "markdown",
   "metadata": {},
   "source": [
    "[LRU Cache](https://zhuanlan.zhihu.com/p/35175401)"
   ]
  },
  {
   "cell_type": "code",
   "execution_count": 19,
   "metadata": {},
   "outputs": [
    {
     "data": {
      "text/plain": [
       "0.00016617774963378906"
      ]
     },
     "execution_count": 19,
     "metadata": {},
     "output_type": "execute_result"
    }
   ],
   "source": [
    "\n",
    "def cache(func):\n",
    "    data={}\n",
    "    def wrapper(n):\n",
    "        if n not in data:\n",
    "            data[n]=func(n)\n",
    "        return data[n]\n",
    "    return wrapper\n",
    "\n",
    "\"\"\"\n",
    "cache before:1.1854779720306396\n",
    "cache after:0.00016617774963378906\n",
    "\"\"\"           \n",
    "@cache\n",
    "def fib(n):\n",
    "    if n<=2:\n",
    "        return 1\n",
    "    return fib(n-2)+fib(n-1)\n",
    "\n",
    "\n",
    "import time\n",
    "t=time.time()\n",
    "fib(33)\n",
    "time.time()-t"
   ]
  },
  {
   "cell_type": "code",
   "execution_count": null,
   "metadata": {},
   "outputs": [],
   "source": [
    "# LRU cache\n",
    "\n",
    "class Node():\n",
    "    def __init__(self,prev=None,next=None,key=None,value=None)\n",
    "        self.prev,self.next,self.key,self.value=prev,next,key,value\n",
    "        \n",
    "\n",
    "class DoubleDirectionLink():\n",
    "    def __init__(self):\n",
    "        node=Node()\n",
    "        node.prev,node.next=node,node\n",
    "        self.rootnode=node\n",
    "        \n",
    "    def headnode(self):\n",
    "        return self.rootnode.next\n",
    "    \n",
    "    def tailnode(self):\n",
    "        return self.rootnode.prev\n",
    "    \n",
    "    def remove(self,node):\n",
    "        if node is self.rootnode:\n",
    "            return\n",
    "        else:\n",
    "            node.prev.next=node.next\n",
    "            node.next.prev=node.prev\n",
    "            \n",
    "            \n",
    "    def append(self,node):\n",
    "        tailnode=self.tailnode()\n",
    "        tailnode.next=node\n",
    "        node.next=self.rootnode\n",
    "        node.prev=tailnode\n",
    "        self.rootnode.prev=node\n",
    "        \n",
    "    \n",
    "class LRUCache():\n",
    "    def __init__(self,capacity=16):\n",
    "        self.capacity=capacity\n",
    "        self.cache={}\n",
    "        self.access=DoubleDirectionLink()\n",
    "        self.isfull=len(self.cache)>=self.capacity\n",
    "        \n",
    "    def __call__(self,func):\n",
    "        def wrapper(*args,**kargs):\n",
    "            \n",
    "            \n",
    "            \n",
    "            \n",
    "            return func(*args,**kargs)\n",
    "        return wrapper\n",
    "        \n",
    "        "
   ]
  }
 ],
 "metadata": {
  "kernelspec": {
   "display_name": "Python 3",
   "language": "python",
   "name": "python3"
  },
  "language_info": {
   "codemirror_mode": {
    "name": "ipython",
    "version": 3
   },
   "file_extension": ".py",
   "mimetype": "text/x-python",
   "name": "python",
   "nbconvert_exporter": "python",
   "pygments_lexer": "ipython3",
   "version": "3.6.3"
  }
 },
 "nbformat": 4,
 "nbformat_minor": 2
}
