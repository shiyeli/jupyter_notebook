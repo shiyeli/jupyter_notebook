{
 "cells": [
  {
   "cell_type": "code",
   "execution_count": 5,
   "metadata": {},
   "outputs": [
    {
     "data": {
      "text/plain": [
       "3"
      ]
     },
     "execution_count": 5,
     "metadata": {},
     "output_type": "execute_result"
    }
   ],
   "source": [
    "def lengthOfLongestSubstring(s):\n",
    "    \"\"\"\n",
    "    :type s: str\n",
    "    :rtype: int\n",
    "    \"\"\"\n",
    "    length=len(s)\n",
    "    max_length=0\n",
    "    index=0\n",
    "    str_index_dict={}\n",
    "    substring_lenghth=0\n",
    "\n",
    "    for i in range(length):\n",
    "        if s[i] in str_index_dict and str_index_dict[s[i]]>=index:\n",
    "            index=str_index_dict[s[i]]+1\n",
    "\n",
    "        substring_lenghth=i-index+1\n",
    "        str_index_dict[s[i]]=i\n",
    "        max_length=substring_lenghth if substring_lenghth>max_length else max_length\n",
    "\n",
    "    return max_length\n",
    "\n",
    "lengthOfLongestSubstring(\"abcabcbb\")"
   ]
  },
  {
   "cell_type": "code",
   "execution_count": 31,
   "metadata": {},
   "outputs": [
    {
     "data": {
      "text/plain": [
       "[1, 2]"
      ]
     },
     "execution_count": 31,
     "metadata": {},
     "output_type": "execute_result"
    }
   ],
   "source": [
    "# https://leetcode-cn.com/problems/two-sum/\n",
    "class Solution:\n",
    "    def twoSum(self, nums, target):\n",
    "        \"\"\"\n",
    "        :type nums: List[int]\n",
    "        :type target: int\n",
    "        :rtype: List[int]\n",
    "        \"\"\"\n",
    "#         for index,i in enumerate(nums):\n",
    "#             for j in range(len(nums)-index-1):\n",
    "#                 if i+nums[j+index+1]==target:\n",
    "#                     return [index,j+index+1]\n",
    "                \n",
    "        cache_dict=dict()\n",
    "        for index,i in enumerate(nums):\n",
    "            cache_dict[i]=index\n",
    "        for index,i in enumerate(nums):\n",
    "            other_num=target-i\n",
    "            if other_num in cache_dict and index!=cache_dict[other_num]:\n",
    "                return [index,cache_dict[other_num]]\n",
    "        \n",
    "                \n",
    "                \n",
    "                \n",
    "Solution().twoSum([3,2,4],6)"
   ]
  },
  {
   "cell_type": "code",
   "execution_count": null,
   "metadata": {},
   "outputs": [],
   "source": []
  },
  {
   "cell_type": "code",
   "execution_count": null,
   "metadata": {},
   "outputs": [],
   "source": [
    "\n",
    "\n",
    "\n",
    "\n",
    "\n",
    "\n",
    "\n",
    "\n",
    "\n",
    "\n",
    "\n",
    "\n",
    "\n",
    "\n",
    "\n",
    "\n",
    "\n",
    "\n",
    "\n",
    "\n",
    "\n",
    "\n",
    "\n",
    "\n"
   ]
  },
  {
   "cell_type": "code",
   "execution_count": 17,
   "metadata": {},
   "outputs": [
    {
     "name": "stdout",
     "output_type": "stream",
     "text": [
      "18\n",
      "5\n",
      "8\n",
      "4\n",
      "18\n",
      "17\n",
      "7\n",
      "2\n",
      "16\n",
      "17\n",
      "17\n"
     ]
    },
    {
     "data": {
      "text/plain": [
       "array([18,  5,  8,  4, 18, 17,  7,  2, 16, 17])"
      ]
     },
     "execution_count": 17,
     "metadata": {},
     "output_type": "execute_result"
    }
   ],
   "source": [
    "class Node():\n",
    "    def __init__(self,value=None,next=None):\n",
    "        self.value=value\n",
    "        self.next=next\n",
    "    \n",
    "    \n",
    "import numpy as np\n",
    "\n",
    "arr=np.random.randint(0,20,10)\n",
    "head=Node()\n",
    "tmp=head\n",
    "for i in arr:\n",
    "    tmp.value=i\n",
    "    tmp.next=Node()\n",
    "    print(i)\n",
    "    \n",
    "\n",
    "\n",
    "\n",
    "    \n",
    "while head.next:\n",
    "    print(head.value)\n",
    "    head=head.next\n",
    "arr"
   ]
  }
 ],
 "metadata": {
  "kernelspec": {
   "display_name": "Python 3",
   "language": "python",
   "name": "python3"
  },
  "language_info": {
   "codemirror_mode": {
    "name": "ipython",
    "version": 3
   },
   "file_extension": ".py",
   "mimetype": "text/x-python",
   "name": "python",
   "nbconvert_exporter": "python",
   "pygments_lexer": "ipython3",
   "version": "3.6.3"
  }
 },
 "nbformat": 4,
 "nbformat_minor": 2
}
