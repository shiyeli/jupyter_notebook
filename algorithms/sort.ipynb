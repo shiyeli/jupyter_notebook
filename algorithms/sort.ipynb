{
 "cells": [
  {
   "cell_type": "code",
   "execution_count": 20,
   "metadata": {},
   "outputs": [
    {
     "data": {
      "text/plain": [
       "(array([26, 30, 41, 31, 37,  6,  1, 32,  2, 13]),\n",
       " [1, 2, 6, 13, 26, 30, 31, 32, 37, 41])"
      ]
     },
     "execution_count": 20,
     "metadata": {},
     "output_type": "execute_result"
    }
   ],
   "source": [
    "# 快速排序：时间复杂度O(n*logn)\n",
    "\n",
    "def qsort(arr):\n",
    "    if len(arr)<2:\n",
    "        return arr\n",
    "    \n",
    "    base=arr[0]\n",
    "    smaller=filter(lambda x:x<base,arr)\n",
    "    bigger=filter(lambda x:x>base,arr)\n",
    "    return qsort(list(smaller))+[base]+qsort(list(bigger))\n",
    "\n",
    "import numpy as np\n",
    "arr=np.random.randint(0,50,10)\n",
    "arr,qsort(arr)"
   ]
  },
  {
   "cell_type": "code",
   "execution_count": null,
   "metadata": {},
   "outputs": [],
   "source": []
  }
 ],
 "metadata": {
  "kernelspec": {
   "display_name": "Python 3",
   "language": "python",
   "name": "python3"
  },
  "language_info": {
   "codemirror_mode": {
    "name": "ipython",
    "version": 3
   },
   "file_extension": ".py",
   "mimetype": "text/x-python",
   "name": "python",
   "nbconvert_exporter": "python",
   "pygments_lexer": "ipython3",
   "version": "3.6.3"
  }
 },
 "nbformat": 4,
 "nbformat_minor": 2
}
