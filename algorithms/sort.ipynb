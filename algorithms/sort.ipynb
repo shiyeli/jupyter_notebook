{
 "cells": [
  {
   "cell_type": "code",
   "execution_count": 32,
   "metadata": {},
   "outputs": [
    {
     "data": {
      "text/plain": [
       "([32, 45, 17, 32, 35, 43, 43, 41, 40, 33],\n",
       " [17, 32, 32, 33, 35, 40, 41, 43, 43, 45])"
      ]
     },
     "execution_count": 32,
     "metadata": {},
     "output_type": "execute_result"
    }
   ],
   "source": [
    "# 快速排序：时间复杂度O(n*logn)\n",
    "\n",
    "def qsort(arr):\n",
    "    if len(arr)<2:\n",
    "        return arr\n",
    "    \n",
    "    base = arr[0]\n",
    "    arr = arr[1:]\n",
    "    smaller=filter(lambda x:x<=base,arr)\n",
    "    bigger=filter(lambda x:x>base,arr)\n",
    "    return qsort(list(smaller))+[base]+qsort(list(bigger))\n",
    "\n",
    "import numpy as np\n",
    "arr=np.random.randint(0,50,10)\n",
    "arr = [32, 45, 17, 32, 35, 43, 43, 41, 40, 33]\n",
    "arr,qsort(arr)"
   ]
  },
  {
   "cell_type": "code",
   "execution_count": 29,
   "metadata": {},
   "outputs": [
    {
     "data": {
      "text/plain": [
       "[3, 1]"
      ]
     },
     "execution_count": 29,
     "metadata": {},
     "output_type": "execute_result"
    }
   ],
   "source": [
    "a = [1,3,1]\n",
    "a.remove(1)\n",
    "a"
   ]
  }
 ],
 "metadata": {
  "kernelspec": {
   "display_name": "Python 3",
   "language": "python",
   "name": "python3"
  },
  "language_info": {
   "codemirror_mode": {
    "name": "ipython",
    "version": 3
   },
   "file_extension": ".py",
   "mimetype": "text/x-python",
   "name": "python",
   "nbconvert_exporter": "python",
   "pygments_lexer": "ipython3",
   "version": "3.6.3"
  }
 },
 "nbformat": 4,
 "nbformat_minor": 2
}
