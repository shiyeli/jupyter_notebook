{
 "cells": [
  {
   "cell_type": "markdown",
   "metadata": {},
   "source": [
    "[LRU Cache](https://zhuanlan.zhihu.com/p/35175401)\n",
    "\n",
    "LRU算法管理缓存数据（Least Recently Used,最近最久未使用法）\n",
    "最近使用的页面数据会在未来一段时期内仍然被使用,已经很久没有使用的页面很有可能在未来较长的一段时间内仍然不会被使用\n",
    "https://www.jianshu.com/p/74a4efacb0a7\n",
    "一般是基于双向链表实现，但是考虑到避免在内存中大量拷贝操作，将数据存到hash map中"
   ]
  },
  {
   "cell_type": "code",
   "execution_count": 19,
   "metadata": {},
   "outputs": [
    {
     "data": {
      "text/plain": [
       "0.00016617774963378906"
      ]
     },
     "execution_count": 19,
     "metadata": {},
     "output_type": "execute_result"
    }
   ],
   "source": [
    "\n",
    "def cache(func):\n",
    "    data={}\n",
    "    def wrapper(n):\n",
    "        if n not in data:\n",
    "            data[n]=func(n)\n",
    "        return data[n]\n",
    "    return wrapper\n",
    "\n",
    "\"\"\"\n",
    "cache before:1.1854779720306396\n",
    "cache after:0.00016617774963378906\n",
    "\"\"\"           \n",
    "@cache\n",
    "def fib(n):\n",
    "    if n<=2:\n",
    "        return 1\n",
    "    return fib(n-2)+fib(n-1)\n",
    "\n",
    "\n",
    "import time\n",
    "t=time.time()\n",
    "fib(33)\n",
    "time.time()-t"
   ]
  },
  {
   "cell_type": "code",
   "execution_count": 4,
   "metadata": {
    "scrolled": true
   },
   "outputs": [
    {
     "name": "stdout",
     "output_type": "stream",
     "text": [
      "['D', 'a', '8', 'c', 'D', 'd', 'B', 'C', 'c', '5']\n",
      "[None]\n",
      "D{} None\n",
      "a{} None\n",
      "8{} None\n",
      "c{} None\n",
      "D{} <__main__.Node object at 0x10a74bf98>\n",
      "d{} None\n",
      "B{} None\n",
      "C{} None\n",
      "c{} <__main__.Node object at 0x10a75b278>\n",
      "5{} None\n",
      "[None]\n"
     ]
    }
   ],
   "source": [
    "# LRU cache\n",
    "from functools import wraps\n",
    "import json\n",
    "\n",
    "class Node():\n",
    "    def __init__(self,prev=None,next=None,key=None,value=None):\n",
    "        self.prev,self.next,self.key,self.value=prev,next,key,value\n",
    "        \n",
    "\n",
    "class DoubleDirectionLink():\n",
    "    def __init__(self):\n",
    "        node=Node()\n",
    "        node.prev,node.next=node,node\n",
    "        self.rootnode=node\n",
    "        self.cache = {}\n",
    "        \n",
    "    def headnode(self):\n",
    "        return self.rootnode.next\n",
    "    \n",
    "    @property\n",
    "    def tailnode(self):\n",
    "        return self.rootnode.prev\n",
    "    \n",
    "    def remove(self,node):\n",
    "        if node is self.rootnode:\n",
    "            return\n",
    "        else:\n",
    "            node.prev.next=node.next\n",
    "            node.next.prev=node.prev\n",
    "            \n",
    "    def append(self,node):\n",
    "        tailnode=self.tailnode()\n",
    "        tailnode.next=node\n",
    "        node.next=self.rootnode\n",
    "        node.prev=tailnode\n",
    "        self.rootnode.prev=node\n",
    "    \n",
    "    def append2head(self, node):\n",
    "        node.next = self.rootnode.next\n",
    "        node.prev = self.rootnode\n",
    "        self.rootnode.next.prev = node\n",
    "        self.rootnode.next = node\n",
    "    \n",
    "    def node2head(self, node):\n",
    "        # 将节点移动到队首\n",
    "        if self.rootnode.next == node:\n",
    "            return\n",
    "        self.remove(node)\n",
    "        self.append2head(node)\n",
    "        \n",
    "    def print_value(self):\n",
    "        values = []\n",
    "        node = self.rootnode.next\n",
    "        if not node:\n",
    "            return\n",
    "        values.append(node.value)\n",
    "        while node.next and node.next != self.rootnode:\n",
    "            values.append(node.next.value)\n",
    "            node = node.next\n",
    "        print(values)\n",
    "        \n",
    "    \n",
    "class LRUCache():\n",
    "    def __init__(self,capacity=5):\n",
    "        self.capacity=capacity\n",
    "        self.cache={}\n",
    "        self.access=DoubleDirectionLink()\n",
    "        \n",
    "    def __call__(self,func):\n",
    "        @wraps(func)\n",
    "        def wrapper(*args,**kargs):\n",
    "            # 从cache中获取缓存，如果存在则直接返回缓存结果，并且将此缓存移到队头\n",
    "            # 如果不存在，则调用func，将计算结果返回，并且将结果插入到队头，判断是否超出容量，超出则淘汰队尾节点\n",
    "            key = ''.join(args) + json.dumps(kargs)\n",
    "            node = self.cache.get(key)\n",
    "            print(key, node)\n",
    "\n",
    "            if node:\n",
    "                self.access.node2head(node)\n",
    "            else:\n",
    "                value = func(*args,**kargs)\n",
    "                node = Node(key=key, value=value)\n",
    "                self.access.append2head(node)\n",
    "                self.cache.update({key: node})\n",
    "                if len(self.cache) > self.capacity:\n",
    "                    self.cache.pop(self.access.tailnode.key)\n",
    "                    self.access.remove(self.access.tailnode)\n",
    "            return node.value\n",
    "        self.access.print_value()\n",
    "        return wrapper\n",
    "        \n",
    "        \n",
    "# 测试\n",
    "from string import hexdigits\n",
    "import random\n",
    "\n",
    "data = [random.choice(hexdigits) for _ in range(10)]\n",
    "print(data)\n",
    "\n",
    "@LRUCache()\n",
    "def test_func(char):\n",
    "    value = char + '_lru'\n",
    "    return value\n",
    "\n",
    "\n",
    "for char in data:\n",
    "    test_func(char) \n",
    "LRUCache().access.print_value()"
   ]
  },
  {
   "cell_type": "code",
   "execution_count": 34,
   "metadata": {},
   "outputs": [
    {
     "data": {
      "text/plain": [
       "4294967296"
      ]
     },
     "execution_count": 34,
     "metadata": {},
     "output_type": "execute_result"
    }
   ],
   "source": [
    "pow(4, 16)"
   ]
  }
 ],
 "metadata": {
  "kernelspec": {
   "display_name": "Python 3",
   "language": "python",
   "name": "python3"
  },
  "language_info": {
   "codemirror_mode": {
    "name": "ipython",
    "version": 3
   },
   "file_extension": ".py",
   "mimetype": "text/x-python",
   "name": "python",
   "nbconvert_exporter": "python",
   "pygments_lexer": "ipython3",
   "version": "3.6.3"
  }
 },
 "nbformat": 4,
 "nbformat_minor": 2
}
