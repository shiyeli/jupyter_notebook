{
 "cells": [
  {
   "cell_type": "code",
   "execution_count": 13,
   "metadata": {},
   "outputs": [
    {
     "name": "stdout",
     "output_type": "stream",
     "text": [
      "[1, 1, 1, 1]\n",
      "datas- [1, 1, 1, 1]\n",
      "datas- [1, 1, 1]\n",
      "[1, 1, 2]\n",
      "datas- [1, 1, 2]\n",
      "datas- [1, 1]\n",
      "[1, 2, 1]\n",
      "datas- [1, 2, 1]\n",
      "datas- [1, 2]\n",
      "[1, 3]\n",
      "datas- [1, 3]\n",
      "datas- [1]\n",
      "[2, 1, 1]\n",
      "datas- [2, 1, 1]\n",
      "datas- [2, 1]\n",
      "[2, 2]\n",
      "datas- [2, 2]\n",
      "datas- [2]\n",
      "[3, 1]\n",
      "datas- [3, 1]\n",
      "datas- [3]\n",
      "[4]\n",
      "datas- [4]\n"
     ]
    }
   ],
   "source": [
    "# https://www.imooc.com/video/20880\n",
    "# 回溯法： 将一个数字拆分成几个数字只和，所有情况列出\n",
    "\"\"\"\n",
    "总体思路就是将问题拆分，拆分成一个小问题（小问题容易解决） + 大问题 （大问题才用递归继续拆分）\n",
    "\"\"\"\n",
    "\n",
    "datas = []\n",
    "def search(rest):\n",
    "    if rest <= 0:\n",
    "        print(datas)\n",
    "    for i in range(1, rest + 1):\n",
    "        \n",
    "        datas.append(i)  # 小问题\n",
    "        search(rest - i)  # 大问题\n",
    "        \n",
    "        # 将数据清楚除，以便下一轮重新尝试\n",
    "        datas.pop()\n",
    "    \n",
    "search(4)"
   ]
  },
  {
   "cell_type": "code",
   "execution_count": 12,
   "metadata": {},
   "outputs": [
    {
     "name": "stdout",
     "output_type": "stream",
     "text": [
      "[1, 2, 3]\n",
      "[1, 3, 2]\n",
      "[2, 1, 3]\n",
      "[2, 3, 1]\n",
      "[3, 1, 2]\n",
      "[3, 2, 1]\n"
     ]
    }
   ],
   "source": [
    "# 全排列 3!\n",
    "\n",
    "datas = []\n",
    "\n",
    "def search(rest):\n",
    "    if len(rest) == 0:\n",
    "        print(datas)\n",
    "    else:\n",
    "        for data in rest:\n",
    "            datas.append(data)\n",
    "            rest_datas = rest[:]\n",
    "            rest_datas.remove(data)\n",
    "            search(rest_datas)\n",
    "            datas.pop()\n",
    "    \n",
    "search([1, 2, 3])\n"
   ]
  },
  {
   "cell_type": "code",
   "execution_count": 14,
   "metadata": {},
   "outputs": [
    {
     "ename": "TypeError",
     "evalue": "append() takes exactly one argument (0 given)",
     "output_type": "error",
     "traceback": [
      "\u001b[0;31m---------------------------------------------------------------------------\u001b[0m",
      "\u001b[0;31mTypeError\u001b[0m                                 Traceback (most recent call last)",
      "\u001b[0;32m<ipython-input-14-3f97545bc0c4>\u001b[0m in \u001b[0;36m<module>\u001b[0;34m()\u001b[0m\n\u001b[1;32m     18\u001b[0m     \u001b[0mdatas\u001b[0m\u001b[0;34m.\u001b[0m\u001b[0mappend\u001b[0m\u001b[0;34m(\u001b[0m\u001b[0;34m)\u001b[0m\u001b[0;34m\u001b[0m\u001b[0m\n\u001b[1;32m     19\u001b[0m \u001b[0;34m\u001b[0m\u001b[0m\n\u001b[0;32m---> 20\u001b[0;31m \u001b[0msearch\u001b[0m\u001b[0;34m(\u001b[0m\u001b[0mpyramid\u001b[0m\u001b[0;34m,\u001b[0m \u001b[0;36m0\u001b[0m\u001b[0;34m,\u001b[0m \u001b[0;36m0\u001b[0m\u001b[0;34m)\u001b[0m\u001b[0;34m\u001b[0m\u001b[0m\n\u001b[0m",
      "\u001b[0;32m<ipython-input-14-3f97545bc0c4>\u001b[0m in \u001b[0;36msearch\u001b[0;34m(rest, x, y)\u001b[0m\n\u001b[1;32m     16\u001b[0m         \u001b[0mprint\u001b[0m\u001b[0;34m(\u001b[0m\u001b[0mdatas\u001b[0m\u001b[0;34m)\u001b[0m\u001b[0;34m\u001b[0m\u001b[0m\n\u001b[1;32m     17\u001b[0m         \u001b[0;32mreturn\u001b[0m\u001b[0;34m\u001b[0m\u001b[0m\n\u001b[0;32m---> 18\u001b[0;31m     \u001b[0mdatas\u001b[0m\u001b[0;34m.\u001b[0m\u001b[0mappend\u001b[0m\u001b[0;34m(\u001b[0m\u001b[0;34m)\u001b[0m\u001b[0;34m\u001b[0m\u001b[0m\n\u001b[0m\u001b[1;32m     19\u001b[0m \u001b[0;34m\u001b[0m\u001b[0m\n\u001b[1;32m     20\u001b[0m \u001b[0msearch\u001b[0m\u001b[0;34m(\u001b[0m\u001b[0mpyramid\u001b[0m\u001b[0;34m,\u001b[0m \u001b[0;36m0\u001b[0m\u001b[0;34m,\u001b[0m \u001b[0;36m0\u001b[0m\u001b[0;34m)\u001b[0m\u001b[0;34m\u001b[0m\u001b[0m\n",
      "\u001b[0;31mTypeError\u001b[0m: append() takes exactly one argument (0 given)"
     ]
    }
   ],
   "source": [
    "# 数字金字塔 https://www.imooc.com/video/20881\n",
    "# 回溯法\n",
    "\n",
    "pyramid = [\n",
    "    [13],\n",
    "    [11, 8],\n",
    "    [12, 7, 26],\n",
    "    [6, 14, 15, 8],\n",
    "    [12, 17, 13, 24, 11]\n",
    "]\n",
    "\n",
    "datas = []\n",
    "\n",
    "def search(rest, x, y):\n",
    "    if len(rest) == 0:\n",
    "        print(datas)\n",
    "        return\n",
    "    \n",
    "    datas.append()\n",
    "    \n",
    "search(pyramid, 0, 0)    "
   ]
  }
 ],
 "metadata": {
  "kernelspec": {
   "display_name": "Python 3",
   "language": "python",
   "name": "python3"
  },
  "language_info": {
   "codemirror_mode": {
    "name": "ipython",
    "version": 3
   },
   "file_extension": ".py",
   "mimetype": "text/x-python",
   "name": "python",
   "nbconvert_exporter": "python",
   "pygments_lexer": "ipython3",
   "version": "3.6.3"
  }
 },
 "nbformat": 4,
 "nbformat_minor": 2
}
