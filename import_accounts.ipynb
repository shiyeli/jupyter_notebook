{
 "cells": [
  {
   "cell_type": "code",
   "execution_count": 47,
   "metadata": {},
   "outputs": [
    {
     "name": "stdout",
     "output_type": "stream",
     "text": [
      "[{'username': 'CN_HR_0001', 'first_name': '胡松'}, {'username': 'CN_HR_0002', 'first_name': '万晓'}, {'username': 'CN_HR_0035', 'first_name': '张华'}, {'username': 'CN_HR_0065', 'first_name': '刘文娟'}, {'username': 'CN_HR_0074', 'first_name': '罗坤'}, {'username': 'CN_HR_0199', 'first_name': '周维平'}, {'username': 'CN_HR_0207', 'first_name': '史文魁'}, {'username': 'CN_HR_0212', 'first_name': '何美霖'}, {'username': 'CN_HR_0235', 'first_name': '张艳'}, {'username': 'CN_HR_0257', 'first_name': '陈秋霞'}, {'username': 'CN_HR_0302', 'first_name': '陈汉章'}, {'username': 'CN_HR_0308', 'first_name': '李罗'}, {'username': 'CN_HR_0312', 'first_name': '张帅'}, {'username': 'CN_HR_0313', 'first_name': '陈佳'}, {'username': 'CN_HR_0314', 'first_name': '苟婷'}, {'username': 'CN_HR_0320', 'first_name': '蒲宇轩'}, {'username': 'CN_HR_0321', 'first_name': '周小梅'}, {'username': 'CN_HR_0327', 'first_name': '宋竹梅'}, {'username': 'CN_HR_0329', 'first_name': '张晓敏'}, {'username': 'CN_HR_0333', 'first_name': '叶显勇'}, {'username': 'CN_HR_0339', 'first_name': '李天'}, {'username': 'CN_HR_0342', 'first_name': '王维维'}, {'username': 'CN_HR_0345', 'first_name': '叶飞'}, {'username': 'CN_HR_0350', 'first_name': '余乐'}, {'username': 'CN_HR_0351', 'first_name': '苏川夏'}, {'username': 'CN_HR_0352', 'first_name': '都莉'}, {'username': 'CN_HR_0355', 'first_name': '何帆'}, {'username': 'CN_HR_0363', 'first_name': '张莉英'}, {'username': 'CN_HR_0364', 'first_name': '周智雄'}, {'username': 'CN_HR_0366', 'first_name': '武晓坤'}, {'username': 'CN_HR_0373', 'first_name': '吕伟东'}, {'username': 'CN_HR_0374', 'first_name': '刘伊倩'}, {'username': 'CN_HR_0375', 'first_name': '李宁川'}, {'username': 'CN_HR_0377', 'first_name': '龙佳琪'}, {'username': 'CN_HR_0380', 'first_name': '潘婷玉'}, {'username': 'CN_HR_0381', 'first_name': '杜肖肖'}, {'username': 'CN_HR_0382', 'first_name': '李俊韬'}, {'username': 'CN_HR_0383', 'first_name': '王先定'}, {'username': 'CN_HR_0384', 'first_name': '甘淳井'}, {'username': 'CN_HR_0386', 'first_name': '陈诗淼'}, {'username': 'CN_HR_3004', 'first_name': '平塚'}, {'username': 'CN_HR_5005', 'first_name': '杨建'}, {'username': 'CN_HR_5006', 'first_name': '陈礼学'}]\n"
     ]
    }
   ],
   "source": [
    "import pandas as pd\n",
    "import numpy as np\n",
    "\n",
    "path='/Users/yexianyong/Downloads/2017-11-终版.xlsx'\n",
    "data=pd.read_excel(path,sheet_name='MemberList')\n",
    "data=data[[\"工号\",\"姓名\"]]\n",
    "user_list=[]\n",
    "for i in data.index:\n",
    "    user_list.append(dict(username=data[\"工号\"][i],first_name=data[\"姓名\"][i]))\n",
    "\n",
    "print(user_list)\n",
    "             \n"
   ]
  }
 ],
 "metadata": {
  "kernelspec": {
   "display_name": "Python 3",
   "language": "python",
   "name": "python3"
  },
  "language_info": {
   "codemirror_mode": {
    "name": "ipython",
    "version": 3
   },
   "file_extension": ".py",
   "mimetype": "text/x-python",
   "name": "python",
   "nbconvert_exporter": "python",
   "pygments_lexer": "ipython3",
   "version": "3.6.1"
  }
 },
 "nbformat": 4,
 "nbformat_minor": 2
}
